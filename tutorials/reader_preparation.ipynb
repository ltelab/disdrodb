{
 "cells": [
  {
   "cell_type": "markdown",
   "source": [
    "# Step-by-step guide for DISDRODB reader preparation "
   ],
   "metadata": {}
  },
  {
   "cell_type": "markdown",
   "source": [
    "This notebook aims to guide you through creating the reader for the raw files logged by a disdrometer device. \n",
    "\n",
    "In first place, this notebook will provide you with functions that will display and enable to investigate the content of your raw data files.\n",
    "\n",
    "Successively, you will define a series of parameters defining the reader behaviour. These pieces of code will be consolidated in the [`reader_template.py`](https://github.com/ltelab/disdrodb/blob/main/disdrodb/L0/readers/reader_template.py) file to generate a DISDRODB L0 reader.\n"
   ],
   "metadata": {}
  },
  {
   "cell_type": "markdown",
   "source": [
    "In this notebook, we uses a lightweight dataset for illustratory purposes. You may use it and readapt it for exploring your own dataset, when preparing a new reader. \n",
    "\n",
    "Following the documentation chapter [`Add a new reader`](https://disdrodb.readthedocs.io/en/latest/readers.html#adding-a-new-reader), we will follow 3 steps: \n",
    "\n",
    "* Step 1 : We set up the data within the correct directory structure\n",
    "* Step 2 : We start digging into the data to set up the transformation parameters.\n",
    "* Step 3 : We create the new reader"
   ],
   "metadata": {}
  },
  {
   "cell_type": "markdown",
   "source": [
    "## Step 1: Set up the data within the correct directory structure"
   ],
   "metadata": {}
  },
  {
   "cell_type": "markdown",
   "source": [
    "For this example, you will find the sample data in the folder [`data`](https://github.com/ltelab/disdrodb/tree/main/data/DISDRODB) of the [disdrodb](https://github.com/ltelab/disdrodb/) repository. \n",
    "It corresponds to some measurements taken at two stations (`station_name_1` and `station_name_2`) during two days of a field campaign led by the EPFL LTE laboratory.\n",
    "\n",
    "```\n",
    "  📁 DISDRODB\n",
    "  ├── 📁 Raw\n",
    "      ├── 📁 DATA_SOURCE\n",
    "          ├── 📁 CAMPAIGN_NAME\n",
    "              ├── 📁 data\n",
    "                  ├── 📁 station_name_1\n",
    "                  ├── 📜 file60_20180817.dat.gz\n",
    "                  ├── 📜 file60_20180818.dat.gz\n",
    "                  ├── 📁 station_name_2\n",
    "                  ├── 📜 file61_20180817.dat.gz\n",
    "                  ├── 📜 file61_20180818.dat.gz\n",
    "              ├── 📁 info\n",
    "              ├── 📁 issue\n",
    "                  ├── 📜 station_name_1.yml\n",
    "                  ├── 📜 station_name_2.yml\n",
    "              ├── 📁 metadata\n",
    "                  ├── 📜 station_name_1.yml\n",
    "                  ├── 📜 station_name_2.yml\n",
    "```\n",
    "\n",
    "This structure fulfills the requirements described in the documentation to [Add a new reader](https://disdrodb.readthedocs.io/en/latest/readers.html#adding-a-new-reader).\n"
   ],
   "metadata": {}
  },
  {
   "cell_type": "markdown",
   "source": [
    "## Step 2: Read and analyse the data"
   ],
   "metadata": {}
  },
  {
   "cell_type": "markdown",
   "source": [
    "Once the dataset and metadata are set up in the correct directory structure, we can now start analysing our data. \n",
    "\n",
    "The objectives of Step 2 is to define the specifications to read the raw data into a dataframe and ensure that the dataframe columns match the DISDRODB standards.\n",
    "\n",
    "At the end, you should be able to generate Apache Parquet files from your input raw data. \n"
   ],
   "metadata": {}
  },
  {
   "cell_type": "markdown",
   "source": [
    "--------------------------------------------------------------------\n",
    "Here we load the modules and packages required. *Nothing must be changed here*. "
   ],
   "metadata": {}
  },
  {
   "cell_type": "code",
   "execution_count": 2,
   "source": [
    "# Define project root directory\n",
    "import os\n",
    "\n",
    "root_path = os.path.dirname(\n",
    "    os.getcwd()\n",
    ")  # something like /home/ghiggi/Projects/disdrodb\n",
    "print(root_path)"
   ],
   "outputs": [
    {
     "output_type": "stream",
     "name": "stdout",
     "text": [
      "/home/ghiggi/Projects/disdrodb\n"
     ]
    }
   ],
   "metadata": {}
  },
  {
   "cell_type": "code",
   "execution_count": 3,
   "source": [
    "# If you didn't installed disdrodb, but you are running this tutorial within the cloned repository:\n",
    "import sys\n",
    "\n",
    "sys.path.insert(0, root_path)"
   ],
   "outputs": [],
   "metadata": {}
  },
  {
   "cell_type": "code",
   "execution_count": 4,
   "source": [
    "import logging\n",
    "import pandas as pd\n",
    "\n",
    "# Directory\n",
    "from disdrodb.l0.io import (\n",
    "    get_campaign_name,\n",
    "    create_initial_directory_structure,\n",
    "    get_raw_file_list,\n",
    ")\n",
    "\n",
    "\n",
    "# Tools to develop the reader\n",
    "from disdrodb.l0.template_tools import (\n",
    "    check_column_names,\n",
    "    infer_df_str_column_names,\n",
    "    print_df_first_n_rows,\n",
    "    print_df_random_n_rows,\n",
    "    print_df_column_names,\n",
    "    print_valid_L0_column_names,\n",
    "    get_df_columns_unique_values_dict,\n",
    "    print_df_columns_unique_values,\n",
    "    print_df_summary_stats,\n",
    ")\n",
    "\n",
    "# L0A processing\n",
    "from disdrodb.l0.l0a_processing import (\n",
    "    read_raw_data,\n",
    "    read_raw_file_list,\n",
    "    cast_column_dtypes,\n",
    "    write_l0a,\n",
    ")\n",
    "\n",
    "# L0B processing\n",
    "from disdrodb.l0.l0b_processing import (\n",
    "    retrieve_l0b_arrays,\n",
    "    create_l0b_from_l0a,\n",
    "    set_encodings,\n",
    ")\n",
    "\n",
    "# Metadata\n",
    "from disdrodb.l0.metadata import read_metadata\n",
    "\n",
    "# Standards\n",
    "from disdrodb.l0.check_standards import check_sensor_name, check_l0a_column_names"
   ],
   "outputs": [],
   "metadata": {}
  },
  {
   "cell_type": "markdown",
   "source": [
    "**1. Define paths and running parameters**\n",
    "\n",
    "In the following section, define the raw and processed directory paths. *This may be changed if you are using another folder*.\n",
    "\n",
    "NB:\n",
    "- In the real use case, the `DATA_SOURCE` and `CAMPAIGN_NAME`should be replaced by meaningul names ! \n",
    "- The `raw_dir` and `processed_dir` must end with the same `CAMPAIGN_NAME` (in upper case format)"
   ],
   "metadata": {}
  },
  {
   "cell_type": "code",
   "execution_count": 13,
   "source": [
    "disdrodb_dir = os.path.join(root_path, \"data\", \"DISDRODB\")\n",
    "raw_dir = os.path.join(disdrodb_dir, \"Raw\", \"DATA_SOURCE\", \"CAMPAIGN_NAME\")\n",
    "processed_dir = os.path.join(disdrodb_dir, \"Processed\", \"DATA_SOURCE\", \"CAMPAIGN_NAME\")\n",
    "assert os.path.exists(raw_dir), \"Raw directory does not exist\"\n",
    "print(f\"raw_dir: {raw_dir}\")\n",
    "print(f\"processed_dir: {processed_dir}\")"
   ],
   "outputs": [
    {
     "output_type": "stream",
     "name": "stdout",
     "text": [
      "raw_dir: /home/ghiggi/Projects/disdrodb/data/DISDRODB/Raw/DATA_SOURCE/CAMPAIGN_NAME\n",
      "processed_dir: /home/ghiggi/Projects/disdrodb/data/DISDRODB/Processed/DATA_SOURCE/CAMPAIGN_NAME\n"
     ]
    }
   ],
   "metadata": {}
  },
  {
   "cell_type": "markdown",
   "source": [
    "Then we define the reader execution parameters. When the new reader will be created, these parameters will be become the reader function arguments. Please have a look [at the documentation](https://disdrodb.readthedocs.io/en/latest/readers.html#runing-a-reader) to get a full description. "
   ],
   "metadata": {}
  },
  {
   "cell_type": "code",
   "execution_count": 15,
   "source": [
    "force = True\n",
    "parallel = False\n",
    "verbose = True\n",
    "debugging_mode = True\n",
    "sensor_name = \"OTT_Parsivel\""
   ],
   "outputs": [],
   "metadata": {}
  },
  {
   "cell_type": "markdown",
   "source": [
    "**3. Selection of the station**\n",
    "\n",
    "In this example, we choose  to implement and run the reader for station `station_name_1`. However, feel free to change the station name :)"
   ],
   "metadata": {}
  },
  {
   "cell_type": "code",
   "execution_count": 16,
   "source": [
    "station_name = \"station_name_1\""
   ],
   "outputs": [],
   "metadata": {}
  },
  {
   "cell_type": "markdown",
   "source": [
    "**2. Initialization**\n",
    "\n",
    "We initiate some checks, and get some variable. *Nothing must be changed here.*"
   ],
   "metadata": {}
  },
  {
   "cell_type": "code",
   "execution_count": 17,
   "source": [
    "# Create directory structure\n",
    "create_initial_directory_structure(\n",
    "    raw_dir=raw_dir,\n",
    "    processed_dir=processed_dir,\n",
    "    station_name=station_name,\n",
    "    force=force,\n",
    "    verbose=False,\n",
    ")"
   ],
   "outputs": [],
   "metadata": {}
  },
  {
   "cell_type": "markdown",
   "source": [
    "Please, be sure to run the cell above only one time. If it is run many times, the log file blocks the folder creation.  "
   ],
   "metadata": {}
  },
  {
   "cell_type": "markdown",
   "source": [
    "**4. Get the list of file to process**\n",
    "\n",
    "We now list all files that are in selected station.\n",
    "Here we need to specify the [glob pattern](https://en.wikipedia.org/wiki/Glob_(programming)) that enables to select all the relevant data files. \n",
    "Since the files in this case study are named like `file<XXX>_<TIME>.dat.gz`, we define the glob pattern `\"*.dat*\"`. Note that also `\"*.dat.gz\"` or `\"file*.dat.gz\"` would have worked.\n"
   ],
   "metadata": {}
  },
  {
   "cell_type": "code",
   "execution_count": 18,
   "source": [
    "glob_pattern = \"*.dat*\"\n",
    "\n",
    "file_list = get_raw_file_list(\n",
    "    raw_dir=raw_dir,\n",
    "    station_name=station_name,\n",
    "    glob_patterns=glob_pattern,\n",
    "    verbose=verbose,\n",
    "    debugging_mode=debugging_mode,\n",
    ")\n",
    "\n",
    "print(file_list)"
   ],
   "outputs": [
    {
     "output_type": "stream",
     "name": "stdout",
     "text": [
      " -  - 2 files to process in /home/ghiggi/Projects/disdrodb/data/DISDRODB/Raw/DATA_SOURCE/CAMPAIGN_NAME/data/station_name_1\n",
      "['/home/ghiggi/Projects/disdrodb/data/DISDRODB/Raw/DATA_SOURCE/CAMPAIGN_NAME/data/station_name_1/file60_20180817.dat.gz', '/home/ghiggi/Projects/disdrodb/data/DISDRODB/Raw/DATA_SOURCE/CAMPAIGN_NAME/data/station_name_1/file60_20180818.dat.gz']\n"
     ]
    }
   ],
   "metadata": {}
  },
  {
   "cell_type": "markdown",
   "source": [
    "🚨 The `glob_pattern` variable definition will be transferred into the [`reader_template.py`](https://github.com/ltelab/disdrodb/blob/main/disdrodb/L0/readers/reader_template.py) file at the end of this notebook.\n",
    "\n",
    "Remember that the `glob_pattern` variable depends on the file extensions of your dataset !!!"
   ],
   "metadata": {}
  },
  {
   "cell_type": "markdown",
   "source": [
    "**5. Retrieve metadata from YAML files**\n",
    "\n",
    "We now load the metadata file of the station.\n",
    "\n",
    "If the name of the station is not correctly defined, an error message is raised."
   ],
   "metadata": {}
  },
  {
   "cell_type": "code",
   "execution_count": 19,
   "source": [
    "# Retrieve metadata\n",
    "attrs = read_metadata(campaign_dir=raw_dir, station_name=station_name)\n",
    "\n",
    "# Retrieve sensor name\n",
    "sensor_name = attrs[\"sensor_name\"]\n",
    "check_sensor_name(sensor_name)"
   ],
   "outputs": [],
   "metadata": {}
  },
  {
   "cell_type": "markdown",
   "source": [
    "**5. Load the one file into a dataframe**\n",
    "\n",
    "In the  `reader_kwargs` dictionary, you may set [any arguments](https://pandas.pydata.org/docs/reference/api/pandas.read_csv.html) that need to be passed to read the raw text file into a `pandas.DataFrame`."
   ],
   "metadata": {}
  },
  {
   "cell_type": "code",
   "execution_count": 20,
   "source": [
    "reader_kwargs = {}\n",
    "\n",
    "# - Define delimiter\n",
    "reader_kwargs[\"delimiter\"] = \",\"\n",
    "\n",
    "# - Avoid first column to become df index !!!\n",
    "reader_kwargs[\"index_col\"] = False\n",
    "\n",
    "# Since column names are expected to be passed explicitly, header is set to None\n",
    "reader_kwargs[\"header\"] = None\n",
    "\n",
    "# - Number of rows to be skipped at the beginning of the file\n",
    "reader_kwargs[\"skiprows\"] = None\n",
    "\n",
    "# - Define behaviour when encountering bad lines\n",
    "reader_kwargs[\"on_bad_lines\"] = \"skip\"\n",
    "\n",
    "# - Define reader engine\n",
    "#   - C engine is faster\n",
    "#   - Python engine is more feature-complete\n",
    "reader_kwargs[\"engine\"] = \"python\"\n",
    "\n",
    "# - Define on-the-fly decompression of on-disk data\n",
    "#   - Available: gzip, bz2, zip\n",
    "reader_kwargs[\"compression\"] = \"infer\"\n",
    "\n",
    "# - Strings to recognize as NA/NaN and replace with standard NA flags\n",
    "#   - Already included: ‘#N/A’, ‘#N/A N/A’, ‘#NA’, ‘-1.#IND’, ‘-1.#QNAN’,\n",
    "#                       ‘-NaN’, ‘-nan’, ‘1.#IND’, ‘1.#QNAN’, ‘<NA>’, ‘N/A’,\n",
    "#                       ‘NA’, ‘NULL’, ‘NaN’, ‘n/a’, ‘nan’, ‘null’\n",
    "reader_kwargs[\"na_values\"] = [\"na\", \"\", \"error\"]\n",
    "\n",
    "\n",
    "# -----------------------------------------------------------\n",
    "# Select first file\n",
    "filepath = file_list[0]\n",
    "\n",
    "# Try to read the raw file\n",
    "df_raw = read_raw_data(filepath, column_names=None, reader_kwargs=reader_kwargs)\n",
    "# Print the dataframe\n",
    "print(f\"Dataframe for the file {os.path.basename(filepath)} :\")\n",
    "display(df_raw)"
   ],
   "outputs": [
    {
     "output_type": "stream",
     "name": "stdout",
     "text": [
      "Dataframe for the file file60_20180817.dat.gz :\n"
     ]
    },
    {
     "output_type": "display_data",
     "data": {
      "text/plain": [
       "          0          1           2                    3    4   5         6   \\\n",
       "0     362511  4612.0301  00847.4977  01-08-2018 12:44:30  NaN  OK  0000.000   \n",
       "1     362512  4612.0301  00847.4978  01-08-2018 12:45:01  NaN  OK  0000.000   \n",
       "2     362513  4612.0301  00847.4985  01-08-2018 12:45:30  NaN  OK  0000.000   \n",
       "3     362514  4612.0305  00847.4990  01-08-2018 12:46:01  NaN  OK  0000.000   \n",
       "4     362515  4612.0303  00847.4992  01-08-2018 12:46:31  NaN  OK  0000.000   \n",
       "...      ...        ...         ...                  ...  ...  ..       ...   \n",
       "4736  367249  4612.0313  00847.4956  03-08-2018 04:13:25  NaN  OK  0000.000   \n",
       "4737  367250  4612.0313  00847.4955  03-08-2018 04:13:56  NaN  OK  0000.000   \n",
       "4738  367251  4612.0313  00847.4955  03-08-2018 04:14:26  NaN  OK  0000.000   \n",
       "4739  367252  4612.0313  00847.4954  03-08-2018 04:14:55  NaN  OK  0000.000   \n",
       "4740  367253  4612.0313  00847.4954  03-08-2018 04:15:25  NaN  OK  0000.000   \n",
       "\n",
       "           7   8   9   ...   14    15    16 17       18   19  \\\n",
       "0     0056.49  00  00  ...  035  0.06  24.9  0  005.649  000   \n",
       "1     0056.49  00  00  ...  035  0.06  24.9  0  005.649  000   \n",
       "2     0056.49  00  00  ...  035  0.06  24.9  0  005.649  000   \n",
       "3     0056.49  00  00  ...  035  0.05  24.9  0  005.649  000   \n",
       "4     0056.49  00  00  ...  034  0.06  24.9  0  005.649  000   \n",
       "...       ...  ..  ..  ...  ...   ...   ... ..      ...  ...   \n",
       "4736  0056.71  00  00  ...  015  0.06  24.9  0  005.671  000   \n",
       "4737  0056.71  00  00  ...  015  0.06  24.9  0  005.671  000   \n",
       "4738  0056.71  00  00  ...  015  0.06  24.9  0  005.671  000   \n",
       "4739  0056.71  00  00  ...  015  0.06  24.9  0  005.671  000   \n",
       "4740  0056.71  00  00  ...  015  0.07  24.9  0  005.671  000   \n",
       "\n",
       "                                                     20  \\\n",
       "0     -9.999,-9.999,-9.999,-9.999,-9.999,-9.999,-9.9...   \n",
       "1     -9.999,-9.999,-9.999,-9.999,-9.999,-9.999,-9.9...   \n",
       "2     -9.999,-9.999,-9.999,-9.999,-9.999,-9.999,-9.9...   \n",
       "3     -9.999,-9.999,-9.999,-9.999,-9.999,-9.999,-9.9...   \n",
       "4     -9.999,-9.999,-9.999,-9.999,-9.999,-9.999,-9.9...   \n",
       "...                                                 ...   \n",
       "4736  -9.999,-9.999,-9.999,-9.999,-9.999,-9.999,-9.9...   \n",
       "4737  -9.999,-9.999,-9.999,-9.999,-9.999,-9.999,-9.9...   \n",
       "4738  -9.999,-9.999,-9.999,-9.999,-9.999,-9.999,-9.9...   \n",
       "4739  -9.999,-9.999,-9.999,-9.999,-9.999,-9.999,-9.9...   \n",
       "4740  -9.999,-9.999,-9.999,-9.999,-9.999,-9.999,-9.9...   \n",
       "\n",
       "                                                     21  \\\n",
       "0     00.000,00.000,00.000,00.000,00.000,00.000,00.0...   \n",
       "1     00.000,00.000,00.000,00.000,00.000,00.000,00.0...   \n",
       "2     00.000,00.000,00.000,00.000,00.000,00.000,00.0...   \n",
       "3     00.000,00.000,00.000,00.000,00.000,00.000,00.0...   \n",
       "4     00.000,00.000,00.000,00.000,00.000,00.000,00.0...   \n",
       "...                                                 ...   \n",
       "4736  00.000,00.000,00.000,00.000,00.000,00.000,00.0...   \n",
       "4737  00.000,00.000,00.000,00.000,00.000,00.000,00.0...   \n",
       "4738  00.000,00.000,00.000,00.000,00.000,00.000,00.0...   \n",
       "4739  00.000,00.000,00.000,00.000,00.000,00.000,00.0...   \n",
       "4740  00.000,00.000,00.000,00.000,00.000,00.000,00.0...   \n",
       "\n",
       "                                                     22 23  \n",
       "0     000,000,000,000,000,000,000,000,000,000,000,00...  0  \n",
       "1     000,000,000,000,000,000,000,000,000,000,000,00...  0  \n",
       "2     000,000,000,000,000,000,000,000,000,000,000,00...  0  \n",
       "3     000,000,000,000,000,000,000,000,000,000,000,00...  0  \n",
       "4     000,000,000,000,000,000,000,000,000,000,000,00...  0  \n",
       "...                                                 ... ..  \n",
       "4736  000,000,000,000,000,000,000,000,000,000,000,00...  0  \n",
       "4737  000,000,000,000,000,000,000,000,000,000,000,00...  0  \n",
       "4738  000,000,000,000,000,000,000,000,000,000,000,00...  0  \n",
       "4739  000,000,000,000,000,000,000,000,000,000,000,00...  0  \n",
       "4740  000,000,000,000,000,000,000,000,000,000,000,00...  0  \n",
       "\n",
       "[4741 rows x 24 columns]"
      ],
      "text/html": [
       "<div>\n",
       "<style scoped>\n",
       "    .dataframe tbody tr th:only-of-type {\n",
       "        vertical-align: middle;\n",
       "    }\n",
       "\n",
       "    .dataframe tbody tr th {\n",
       "        vertical-align: top;\n",
       "    }\n",
       "\n",
       "    .dataframe thead th {\n",
       "        text-align: right;\n",
       "    }\n",
       "</style>\n",
       "<table border=\"1\" class=\"dataframe\">\n",
       "  <thead>\n",
       "    <tr style=\"text-align: right;\">\n",
       "      <th></th>\n",
       "      <th>0</th>\n",
       "      <th>1</th>\n",
       "      <th>2</th>\n",
       "      <th>3</th>\n",
       "      <th>4</th>\n",
       "      <th>5</th>\n",
       "      <th>6</th>\n",
       "      <th>7</th>\n",
       "      <th>8</th>\n",
       "      <th>9</th>\n",
       "      <th>...</th>\n",
       "      <th>14</th>\n",
       "      <th>15</th>\n",
       "      <th>16</th>\n",
       "      <th>17</th>\n",
       "      <th>18</th>\n",
       "      <th>19</th>\n",
       "      <th>20</th>\n",
       "      <th>21</th>\n",
       "      <th>22</th>\n",
       "      <th>23</th>\n",
       "    </tr>\n",
       "  </thead>\n",
       "  <tbody>\n",
       "    <tr>\n",
       "      <th>0</th>\n",
       "      <td>362511</td>\n",
       "      <td>4612.0301</td>\n",
       "      <td>00847.4977</td>\n",
       "      <td>01-08-2018 12:44:30</td>\n",
       "      <td>NaN</td>\n",
       "      <td>OK</td>\n",
       "      <td>0000.000</td>\n",
       "      <td>0056.49</td>\n",
       "      <td>00</td>\n",
       "      <td>00</td>\n",
       "      <td>...</td>\n",
       "      <td>035</td>\n",
       "      <td>0.06</td>\n",
       "      <td>24.9</td>\n",
       "      <td>0</td>\n",
       "      <td>005.649</td>\n",
       "      <td>000</td>\n",
       "      <td>-9.999,-9.999,-9.999,-9.999,-9.999,-9.999,-9.9...</td>\n",
       "      <td>00.000,00.000,00.000,00.000,00.000,00.000,00.0...</td>\n",
       "      <td>000,000,000,000,000,000,000,000,000,000,000,00...</td>\n",
       "      <td>0</td>\n",
       "    </tr>\n",
       "    <tr>\n",
       "      <th>1</th>\n",
       "      <td>362512</td>\n",
       "      <td>4612.0301</td>\n",
       "      <td>00847.4978</td>\n",
       "      <td>01-08-2018 12:45:01</td>\n",
       "      <td>NaN</td>\n",
       "      <td>OK</td>\n",
       "      <td>0000.000</td>\n",
       "      <td>0056.49</td>\n",
       "      <td>00</td>\n",
       "      <td>00</td>\n",
       "      <td>...</td>\n",
       "      <td>035</td>\n",
       "      <td>0.06</td>\n",
       "      <td>24.9</td>\n",
       "      <td>0</td>\n",
       "      <td>005.649</td>\n",
       "      <td>000</td>\n",
       "      <td>-9.999,-9.999,-9.999,-9.999,-9.999,-9.999,-9.9...</td>\n",
       "      <td>00.000,00.000,00.000,00.000,00.000,00.000,00.0...</td>\n",
       "      <td>000,000,000,000,000,000,000,000,000,000,000,00...</td>\n",
       "      <td>0</td>\n",
       "    </tr>\n",
       "    <tr>\n",
       "      <th>2</th>\n",
       "      <td>362513</td>\n",
       "      <td>4612.0301</td>\n",
       "      <td>00847.4985</td>\n",
       "      <td>01-08-2018 12:45:30</td>\n",
       "      <td>NaN</td>\n",
       "      <td>OK</td>\n",
       "      <td>0000.000</td>\n",
       "      <td>0056.49</td>\n",
       "      <td>00</td>\n",
       "      <td>00</td>\n",
       "      <td>...</td>\n",
       "      <td>035</td>\n",
       "      <td>0.06</td>\n",
       "      <td>24.9</td>\n",
       "      <td>0</td>\n",
       "      <td>005.649</td>\n",
       "      <td>000</td>\n",
       "      <td>-9.999,-9.999,-9.999,-9.999,-9.999,-9.999,-9.9...</td>\n",
       "      <td>00.000,00.000,00.000,00.000,00.000,00.000,00.0...</td>\n",
       "      <td>000,000,000,000,000,000,000,000,000,000,000,00...</td>\n",
       "      <td>0</td>\n",
       "    </tr>\n",
       "    <tr>\n",
       "      <th>3</th>\n",
       "      <td>362514</td>\n",
       "      <td>4612.0305</td>\n",
       "      <td>00847.4990</td>\n",
       "      <td>01-08-2018 12:46:01</td>\n",
       "      <td>NaN</td>\n",
       "      <td>OK</td>\n",
       "      <td>0000.000</td>\n",
       "      <td>0056.49</td>\n",
       "      <td>00</td>\n",
       "      <td>00</td>\n",
       "      <td>...</td>\n",
       "      <td>035</td>\n",
       "      <td>0.05</td>\n",
       "      <td>24.9</td>\n",
       "      <td>0</td>\n",
       "      <td>005.649</td>\n",
       "      <td>000</td>\n",
       "      <td>-9.999,-9.999,-9.999,-9.999,-9.999,-9.999,-9.9...</td>\n",
       "      <td>00.000,00.000,00.000,00.000,00.000,00.000,00.0...</td>\n",
       "      <td>000,000,000,000,000,000,000,000,000,000,000,00...</td>\n",
       "      <td>0</td>\n",
       "    </tr>\n",
       "    <tr>\n",
       "      <th>4</th>\n",
       "      <td>362515</td>\n",
       "      <td>4612.0303</td>\n",
       "      <td>00847.4992</td>\n",
       "      <td>01-08-2018 12:46:31</td>\n",
       "      <td>NaN</td>\n",
       "      <td>OK</td>\n",
       "      <td>0000.000</td>\n",
       "      <td>0056.49</td>\n",
       "      <td>00</td>\n",
       "      <td>00</td>\n",
       "      <td>...</td>\n",
       "      <td>034</td>\n",
       "      <td>0.06</td>\n",
       "      <td>24.9</td>\n",
       "      <td>0</td>\n",
       "      <td>005.649</td>\n",
       "      <td>000</td>\n",
       "      <td>-9.999,-9.999,-9.999,-9.999,-9.999,-9.999,-9.9...</td>\n",
       "      <td>00.000,00.000,00.000,00.000,00.000,00.000,00.0...</td>\n",
       "      <td>000,000,000,000,000,000,000,000,000,000,000,00...</td>\n",
       "      <td>0</td>\n",
       "    </tr>\n",
       "    <tr>\n",
       "      <th>...</th>\n",
       "      <td>...</td>\n",
       "      <td>...</td>\n",
       "      <td>...</td>\n",
       "      <td>...</td>\n",
       "      <td>...</td>\n",
       "      <td>...</td>\n",
       "      <td>...</td>\n",
       "      <td>...</td>\n",
       "      <td>...</td>\n",
       "      <td>...</td>\n",
       "      <td>...</td>\n",
       "      <td>...</td>\n",
       "      <td>...</td>\n",
       "      <td>...</td>\n",
       "      <td>...</td>\n",
       "      <td>...</td>\n",
       "      <td>...</td>\n",
       "      <td>...</td>\n",
       "      <td>...</td>\n",
       "      <td>...</td>\n",
       "      <td>...</td>\n",
       "    </tr>\n",
       "    <tr>\n",
       "      <th>4736</th>\n",
       "      <td>367249</td>\n",
       "      <td>4612.0313</td>\n",
       "      <td>00847.4956</td>\n",
       "      <td>03-08-2018 04:13:25</td>\n",
       "      <td>NaN</td>\n",
       "      <td>OK</td>\n",
       "      <td>0000.000</td>\n",
       "      <td>0056.71</td>\n",
       "      <td>00</td>\n",
       "      <td>00</td>\n",
       "      <td>...</td>\n",
       "      <td>015</td>\n",
       "      <td>0.06</td>\n",
       "      <td>24.9</td>\n",
       "      <td>0</td>\n",
       "      <td>005.671</td>\n",
       "      <td>000</td>\n",
       "      <td>-9.999,-9.999,-9.999,-9.999,-9.999,-9.999,-9.9...</td>\n",
       "      <td>00.000,00.000,00.000,00.000,00.000,00.000,00.0...</td>\n",
       "      <td>000,000,000,000,000,000,000,000,000,000,000,00...</td>\n",
       "      <td>0</td>\n",
       "    </tr>\n",
       "    <tr>\n",
       "      <th>4737</th>\n",
       "      <td>367250</td>\n",
       "      <td>4612.0313</td>\n",
       "      <td>00847.4955</td>\n",
       "      <td>03-08-2018 04:13:56</td>\n",
       "      <td>NaN</td>\n",
       "      <td>OK</td>\n",
       "      <td>0000.000</td>\n",
       "      <td>0056.71</td>\n",
       "      <td>00</td>\n",
       "      <td>00</td>\n",
       "      <td>...</td>\n",
       "      <td>015</td>\n",
       "      <td>0.06</td>\n",
       "      <td>24.9</td>\n",
       "      <td>0</td>\n",
       "      <td>005.671</td>\n",
       "      <td>000</td>\n",
       "      <td>-9.999,-9.999,-9.999,-9.999,-9.999,-9.999,-9.9...</td>\n",
       "      <td>00.000,00.000,00.000,00.000,00.000,00.000,00.0...</td>\n",
       "      <td>000,000,000,000,000,000,000,000,000,000,000,00...</td>\n",
       "      <td>0</td>\n",
       "    </tr>\n",
       "    <tr>\n",
       "      <th>4738</th>\n",
       "      <td>367251</td>\n",
       "      <td>4612.0313</td>\n",
       "      <td>00847.4955</td>\n",
       "      <td>03-08-2018 04:14:26</td>\n",
       "      <td>NaN</td>\n",
       "      <td>OK</td>\n",
       "      <td>0000.000</td>\n",
       "      <td>0056.71</td>\n",
       "      <td>00</td>\n",
       "      <td>00</td>\n",
       "      <td>...</td>\n",
       "      <td>015</td>\n",
       "      <td>0.06</td>\n",
       "      <td>24.9</td>\n",
       "      <td>0</td>\n",
       "      <td>005.671</td>\n",
       "      <td>000</td>\n",
       "      <td>-9.999,-9.999,-9.999,-9.999,-9.999,-9.999,-9.9...</td>\n",
       "      <td>00.000,00.000,00.000,00.000,00.000,00.000,00.0...</td>\n",
       "      <td>000,000,000,000,000,000,000,000,000,000,000,00...</td>\n",
       "      <td>0</td>\n",
       "    </tr>\n",
       "    <tr>\n",
       "      <th>4739</th>\n",
       "      <td>367252</td>\n",
       "      <td>4612.0313</td>\n",
       "      <td>00847.4954</td>\n",
       "      <td>03-08-2018 04:14:55</td>\n",
       "      <td>NaN</td>\n",
       "      <td>OK</td>\n",
       "      <td>0000.000</td>\n",
       "      <td>0056.71</td>\n",
       "      <td>00</td>\n",
       "      <td>00</td>\n",
       "      <td>...</td>\n",
       "      <td>015</td>\n",
       "      <td>0.06</td>\n",
       "      <td>24.9</td>\n",
       "      <td>0</td>\n",
       "      <td>005.671</td>\n",
       "      <td>000</td>\n",
       "      <td>-9.999,-9.999,-9.999,-9.999,-9.999,-9.999,-9.9...</td>\n",
       "      <td>00.000,00.000,00.000,00.000,00.000,00.000,00.0...</td>\n",
       "      <td>000,000,000,000,000,000,000,000,000,000,000,00...</td>\n",
       "      <td>0</td>\n",
       "    </tr>\n",
       "    <tr>\n",
       "      <th>4740</th>\n",
       "      <td>367253</td>\n",
       "      <td>4612.0313</td>\n",
       "      <td>00847.4954</td>\n",
       "      <td>03-08-2018 04:15:25</td>\n",
       "      <td>NaN</td>\n",
       "      <td>OK</td>\n",
       "      <td>0000.000</td>\n",
       "      <td>0056.71</td>\n",
       "      <td>00</td>\n",
       "      <td>00</td>\n",
       "      <td>...</td>\n",
       "      <td>015</td>\n",
       "      <td>0.07</td>\n",
       "      <td>24.9</td>\n",
       "      <td>0</td>\n",
       "      <td>005.671</td>\n",
       "      <td>000</td>\n",
       "      <td>-9.999,-9.999,-9.999,-9.999,-9.999,-9.999,-9.9...</td>\n",
       "      <td>00.000,00.000,00.000,00.000,00.000,00.000,00.0...</td>\n",
       "      <td>000,000,000,000,000,000,000,000,000,000,000,00...</td>\n",
       "      <td>0</td>\n",
       "    </tr>\n",
       "  </tbody>\n",
       "</table>\n",
       "<p>4741 rows × 24 columns</p>\n",
       "</div>"
      ]
     },
     "metadata": {}
    }
   ],
   "metadata": {}
  },
  {
   "cell_type": "code",
   "execution_count": 22,
   "source": [
    "print(\"Column names:\", df_raw.columns)\n",
    "print(\"Row Index:\", df_raw.index)"
   ],
   "outputs": [
    {
     "output_type": "stream",
     "name": "stdout",
     "text": [
      "Column names: Int64Index([ 0,  1,  2,  3,  4,  5,  6,  7,  8,  9, 10, 11, 12, 13, 14, 15, 16,\n",
      "            17, 18, 19, 20, 21, 22, 23],\n",
      "           dtype='int64')\n",
      "Row Index: RangeIndex(start=0, stop=4741, step=1)\n"
     ]
    }
   ],
   "metadata": {}
  },
  {
   "cell_type": "markdown",
   "source": [
    "Here we expect the `df_raw` to have: \n",
    "- numeric column names (i.e.  `Int64Index`) \n",
    "- numeric row index (i.e. `RangeIndex`)  \n",
    "\n",
    "If the structure of the dataframe looks fine (no header and no row index), we are on the good track ! \n"
   ],
   "metadata": {}
  },
  {
   "cell_type": "markdown",
   "source": [
    "Depending on the schema of your data, this `reader_kwargs` dictionary may be fairly different from the one above. \n",
    "\n",
    "> 🚨 The `reader_kwargs` dictionary will be transferred to the [`reader_template.py`](https://github.com/ltelab/disdrodb/blob/main/disdrodb/L0/readers/reader_template.py) file at the end of this notebook. "
   ],
   "metadata": {}
  },
  {
   "cell_type": "markdown",
   "source": [
    "**6. Data exploration**\n",
    "\n",
    "The settings for the loading of the data is now ready, we can now load one file and analyse its content to see if there is any errors or inconsistencies.\n",
    "\n",
    "Here are some instructions : \n",
    "\n",
    "* Do not assign column names to the dataframe columns yet\n",
    "* Do not assign a dtype to the dataframe columns yet\n",
    "* Possibly look at multiple files ;)\n"
   ],
   "metadata": {}
  },
  {
   "cell_type": "markdown",
   "source": [
    "We print the content first 3 rows :\n",
    " (*Feel free to change the value of n to see more/less rows*)"
   ],
   "metadata": {}
  },
  {
   "cell_type": "code",
   "execution_count": 23,
   "source": [
    "print_df_first_n_rows(df_raw, n=2, column_names=False)"
   ],
   "outputs": [
    {
     "output_type": "stream",
     "name": "stdout",
     "text": [
      " - Column 0 :\n",
      "      ['362511' '362512' '362513']\n",
      " - Column 1 :\n",
      "      ['4612.0301' '4612.0301' '4612.0301']\n",
      " - Column 2 :\n",
      "      ['00847.4977' '00847.4978' '00847.4985']\n",
      " - Column 3 :\n",
      "      ['01-08-2018 12:44:30' '01-08-2018 12:45:01' '01-08-2018 12:45:30']\n",
      " - Column 4 :\n",
      "      [nan nan nan]\n",
      " - Column 5 :\n",
      "      ['OK' 'OK' 'OK']\n",
      " - Column 6 :\n",
      "      ['0000.000' '0000.000' '0000.000']\n",
      " - Column 7 :\n",
      "      ['0056.49' '0056.49' '0056.49']\n",
      " - Column 8 :\n",
      "      ['00' '00' '00']\n",
      " - Column 9 :\n",
      "      ['00' '00' '00']\n",
      " - Column 10 :\n",
      "      ['-9.999' '-9.999' '-9.999']\n",
      " - Column 11 :\n",
      "      ['9999' '9999' '9999']\n",
      " - Column 12 :\n",
      "      ['12611' '12617' '12600']\n",
      " - Column 13 :\n",
      "      ['00000' '00000' '00000']\n",
      " - Column 14 :\n",
      "      ['035' '035' '035']\n",
      " - Column 15 :\n",
      "      ['0.06' '0.06' '0.06']\n",
      " - Column 16 :\n",
      "      ['24.9' '24.9' '24.9']\n",
      " - Column 17 :\n",
      "      ['0' '0' '0']\n",
      " - Column 18 :\n",
      "      ['005.649' '005.649' '005.649']\n",
      " - Column 19 :\n",
      "      ['000' '000' '000']\n",
      " - Column 20 :\n",
      "      ['-9.999,-9.999,-9.999,-9.999,-9.999,-9.999,-9.999,-9.999,-9.999,-9.999,-9.999,-9.999,-9.999,-9.999,-9.999,-9.999,-9.999,-9.999,-9.999,-9.999,-9.999,-9.999,-9.999,-9.999,-9.999,-9.999,-9.999,-9.999,-9.999,-9.999,-9.999,-9.999,'\n",
      " '-9.999,-9.999,-9.999,-9.999,-9.999,-9.999,-9.999,-9.999,-9.999,-9.999,-9.999,-9.999,-9.999,-9.999,-9.999,-9.999,-9.999,-9.999,-9.999,-9.999,-9.999,-9.999,-9.999,-9.999,-9.999,-9.999,-9.999,-9.999,-9.999,-9.999,-9.999,-9.999,'\n",
      " '-9.999,-9.999,-9.999,-9.999,-9.999,-9.999,-9.999,-9.999,-9.999,-9.999,-9.999,-9.999,-9.999,-9.999,-9.999,-9.999,-9.999,-9.999,-9.999,-9.999,-9.999,-9.999,-9.999,-9.999,-9.999,-9.999,-9.999,-9.999,-9.999,-9.999,-9.999,-9.999,']\n",
      " - Column 21 :\n",
      "      ['00.000,00.000,00.000,00.000,00.000,00.000,00.000,00.000,00.000,00.000,00.000,00.000,00.000,00.000,00.000,00.000,00.000,00.000,00.000,00.000,00.000,00.000,00.000,00.000,00.000,00.000,00.000,00.000,00.000,00.000,00.000,00.000,'\n",
      " '00.000,00.000,00.000,00.000,00.000,00.000,00.000,00.000,00.000,00.000,00.000,00.000,00.000,00.000,00.000,00.000,00.000,00.000,00.000,00.000,00.000,00.000,00.000,00.000,00.000,00.000,00.000,00.000,00.000,00.000,00.000,00.000,'\n",
      " '00.000,00.000,00.000,00.000,00.000,00.000,00.000,00.000,00.000,00.000,00.000,00.000,00.000,00.000,00.000,00.000,00.000,00.000,00.000,00.000,00.000,00.000,00.000,00.000,00.000,00.000,00.000,00.000,00.000,00.000,00.000,00.000,']\n",
      " - Column 22 :\n",
      "      ['000,000,000,000,000,000,000,000,000,000,000,000,000,000,000,000,000,000,000,000,000,000,000,000,000,000,000,000,000,000,000,000,000,000,000,000,000,000,000,000,000,000,000,000,000,000,000,000,000,000,000,000,000,000,000,000,000,000,000,000,000,000,000,000,000,000,000,000,000,000,000,000,000,000,000,000,000,000,000,000,000,000,000,000,000,000,000,000,000,000,000,000,000,000,000,000,000,000,000,000,000,000,000,000,000,000,000,000,000,000,000,000,000,000,000,000,000,000,000,000,000,000,000,000,000,000,000,000,000,000,000,000,000,000,000,000,000,000,000,000,000,000,000,000,000,000,000,000,000,000,000,000,000,000,000,000,000,000,000,000,000,000,000,000,000,000,000,000,000,000,000,000,000,000,000,000,000,000,000,000,000,000,000,000,000,000,000,000,000,000,000,000,000,000,000,000,000,000,000,000,000,000,000,000,000,000,000,000,000,000,000,000,000,000,000,000,000,000,000,000,000,000,000,000,000,000,000,000,000,000,000,000,000,000,000,000,000,000,000,000,000,000,000,000,000,000,000,000,000,000,000,000,000,000,000,000,000,000,000,000,000,000,000,000,000,000,000,000,000,000,000,000,000,000,000,000,000,000,000,000,000,000,000,000,000,000,000,000,000,000,000,000,000,000,000,000,000,000,000,000,000,000,000,000,000,000,000,000,000,000,000,000,000,000,000,000,000,000,000,000,000,000,000,000,000,000,000,000,000,000,000,000,000,000,000,000,000,000,000,000,000,000,000,000,000,000,000,000,000,000,000,000,000,000,000,000,000,000,000,000,000,000,000,000,000,000,000,000,000,000,000,000,000,000,000,000,000,000,000,000,000,000,000,000,000,000,000,000,000,000,000,000,000,000,000,000,000,000,000,000,000,000,000,000,000,000,000,000,000,000,000,000,000,000,000,000,000,000,000,000,000,000,000,000,000,000,000,000,000,000,000,000,000,000,000,000,000,000,000,000,000,000,000,000,000,000,000,000,000,000,000,000,000,000,000,000,000,000,000,000,000,000,000,000,000,000,000,000,000,000,000,000,000,000,000,000,000,000,000,000,000,000,000,000,000,000,000,000,000,000,000,000,000,000,000,000,000,000,000,000,000,000,000,000,000,000,000,000,000,000,000,000,000,000,000,000,000,000,000,000,000,000,000,000,000,000,000,000,000,000,000,000,000,000,000,000,000,000,000,000,000,000,000,000,000,000,000,000,000,000,000,000,000,000,000,000,000,000,000,000,000,000,000,000,000,000,000,000,000,000,000,000,000,000,000,000,000,000,000,000,000,000,000,000,000,000,000,000,000,000,000,000,000,000,000,000,000,000,000,000,000,000,000,000,000,000,000,000,000,000,000,000,000,000,000,000,000,000,000,000,000,000,000,000,000,000,000,000,000,000,000,000,000,000,000,000,000,000,000,000,000,000,000,000,000,000,000,000,000,000,000,000,000,000,000,000,000,000,000,000,000,000,000,000,000,000,000,000,000,000,000,000,000,000,000,000,000,000,000,000,000,000,000,000,000,000,000,000,000,000,000,000,000,000,000,000,000,000,000,000,000,000,000,000,000,000,000,000,000,000,000,000,000,000,000,000,000,000,000,000,000,000,000,000,000,000,000,000,000,000,000,000,000,000,000,000,000,000,000,000,000,000,000,000,000,000,000,000,000,000,000,000,000,000,000,000,000,000,000,000,000,000,000,000,000,000,000,000,000,000,000,000,000,000,000,000,000,000,000,000,000,000,000,000,000,000,000,000,000,000,000,000,000,000,000,000,000,000,000,000,000,000,000,000,000,000,000,000,000,000,000,000,000,000,000,000,000,000,000,000,000,000,000,000,000,000,000,000,000,000,000,000,000,000,000,000,000,000,000,000,000,000,000,000,000,000,000,000,000,000,000,000,000,000,000,000,000,000,000,000,000,000,000,000,000,000,000,000,000,000,000,000,000,000,000,000,000,000,000,000,000,000,000,000,000,000,000,000,000,000,000,000,000,000,000,000,000,000,000,000,000,000,000,000,000,000,000,000,000,000,000,000,000,000,000,000,000,000,000,000,000,000,000,000,000,000,000,000,000,000,000,000,000,000,000,000,000,000,000,000,000,000,000,000,000,000,000,000,000,000,000,000,000,000,000,000,000,000,000,000,000,000,000,000,000,000,000,000,000,000,000,000,000,000,000,000,000,000,000,000,000,000,000,000,000,000,000,000,000,000,000,000,000,000,000,000,000,000,000,000,000,000,000,000,000,000,000,000,000,000,000,000,000,000,000,000,000,000,000,000,000,000,000,000,'\n",
      " '000,000,000,000,000,000,000,000,000,000,000,000,000,000,000,000,000,000,000,000,000,000,000,000,000,000,000,000,000,000,000,000,000,000,000,000,000,000,000,000,000,000,000,000,000,000,000,000,000,000,000,000,000,000,000,000,000,000,000,000,000,000,000,000,000,000,000,000,000,000,000,000,000,000,000,000,000,000,000,000,000,000,000,000,000,000,000,000,000,000,000,000,000,000,000,000,000,000,000,000,000,000,000,000,000,000,000,000,000,000,000,000,000,000,000,000,000,000,000,000,000,000,000,000,000,000,000,000,000,000,000,000,000,000,000,000,000,000,000,000,000,000,000,000,000,000,000,000,000,000,000,000,000,000,000,000,000,000,000,000,000,000,000,000,000,000,000,000,000,000,000,000,000,000,000,000,000,000,000,000,000,000,000,000,000,000,000,000,000,000,000,000,000,000,000,000,000,000,000,000,000,000,000,000,000,000,000,000,000,000,000,000,000,000,000,000,000,000,000,000,000,000,000,000,000,000,000,000,000,000,000,000,000,000,000,000,000,000,000,000,000,000,000,000,000,000,000,000,000,000,000,000,000,000,000,000,000,000,000,000,000,000,000,000,000,000,000,000,000,000,000,000,000,000,000,000,000,000,000,000,000,000,000,000,000,000,000,000,000,000,000,000,000,000,000,000,000,000,000,000,000,000,000,000,000,000,000,000,000,000,000,000,000,000,000,000,000,000,000,000,000,000,000,000,000,000,000,000,000,000,000,000,000,000,000,000,000,000,000,000,000,000,000,000,000,000,000,000,000,000,000,000,000,000,000,000,000,000,000,000,000,000,000,000,000,000,000,000,000,000,000,000,000,000,000,000,000,000,000,000,000,000,000,000,000,000,000,000,000,000,000,000,000,000,000,000,000,000,000,000,000,000,000,000,000,000,000,000,000,000,000,000,000,000,000,000,000,000,000,000,000,000,000,000,000,000,000,000,000,000,000,000,000,000,000,000,000,000,000,000,000,000,000,000,000,000,000,000,000,000,000,000,000,000,000,000,000,000,000,000,000,000,000,000,000,000,000,000,000,000,000,000,000,000,000,000,000,000,000,000,000,000,000,000,000,000,000,000,000,000,000,000,000,000,000,000,000,000,000,000,000,000,000,000,000,000,000,000,000,000,000,000,000,000,000,000,000,000,000,000,000,000,000,000,000,000,000,000,000,000,000,000,000,000,000,000,000,000,000,000,000,000,000,000,000,000,000,000,000,000,000,000,000,000,000,000,000,000,000,000,000,000,000,000,000,000,000,000,000,000,000,000,000,000,000,000,000,000,000,000,000,000,000,000,000,000,000,000,000,000,000,000,000,000,000,000,000,000,000,000,000,000,000,000,000,000,000,000,000,000,000,000,000,000,000,000,000,000,000,000,000,000,000,000,000,000,000,000,000,000,000,000,000,000,000,000,000,000,000,000,000,000,000,000,000,000,000,000,000,000,000,000,000,000,000,000,000,000,000,000,000,000,000,000,000,000,000,000,000,000,000,000,000,000,000,000,000,000,000,000,000,000,000,000,000,000,000,000,000,000,000,000,000,000,000,000,000,000,000,000,000,000,000,000,000,000,000,000,000,000,000,000,000,000,000,000,000,000,000,000,000,000,000,000,000,000,000,000,000,000,000,000,000,000,000,000,000,000,000,000,000,000,000,000,000,000,000,000,000,000,000,000,000,000,000,000,000,000,000,000,000,000,000,000,000,000,000,000,000,000,000,000,000,000,000,000,000,000,000,000,000,000,000,000,000,000,000,000,000,000,000,000,000,000,000,000,000,000,000,000,000,000,000,000,000,000,000,000,000,000,000,000,000,000,000,000,000,000,000,000,000,000,000,000,000,000,000,000,000,000,000,000,000,000,000,000,000,000,000,000,000,000,000,000,000,000,000,000,000,000,000,000,000,000,000,000,000,000,000,000,000,000,000,000,000,000,000,000,000,000,000,000,000,000,000,000,000,000,000,000,000,000,000,000,000,000,000,000,000,000,000,000,000,000,000,000,000,000,000,000,000,000,000,000,000,000,000,000,000,000,000,000,000,000,000,000,000,000,000,000,000,000,000,000,000,000,000,000,000,000,000,000,000,000,000,000,000,000,000,000,000,000,000,000,000,000,000,000,000,000,000,000,000,000,000,000,000,000,000,000,000,000,000,000,000,000,000,000,000,000,000,000,000,000,000,000,000,000,000,000,000,000,000,000,000,000,000,000,000,000,000,000,000,000,000,000,000,000,000,000,000,000,000,000,000,000,000,000,000,000,000,000,000,000,000,000,000,000,000,000,000,000,000,000,'\n",
      " '000,000,000,000,000,000,000,000,000,000,000,000,000,000,000,000,000,000,000,000,000,000,000,000,000,000,000,000,000,000,000,000,000,000,000,000,000,000,000,000,000,000,000,000,000,000,000,000,000,000,000,000,000,000,000,000,000,000,000,000,000,000,000,000,000,000,000,000,000,000,000,000,000,000,000,000,000,000,000,000,000,000,000,000,000,000,000,000,000,000,000,000,000,000,000,000,000,000,000,000,000,000,000,000,000,000,000,000,000,000,000,000,000,000,000,000,000,000,000,000,000,000,000,000,000,000,000,000,000,000,000,000,000,000,000,000,000,000,000,000,000,000,000,000,000,000,000,000,000,000,000,000,000,000,000,000,000,000,000,000,000,000,000,000,000,000,000,000,000,000,000,000,000,000,000,000,000,000,000,000,000,000,000,000,000,000,000,000,000,000,000,000,000,000,000,000,000,000,000,000,000,000,000,000,000,000,000,000,000,000,000,000,000,000,000,000,000,000,000,000,000,000,000,000,000,000,000,000,000,000,000,000,000,000,000,000,000,000,000,000,000,000,000,000,000,000,000,000,000,000,000,000,000,000,000,000,000,000,000,000,000,000,000,000,000,000,000,000,000,000,000,000,000,000,000,000,000,000,000,000,000,000,000,000,000,000,000,000,000,000,000,000,000,000,000,000,000,000,000,000,000,000,000,000,000,000,000,000,000,000,000,000,000,000,000,000,000,000,000,000,000,000,000,000,000,000,000,000,000,000,000,000,000,000,000,000,000,000,000,000,000,000,000,000,000,000,000,000,000,000,000,000,000,000,000,000,000,000,000,000,000,000,000,000,000,000,000,000,000,000,000,000,000,000,000,000,000,000,000,000,000,000,000,000,000,000,000,000,000,000,000,000,000,000,000,000,000,000,000,000,000,000,000,000,000,000,000,000,000,000,000,000,000,000,000,000,000,000,000,000,000,000,000,000,000,000,000,000,000,000,000,000,000,000,000,000,000,000,000,000,000,000,000,000,000,000,000,000,000,000,000,000,000,000,000,000,000,000,000,000,000,000,000,000,000,000,000,000,000,000,000,000,000,000,000,000,000,000,000,000,000,000,000,000,000,000,000,000,000,000,000,000,000,000,000,000,000,000,000,000,000,000,000,000,000,000,000,000,000,000,000,000,000,000,000,000,000,000,000,000,000,000,000,000,000,000,000,000,000,000,000,000,000,000,000,000,000,000,000,000,000,000,000,000,000,000,000,000,000,000,000,000,000,000,000,000,000,000,000,000,000,000,000,000,000,000,000,000,000,000,000,000,000,000,000,000,000,000,000,000,000,000,000,000,000,000,000,000,000,000,000,000,000,000,000,000,000,000,000,000,000,000,000,000,000,000,000,000,000,000,000,000,000,000,000,000,000,000,000,000,000,000,000,000,000,000,000,000,000,000,000,000,000,000,000,000,000,000,000,000,000,000,000,000,000,000,000,000,000,000,000,000,000,000,000,000,000,000,000,000,000,000,000,000,000,000,000,000,000,000,000,000,000,000,000,000,000,000,000,000,000,000,000,000,000,000,000,000,000,000,000,000,000,000,000,000,000,000,000,000,000,000,000,000,000,000,000,000,000,000,000,000,000,000,000,000,000,000,000,000,000,000,000,000,000,000,000,000,000,000,000,000,000,000,000,000,000,000,000,000,000,000,000,000,000,000,000,000,000,000,000,000,000,000,000,000,000,000,000,000,000,000,000,000,000,000,000,000,000,000,000,000,000,000,000,000,000,000,000,000,000,000,000,000,000,000,000,000,000,000,000,000,000,000,000,000,000,000,000,000,000,000,000,000,000,000,000,000,000,000,000,000,000,000,000,000,000,000,000,000,000,000,000,000,000,000,000,000,000,000,000,000,000,000,000,000,000,000,000,000,000,000,000,000,000,000,000,000,000,000,000,000,000,000,000,000,000,000,000,000,000,000,000,000,000,000,000,000,000,000,000,000,000,000,000,000,000,000,000,000,000,000,000,000,000,000,000,000,000,000,000,000,000,000,000,000,000,000,000,000,000,000,000,000,000,000,000,000,000,000,000,000,000,000,000,000,000,000,000,000,000,000,000,000,000,000,000,000,000,000,000,000,000,000,000,000,000,000,000,000,000,000,000,000,000,000,000,000,000,000,000,000,000,000,000,000,000,000,000,000,000,000,000,000,000,000,000,000,000,000,000,000,000,000,000,000,000,000,000,000,000,000,000,000,000,000,000,000,000,000,000,000,000,000,000,000,000,000,000,000,000,000,000,000,000,000,000,000,000,000,000,000,000,000,000,000,000,000,000,000,000,000,000,000,']\n",
      " - Column 23 :\n",
      "      ['0' '0' '0']\n"
     ]
    }
   ],
   "metadata": {}
  },
  {
   "cell_type": "code",
   "execution_count": 24,
   "source": [
    "df_raw.head(3)"
   ],
   "outputs": [
    {
     "output_type": "execute_result",
     "data": {
      "text/plain": [
       "       0          1           2                    3    4   5         6   \\\n",
       "0  362511  4612.0301  00847.4977  01-08-2018 12:44:30  NaN  OK  0000.000   \n",
       "1  362512  4612.0301  00847.4978  01-08-2018 12:45:01  NaN  OK  0000.000   \n",
       "2  362513  4612.0301  00847.4985  01-08-2018 12:45:30  NaN  OK  0000.000   \n",
       "\n",
       "        7   8   9   ...   14    15    16 17       18   19  \\\n",
       "0  0056.49  00  00  ...  035  0.06  24.9  0  005.649  000   \n",
       "1  0056.49  00  00  ...  035  0.06  24.9  0  005.649  000   \n",
       "2  0056.49  00  00  ...  035  0.06  24.9  0  005.649  000   \n",
       "\n",
       "                                                  20  \\\n",
       "0  -9.999,-9.999,-9.999,-9.999,-9.999,-9.999,-9.9...   \n",
       "1  -9.999,-9.999,-9.999,-9.999,-9.999,-9.999,-9.9...   \n",
       "2  -9.999,-9.999,-9.999,-9.999,-9.999,-9.999,-9.9...   \n",
       "\n",
       "                                                  21  \\\n",
       "0  00.000,00.000,00.000,00.000,00.000,00.000,00.0...   \n",
       "1  00.000,00.000,00.000,00.000,00.000,00.000,00.0...   \n",
       "2  00.000,00.000,00.000,00.000,00.000,00.000,00.0...   \n",
       "\n",
       "                                                  22 23  \n",
       "0  000,000,000,000,000,000,000,000,000,000,000,00...  0  \n",
       "1  000,000,000,000,000,000,000,000,000,000,000,00...  0  \n",
       "2  000,000,000,000,000,000,000,000,000,000,000,00...  0  \n",
       "\n",
       "[3 rows x 24 columns]"
      ],
      "text/html": [
       "<div>\n",
       "<style scoped>\n",
       "    .dataframe tbody tr th:only-of-type {\n",
       "        vertical-align: middle;\n",
       "    }\n",
       "\n",
       "    .dataframe tbody tr th {\n",
       "        vertical-align: top;\n",
       "    }\n",
       "\n",
       "    .dataframe thead th {\n",
       "        text-align: right;\n",
       "    }\n",
       "</style>\n",
       "<table border=\"1\" class=\"dataframe\">\n",
       "  <thead>\n",
       "    <tr style=\"text-align: right;\">\n",
       "      <th></th>\n",
       "      <th>0</th>\n",
       "      <th>1</th>\n",
       "      <th>2</th>\n",
       "      <th>3</th>\n",
       "      <th>4</th>\n",
       "      <th>5</th>\n",
       "      <th>6</th>\n",
       "      <th>7</th>\n",
       "      <th>8</th>\n",
       "      <th>9</th>\n",
       "      <th>...</th>\n",
       "      <th>14</th>\n",
       "      <th>15</th>\n",
       "      <th>16</th>\n",
       "      <th>17</th>\n",
       "      <th>18</th>\n",
       "      <th>19</th>\n",
       "      <th>20</th>\n",
       "      <th>21</th>\n",
       "      <th>22</th>\n",
       "      <th>23</th>\n",
       "    </tr>\n",
       "  </thead>\n",
       "  <tbody>\n",
       "    <tr>\n",
       "      <th>0</th>\n",
       "      <td>362511</td>\n",
       "      <td>4612.0301</td>\n",
       "      <td>00847.4977</td>\n",
       "      <td>01-08-2018 12:44:30</td>\n",
       "      <td>NaN</td>\n",
       "      <td>OK</td>\n",
       "      <td>0000.000</td>\n",
       "      <td>0056.49</td>\n",
       "      <td>00</td>\n",
       "      <td>00</td>\n",
       "      <td>...</td>\n",
       "      <td>035</td>\n",
       "      <td>0.06</td>\n",
       "      <td>24.9</td>\n",
       "      <td>0</td>\n",
       "      <td>005.649</td>\n",
       "      <td>000</td>\n",
       "      <td>-9.999,-9.999,-9.999,-9.999,-9.999,-9.999,-9.9...</td>\n",
       "      <td>00.000,00.000,00.000,00.000,00.000,00.000,00.0...</td>\n",
       "      <td>000,000,000,000,000,000,000,000,000,000,000,00...</td>\n",
       "      <td>0</td>\n",
       "    </tr>\n",
       "    <tr>\n",
       "      <th>1</th>\n",
       "      <td>362512</td>\n",
       "      <td>4612.0301</td>\n",
       "      <td>00847.4978</td>\n",
       "      <td>01-08-2018 12:45:01</td>\n",
       "      <td>NaN</td>\n",
       "      <td>OK</td>\n",
       "      <td>0000.000</td>\n",
       "      <td>0056.49</td>\n",
       "      <td>00</td>\n",
       "      <td>00</td>\n",
       "      <td>...</td>\n",
       "      <td>035</td>\n",
       "      <td>0.06</td>\n",
       "      <td>24.9</td>\n",
       "      <td>0</td>\n",
       "      <td>005.649</td>\n",
       "      <td>000</td>\n",
       "      <td>-9.999,-9.999,-9.999,-9.999,-9.999,-9.999,-9.9...</td>\n",
       "      <td>00.000,00.000,00.000,00.000,00.000,00.000,00.0...</td>\n",
       "      <td>000,000,000,000,000,000,000,000,000,000,000,00...</td>\n",
       "      <td>0</td>\n",
       "    </tr>\n",
       "    <tr>\n",
       "      <th>2</th>\n",
       "      <td>362513</td>\n",
       "      <td>4612.0301</td>\n",
       "      <td>00847.4985</td>\n",
       "      <td>01-08-2018 12:45:30</td>\n",
       "      <td>NaN</td>\n",
       "      <td>OK</td>\n",
       "      <td>0000.000</td>\n",
       "      <td>0056.49</td>\n",
       "      <td>00</td>\n",
       "      <td>00</td>\n",
       "      <td>...</td>\n",
       "      <td>035</td>\n",
       "      <td>0.06</td>\n",
       "      <td>24.9</td>\n",
       "      <td>0</td>\n",
       "      <td>005.649</td>\n",
       "      <td>000</td>\n",
       "      <td>-9.999,-9.999,-9.999,-9.999,-9.999,-9.999,-9.9...</td>\n",
       "      <td>00.000,00.000,00.000,00.000,00.000,00.000,00.0...</td>\n",
       "      <td>000,000,000,000,000,000,000,000,000,000,000,00...</td>\n",
       "      <td>0</td>\n",
       "    </tr>\n",
       "  </tbody>\n",
       "</table>\n",
       "<p>3 rows × 24 columns</p>\n",
       "</div>"
      ]
     },
     "metadata": {},
     "execution_count": 24
    }
   ],
   "metadata": {}
  },
  {
   "cell_type": "markdown",
   "source": [
    "We print the content of n rows picked randomly : "
   ],
   "metadata": {}
  },
  {
   "cell_type": "code",
   "execution_count": 25,
   "source": [
    "print_df_random_n_rows(df_raw, n=6, with_column_names=False)"
   ],
   "outputs": [
    {
     "output_type": "stream",
     "name": "stdout",
     "text": [
      "- Column 0 : ['365205' '363869' '366700' '366371' '366659' '363330']\n",
      "- Column 1 : ['4612.0319' '4612.0293' '4612.0293' '4612.0312' '4612.0305' '4612.0328']\n",
      "- Column 2 : ['00847.4989' '00847.4946' '00847.4936' '00847.4958' '00847.4923'\n",
      " '00847.4942']\n",
      "- Column 3 : ['02-08-2018 11:11:31' '02-08-2018 00:03:31' '02-08-2018 23:39:01'\n",
      " '02-08-2018 20:54:30' '02-08-2018 23:18:31' '01-08-2018 19:34:01']\n",
      "- Column 4 : [nan nan nan nan nan nan]\n",
      "- Column 5 : ['OK' 'OK' 'OK' 'OK' 'OK' 'OK']\n",
      "- Column 6 : ['0000.000' '0000.000' '0000.000' '0000.000' '0000.000' '0000.000']\n",
      "- Column 7 : ['0056.67' '0056.67' '0056.71' '0056.71' '0056.71' '0056.67']\n",
      "- Column 8 : ['00' '00' '00' '00' '00' '00']\n",
      "- Column 9 : ['00' '00' '00' '00' '00' '00']\n",
      "- Column 10 : ['-9.999' '-9.999' '-9.999' '-9.999' '-9.999' '-9.999']\n",
      "- Column 11 : ['9999' '9999' '9999' '9999' '9999' '9999']\n",
      "- Column 12 : ['12628' '12562' '11699' '12305' '11694' '12501']\n",
      "- Column 13 : ['00000' '00000' '00000' '00000' '00000' '00000']\n",
      "- Column 14 : ['032' '017' '016' '017' '016' '018']\n",
      "- Column 15 : ['0.05' '0.06' '0.06' '0.06' '0.05' '0.06']\n",
      "- Column 16 : ['24.9' '24.9' '24.9' '24.9' '24.9' '24.9']\n",
      "- Column 17 : ['0' '0' '0' '0' '0' '0']\n",
      "- Column 18 : ['005.667' '005.667' '005.671' '005.671' '005.671' '005.667']\n",
      "- Column 19 : ['000' '000' '000' '000' '000' '000']\n",
      "- Column 20 : ['-9.999,-9.999,-9.999,-9.999,-9.999,-9.999,-9.999,-9.999,-9.999,-9.999,-9.999,-9.999,-9.999,-9.999,-9.999,-9.999,-9.999,-9.999,-9.999,-9.999,-9.999,-9.999,-9.999,-9.999,-9.999,-9.999,-9.999,-9.999,-9.999,-9.999,-9.999,-9.999,'\n",
      " '-9.999,-9.999,-9.999,-9.999,-9.999,-9.999,-9.999,-9.999,-9.999,-9.999,-9.999,-9.999,-9.999,-9.999,-9.999,-9.999,-9.999,-9.999,-9.999,-9.999,-9.999,-9.999,-9.999,-9.999,-9.999,-9.999,-9.999,-9.999,-9.999,-9.999,-9.999,-9.999,'\n",
      " '-9.999,-9.999,-9.999,-9.999,-9.999,-9.999,-9.999,-9.999,-9.999,-9.999,-9.999,-9.999,-9.999,-9.999,-9.999,-9.999,-9.999,-9.999,-9.999,-9.999,-9.999,-9.999,-9.999,-9.999,-9.999,-9.999,-9.999,-9.999,-9.999,-9.999,-9.999,-9.999,'\n",
      " '-9.999,-9.999,-9.999,-9.999,-9.999,-9.999,-9.999,-9.999,-9.999,-9.999,-9.999,-9.999,-9.999,-9.999,-9.999,-9.999,-9.999,-9.999,-9.999,-9.999,-9.999,-9.999,-9.999,-9.999,-9.999,-9.999,-9.999,-9.999,-9.999,-9.999,-9.999,-9.999,'\n",
      " '-9.999,-9.999,-9.999,-9.999,-9.999,-9.999,-9.999,-9.999,-9.999,-9.999,-9.999,-9.999,-9.999,-9.999,-9.999,-9.999,-9.999,-9.999,-9.999,-9.999,-9.999,-9.999,-9.999,-9.999,-9.999,-9.999,-9.999,-9.999,-9.999,-9.999,-9.999,-9.999,'\n",
      " '-9.999,-9.999,-9.999,-9.999,-9.999,-9.999,-9.999,-9.999,-9.999,-9.999,-9.999,-9.999,-9.999,-9.999,-9.999,-9.999,-9.999,-9.999,-9.999,-9.999,-9.999,-9.999,-9.999,-9.999,-9.999,-9.999,-9.999,-9.999,-9.999,-9.999,-9.999,-9.999,']\n",
      "- Column 21 : ['00.000,00.000,00.000,00.000,00.000,00.000,00.000,00.000,00.000,00.000,00.000,00.000,00.000,00.000,00.000,00.000,00.000,00.000,00.000,00.000,00.000,00.000,00.000,00.000,00.000,00.000,00.000,00.000,00.000,00.000,00.000,00.000,'\n",
      " '00.000,00.000,00.000,00.000,00.000,00.000,00.000,00.000,00.000,00.000,00.000,00.000,00.000,00.000,00.000,00.000,00.000,00.000,00.000,00.000,00.000,00.000,00.000,00.000,00.000,00.000,00.000,00.000,00.000,00.000,00.000,00.000,'\n",
      " '00.000,00.000,00.000,00.000,00.000,00.000,00.000,00.000,00.000,00.000,00.000,00.000,00.000,00.000,00.000,00.000,00.000,00.000,00.000,00.000,00.000,00.000,00.000,00.000,00.000,00.000,00.000,00.000,00.000,00.000,00.000,00.000,'\n",
      " '00.000,00.000,00.000,00.000,00.000,00.000,00.000,00.000,00.000,00.000,00.000,00.000,00.000,00.000,00.000,00.000,00.000,00.000,00.000,00.000,00.000,00.000,00.000,00.000,00.000,00.000,00.000,00.000,00.000,00.000,00.000,00.000,'\n",
      " '00.000,00.000,00.000,00.000,00.000,00.000,00.000,00.000,00.000,00.000,00.000,00.000,00.000,00.000,00.000,00.000,00.000,00.000,00.000,00.000,00.000,00.000,00.000,00.000,00.000,00.000,00.000,00.000,00.000,00.000,00.000,00.000,'\n",
      " '00.000,00.000,00.000,00.000,00.000,00.000,00.000,00.000,00.000,00.000,00.000,00.000,00.000,00.000,00.000,00.000,00.000,00.000,00.000,00.000,00.000,00.000,00.000,00.000,00.000,00.000,00.000,00.000,00.000,00.000,00.000,00.000,']\n",
      "- Column 22 : ['000,000,000,000,000,000,000,000,000,000,000,000,000,000,000,000,000,000,000,000,000,000,000,000,000,000,000,000,000,000,000,000,000,000,000,000,000,000,000,000,000,000,000,000,000,000,000,000,000,000,000,000,000,000,000,000,000,000,000,000,000,000,000,000,000,000,000,000,000,000,000,000,000,000,000,000,000,000,000,000,000,000,000,000,000,000,000,000,000,000,000,000,000,000,000,000,000,000,000,000,000,000,000,000,000,000,000,000,000,000,000,000,000,000,000,000,000,000,000,000,000,000,000,000,000,000,000,000,000,000,000,000,000,000,000,000,000,000,000,000,000,000,000,000,000,000,000,000,000,000,000,000,000,000,000,000,000,000,000,000,000,000,000,000,000,000,000,000,000,000,000,000,000,000,000,000,000,000,000,000,000,000,000,000,000,000,000,000,000,000,000,000,000,000,000,000,000,000,000,000,000,000,000,000,000,000,000,000,000,000,000,000,000,000,000,000,000,000,000,000,000,000,000,000,000,000,000,000,000,000,000,000,000,000,000,000,000,000,000,000,000,000,000,000,000,000,000,000,000,000,000,000,000,000,000,000,000,000,000,000,000,000,000,000,000,000,000,000,000,000,000,000,000,000,000,000,000,000,000,000,000,000,000,000,000,000,000,000,000,000,000,000,000,000,000,000,000,000,000,000,000,000,000,000,000,000,000,000,000,000,000,000,000,000,000,000,000,000,000,000,000,000,000,000,000,000,000,000,000,000,000,000,000,000,000,000,000,000,000,000,000,000,000,000,000,000,000,000,000,000,000,000,000,000,000,000,000,000,000,000,000,000,000,000,000,000,000,000,000,000,000,000,000,000,000,000,000,000,000,000,000,000,000,000,000,000,000,000,000,000,000,000,000,000,000,000,000,000,000,000,000,000,000,000,000,000,000,000,000,000,000,000,000,000,000,000,000,000,000,000,000,000,000,000,000,000,000,000,000,000,000,000,000,000,000,000,000,000,000,000,000,000,000,000,000,000,000,000,000,000,000,000,000,000,000,000,000,000,000,000,000,000,000,000,000,000,000,000,000,000,000,000,000,000,000,000,000,000,000,000,000,000,000,000,000,000,000,000,000,000,000,000,000,000,000,000,000,000,000,000,000,000,000,000,000,000,000,000,000,000,000,000,000,000,000,000,000,000,000,000,000,000,000,000,000,000,000,000,000,000,000,000,000,000,000,000,000,000,000,000,000,000,000,000,000,000,000,000,000,000,000,000,000,000,000,000,000,000,000,000,000,000,000,000,000,000,000,000,000,000,000,000,000,000,000,000,000,000,000,000,000,000,000,000,000,000,000,000,000,000,000,000,000,000,000,000,000,000,000,000,000,000,000,000,000,000,000,000,000,000,000,000,000,000,000,000,000,000,000,000,000,000,000,000,000,000,000,000,000,000,000,000,000,000,000,000,000,000,000,000,000,000,000,000,000,000,000,000,000,000,000,000,000,000,000,000,000,000,000,000,000,000,000,000,000,000,000,000,000,000,000,000,000,000,000,000,000,000,000,000,000,000,000,000,000,000,000,000,000,000,000,000,000,000,000,000,000,000,000,000,000,000,000,000,000,000,000,000,000,000,000,000,000,000,000,000,000,000,000,000,000,000,000,000,000,000,000,000,000,000,000,000,000,000,000,000,000,000,000,000,000,000,000,000,000,000,000,000,000,000,000,000,000,000,000,000,000,000,000,000,000,000,000,000,000,000,000,000,000,000,000,000,000,000,000,000,000,000,000,000,000,000,000,000,000,000,000,000,000,000,000,000,000,000,000,000,000,000,000,000,000,000,000,000,000,000,000,000,000,000,000,000,000,000,000,000,000,000,000,000,000,000,000,000,000,000,000,000,000,000,000,000,000,000,000,000,000,000,000,000,000,000,000,000,000,000,000,000,000,000,000,000,000,000,000,000,000,000,000,000,000,000,000,000,000,000,000,000,000,000,000,000,000,000,000,000,000,000,000,000,000,000,000,000,000,000,000,000,000,000,000,000,000,000,000,000,000,000,000,000,000,000,000,000,000,000,000,000,000,000,000,000,000,000,000,000,000,000,000,000,000,000,000,000,000,000,000,000,000,000,000,000,000,000,000,000,000,000,000,000,000,000,000,000,000,000,000,000,000,000,000,000,000,000,000,000,000,000,000,000,000,000,000,000,000,000,000,000,000,000,000,000,000,000,000,000,000,000,000,000,000,000,000,000,000,000,000,000,000,000,000,000,000,000,000,000,000,000,000,000,000,000,000,000,000,000,000,000,000,000,000,000,000,000,000,000,000,000,000,000,000,000,000,000,'\n",
      " '000,000,000,000,000,000,000,000,000,000,000,000,000,000,000,000,000,000,000,000,000,000,000,000,000,000,000,000,000,000,000,000,000,000,000,000,000,000,000,000,000,000,000,000,000,000,000,000,000,000,000,000,000,000,000,000,000,000,000,000,000,000,000,000,000,000,000,000,000,000,000,000,000,000,000,000,000,000,000,000,000,000,000,000,000,000,000,000,000,000,000,000,000,000,000,000,000,000,000,000,000,000,000,000,000,000,000,000,000,000,000,000,000,000,000,000,000,000,000,000,000,000,000,000,000,000,000,000,000,000,000,000,000,000,000,000,000,000,000,000,000,000,000,000,000,000,000,000,000,000,000,000,000,000,000,000,000,000,000,000,000,000,000,000,000,000,000,000,000,000,000,000,000,000,000,000,000,000,000,000,000,000,000,000,000,000,000,000,000,000,000,000,000,000,000,000,000,000,000,000,000,000,000,000,000,000,000,000,000,000,000,000,000,000,000,000,000,000,000,000,000,000,000,000,000,000,000,000,000,000,000,000,000,000,000,000,000,000,000,000,000,000,000,000,000,000,000,000,000,000,000,000,000,000,000,000,000,000,000,000,000,000,000,000,000,000,000,000,000,000,000,000,000,000,000,000,000,000,000,000,000,000,000,000,000,000,000,000,000,000,000,000,000,000,000,000,000,000,000,000,000,000,000,000,000,000,000,000,000,000,000,000,000,000,000,000,000,000,000,000,000,000,000,000,000,000,000,000,000,000,000,000,000,000,000,000,000,000,000,000,000,000,000,000,000,000,000,000,000,000,000,000,000,000,000,000,000,000,000,000,000,000,000,000,000,000,000,000,000,000,000,000,000,000,000,000,000,000,000,000,000,000,000,000,000,000,000,000,000,000,000,000,000,000,000,000,000,000,000,000,000,000,000,000,000,000,000,000,000,000,000,000,000,000,000,000,000,000,000,000,000,000,000,000,000,000,000,000,000,000,000,000,000,000,000,000,000,000,000,000,000,000,000,000,000,000,000,000,000,000,000,000,000,000,000,000,000,000,000,000,000,000,000,000,000,000,000,000,000,000,000,000,000,000,000,000,000,000,000,000,000,000,000,000,000,000,000,000,000,000,000,000,000,000,000,000,000,000,000,000,000,000,000,000,000,000,000,000,000,000,000,000,000,000,000,000,000,000,000,000,000,000,000,000,000,000,000,000,000,000,000,000,000,000,000,000,000,000,000,000,000,000,000,000,000,000,000,000,000,000,000,000,000,000,000,000,000,000,000,000,000,000,000,000,000,000,000,000,000,000,000,000,000,000,000,000,000,000,000,000,000,000,000,000,000,000,000,000,000,000,000,000,000,000,000,000,000,000,000,000,000,000,000,000,000,000,000,000,000,000,000,000,000,000,000,000,000,000,000,000,000,000,000,000,000,000,000,000,000,000,000,000,000,000,000,000,000,000,000,000,000,000,000,000,000,000,000,000,000,000,000,000,000,000,000,000,000,000,000,000,000,000,000,000,000,000,000,000,000,000,000,000,000,000,000,000,000,000,000,000,000,000,000,000,000,000,000,000,000,000,000,000,000,000,000,000,000,000,000,000,000,000,000,000,000,000,000,000,000,000,000,000,000,000,000,000,000,000,000,000,000,000,000,000,000,000,000,000,000,000,000,000,000,000,000,000,000,000,000,000,000,000,000,000,000,000,000,000,000,000,000,000,000,000,000,000,000,000,000,000,000,000,000,000,000,000,000,000,000,000,000,000,000,000,000,000,000,000,000,000,000,000,000,000,000,000,000,000,000,000,000,000,000,000,000,000,000,000,000,000,000,000,000,000,000,000,000,000,000,000,000,000,000,000,000,000,000,000,000,000,000,000,000,000,000,000,000,000,000,000,000,000,000,000,000,000,000,000,000,000,000,000,000,000,000,000,000,000,000,000,000,000,000,000,000,000,000,000,000,000,000,000,000,000,000,000,000,000,000,000,000,000,000,000,000,000,000,000,000,000,000,000,000,000,000,000,000,000,000,000,000,000,000,000,000,000,000,000,000,000,000,000,000,000,000,000,000,000,000,000,000,000,000,000,000,000,000,000,000,000,000,000,000,000,000,000,000,000,000,000,000,000,000,000,000,000,000,000,000,000,000,000,000,000,000,000,000,000,000,000,000,000,000,000,000,000,000,000,000,000,000,000,000,000,000,000,000,000,000,000,000,000,000,000,000,000,000,000,000,000,000,000,000,000,000,000,000,000,000,000,000,000,000,000,000,000,000,000,000,000,000,000,000,000,000,000,000,000,000,000,000,000,000,000,000,000,000,000,000,000,000,000,000,000,'\n",
      " '000,000,000,000,000,000,000,000,000,000,000,000,000,000,000,000,000,000,000,000,000,000,000,000,000,000,000,000,000,000,000,000,000,000,000,000,000,000,000,000,000,000,000,000,000,000,000,000,000,000,000,000,000,000,000,000,000,000,000,000,000,000,000,000,000,000,000,000,000,000,000,000,000,000,000,000,000,000,000,000,000,000,000,000,000,000,000,000,000,000,000,000,000,000,000,000,000,000,000,000,000,000,000,000,000,000,000,000,000,000,000,000,000,000,000,000,000,000,000,000,000,000,000,000,000,000,000,000,000,000,000,000,000,000,000,000,000,000,000,000,000,000,000,000,000,000,000,000,000,000,000,000,000,000,000,000,000,000,000,000,000,000,000,000,000,000,000,000,000,000,000,000,000,000,000,000,000,000,000,000,000,000,000,000,000,000,000,000,000,000,000,000,000,000,000,000,000,000,000,000,000,000,000,000,000,000,000,000,000,000,000,000,000,000,000,000,000,000,000,000,000,000,000,000,000,000,000,000,000,000,000,000,000,000,000,000,000,000,000,000,000,000,000,000,000,000,000,000,000,000,000,000,000,000,000,000,000,000,000,000,000,000,000,000,000,000,000,000,000,000,000,000,000,000,000,000,000,000,000,000,000,000,000,000,000,000,000,000,000,000,000,000,000,000,000,000,000,000,000,000,000,000,000,000,000,000,000,000,000,000,000,000,000,000,000,000,000,000,000,000,000,000,000,000,000,000,000,000,000,000,000,000,000,000,000,000,000,000,000,000,000,000,000,000,000,000,000,000,000,000,000,000,000,000,000,000,000,000,000,000,000,000,000,000,000,000,000,000,000,000,000,000,000,000,000,000,000,000,000,000,000,000,000,000,000,000,000,000,000,000,000,000,000,000,000,000,000,000,000,000,000,000,000,000,000,000,000,000,000,000,000,000,000,000,000,000,000,000,000,000,000,000,000,000,000,000,000,000,000,000,000,000,000,000,000,000,000,000,000,000,000,000,000,000,000,000,000,000,000,000,000,000,000,000,000,000,000,000,000,000,000,000,000,000,000,000,000,000,000,000,000,000,000,000,000,000,000,000,000,000,000,000,000,000,000,000,000,000,000,000,000,000,000,000,000,000,000,000,000,000,000,000,000,000,000,000,000,000,000,000,000,000,000,000,000,000,000,000,000,000,000,000,000,000,000,000,000,000,000,000,000,000,000,000,000,000,000,000,000,000,000,000,000,000,000,000,000,000,000,000,000,000,000,000,000,000,000,000,000,000,000,000,000,000,000,000,000,000,000,000,000,000,000,000,000,000,000,000,000,000,000,000,000,000,000,000,000,000,000,000,000,000,000,000,000,000,000,000,000,000,000,000,000,000,000,000,000,000,000,000,000,000,000,000,000,000,000,000,000,000,000,000,000,000,000,000,000,000,000,000,000,000,000,000,000,000,000,000,000,000,000,000,000,000,000,000,000,000,000,000,000,000,000,000,000,000,000,000,000,000,000,000,000,000,000,000,000,000,000,000,000,000,000,000,000,000,000,000,000,000,000,000,000,000,000,000,000,000,000,000,000,000,000,000,000,000,000,000,000,000,000,000,000,000,000,000,000,000,000,000,000,000,000,000,000,000,000,000,000,000,000,000,000,000,000,000,000,000,000,000,000,000,000,000,000,000,000,000,000,000,000,000,000,000,000,000,000,000,000,000,000,000,000,000,000,000,000,000,000,000,000,000,000,000,000,000,000,000,000,000,000,000,000,000,000,000,000,000,000,000,000,000,000,000,000,000,000,000,000,000,000,000,000,000,000,000,000,000,000,000,000,000,000,000,000,000,000,000,000,000,000,000,000,000,000,000,000,000,000,000,000,000,000,000,000,000,000,000,000,000,000,000,000,000,000,000,000,000,000,000,000,000,000,000,000,000,000,000,000,000,000,000,000,000,000,000,000,000,000,000,000,000,000,000,000,000,000,000,000,000,000,000,000,000,000,000,000,000,000,000,000,000,000,000,000,000,000,000,000,000,000,000,000,000,000,000,000,000,000,000,000,000,000,000,000,000,000,000,000,000,000,000,000,000,000,000,000,000,000,000,000,000,000,000,000,000,000,000,000,000,000,000,000,000,000,000,000,000,000,000,000,000,000,000,000,000,000,000,000,000,000,000,000,000,000,000,000,000,000,000,000,000,000,000,000,000,000,000,000,000,000,000,000,000,000,000,000,000,000,000,000,000,000,000,000,000,000,000,000,000,000,000,000,000,000,000,000,000,000,000,000,000,000,000,000,000,000,000,000,000,000,000,000,000,000,000,000,000,000,000,000,000,000,000,'\n",
      " '000,000,000,000,000,000,000,000,000,000,000,000,000,000,000,000,000,000,000,000,000,000,000,000,000,000,000,000,000,000,000,000,000,000,000,000,000,000,000,000,000,000,000,000,000,000,000,000,000,000,000,000,000,000,000,000,000,000,000,000,000,000,000,000,000,000,000,000,000,000,000,000,000,000,000,000,000,000,000,000,000,000,000,000,000,000,000,000,000,000,000,000,000,000,000,000,000,000,000,000,000,000,000,000,000,000,000,000,000,000,000,000,000,000,000,000,000,000,000,000,000,000,000,000,000,000,000,000,000,000,000,000,000,000,000,000,000,000,000,000,000,000,000,000,000,000,000,000,000,000,000,000,000,000,000,000,000,000,000,000,000,000,000,000,000,000,000,000,000,000,000,000,000,000,000,000,000,000,000,000,000,000,000,000,000,000,000,000,000,000,000,000,000,000,000,000,000,000,000,000,000,000,000,000,000,000,000,000,000,000,000,000,000,000,000,000,000,000,000,000,000,000,000,000,000,000,000,000,000,000,000,000,000,000,000,000,000,000,000,000,000,000,000,000,000,000,000,000,000,000,000,000,000,000,000,000,000,000,000,000,000,000,000,000,000,000,000,000,000,000,000,000,000,000,000,000,000,000,000,000,000,000,000,000,000,000,000,000,000,000,000,000,000,000,000,000,000,000,000,000,000,000,000,000,000,000,000,000,000,000,000,000,000,000,000,000,000,000,000,000,000,000,000,000,000,000,000,000,000,000,000,000,000,000,000,000,000,000,000,000,000,000,000,000,000,000,000,000,000,000,000,000,000,000,000,000,000,000,000,000,000,000,000,000,000,000,000,000,000,000,000,000,000,000,000,000,000,000,000,000,000,000,000,000,000,000,000,000,000,000,000,000,000,000,000,000,000,000,000,000,000,000,000,000,000,000,000,000,000,000,000,000,000,000,000,000,000,000,000,000,000,000,000,000,000,000,000,000,000,000,000,000,000,000,000,000,000,000,000,000,000,000,000,000,000,000,000,000,000,000,000,000,000,000,000,000,000,000,000,000,000,000,000,000,000,000,000,000,000,000,000,000,000,000,000,000,000,000,000,000,000,000,000,000,000,000,000,000,000,000,000,000,000,000,000,000,000,000,000,000,000,000,000,000,000,000,000,000,000,000,000,000,000,000,000,000,000,000,000,000,000,000,000,000,000,000,000,000,000,000,000,000,000,000,000,000,000,000,000,000,000,000,000,000,000,000,000,000,000,000,000,000,000,000,000,000,000,000,000,000,000,000,000,000,000,000,000,000,000,000,000,000,000,000,000,000,000,000,000,000,000,000,000,000,000,000,000,000,000,000,000,000,000,000,000,000,000,000,000,000,000,000,000,000,000,000,000,000,000,000,000,000,000,000,000,000,000,000,000,000,000,000,000,000,000,000,000,000,000,000,000,000,000,000,000,000,000,000,000,000,000,000,000,000,000,000,000,000,000,000,000,000,000,000,000,000,000,000,000,000,000,000,000,000,000,000,000,000,000,000,000,000,000,000,000,000,000,000,000,000,000,000,000,000,000,000,000,000,000,000,000,000,000,000,000,000,000,000,000,000,000,000,000,000,000,000,000,000,000,000,000,000,000,000,000,000,000,000,000,000,000,000,000,000,000,000,000,000,000,000,000,000,000,000,000,000,000,000,000,000,000,000,000,000,000,000,000,000,000,000,000,000,000,000,000,000,000,000,000,000,000,000,000,000,000,000,000,000,000,000,000,000,000,000,000,000,000,000,000,000,000,000,000,000,000,000,000,000,000,000,000,000,000,000,000,000,000,000,000,000,000,000,000,000,000,000,000,000,000,000,000,000,000,000,000,000,000,000,000,000,000,000,000,000,000,000,000,000,000,000,000,000,000,000,000,000,000,000,000,000,000,000,000,000,000,000,000,000,000,000,000,000,000,000,000,000,000,000,000,000,000,000,000,000,000,000,000,000,000,000,000,000,000,000,000,000,000,000,000,000,000,000,000,000,000,000,000,000,000,000,000,000,000,000,000,000,000,000,000,000,000,000,000,000,000,000,000,000,000,000,000,000,000,000,000,000,000,000,000,000,000,000,000,000,000,000,000,000,000,000,000,000,000,000,000,000,000,000,000,000,000,000,000,000,000,000,000,000,000,000,000,000,000,000,000,000,000,000,000,000,000,000,000,000,000,000,000,000,000,000,000,000,000,000,000,000,000,000,000,000,000,000,000,000,000,000,000,000,000,000,000,000,000,000,000,000,000,000,000,000,000,000,000,000,000,000,000,000,000,000,000,000,000,000,000,000,000,000,000,000,000,000,000,000,'\n",
      " '000,000,000,000,000,000,000,000,000,000,000,000,000,000,000,000,000,000,000,000,000,000,000,000,000,000,000,000,000,000,000,000,000,000,000,000,000,000,000,000,000,000,000,000,000,000,000,000,000,000,000,000,000,000,000,000,000,000,000,000,000,000,000,000,000,000,000,000,000,000,000,000,000,000,000,000,000,000,000,000,000,000,000,000,000,000,000,000,000,000,000,000,000,000,000,000,000,000,000,000,000,000,000,000,000,000,000,000,000,000,000,000,000,000,000,000,000,000,000,000,000,000,000,000,000,000,000,000,000,000,000,000,000,000,000,000,000,000,000,000,000,000,000,000,000,000,000,000,000,000,000,000,000,000,000,000,000,000,000,000,000,000,000,000,000,000,000,000,000,000,000,000,000,000,000,000,000,000,000,000,000,000,000,000,000,000,000,000,000,000,000,000,000,000,000,000,000,000,000,000,000,000,000,000,000,000,000,000,000,000,000,000,000,000,000,000,000,000,000,000,000,000,000,000,000,000,000,000,000,000,000,000,000,000,000,000,000,000,000,000,000,000,000,000,000,000,000,000,000,000,000,000,000,000,000,000,000,000,000,000,000,000,000,000,000,000,000,000,000,000,000,000,000,000,000,000,000,000,000,000,000,000,000,000,000,000,000,000,000,000,000,000,000,000,000,000,000,000,000,000,000,000,000,000,000,000,000,000,000,000,000,000,000,000,000,000,000,000,000,000,000,000,000,000,000,000,000,000,000,000,000,000,000,000,000,000,000,000,000,000,000,000,000,000,000,000,000,000,000,000,000,000,000,000,000,000,000,000,000,000,000,000,000,000,000,000,000,000,000,000,000,000,000,000,000,000,000,000,000,000,000,000,000,000,000,000,000,000,000,000,000,000,000,000,000,000,000,000,000,000,000,000,000,000,000,000,000,000,000,000,000,000,000,000,000,000,000,000,000,000,000,000,000,000,000,000,000,000,000,000,000,000,000,000,000,000,000,000,000,000,000,000,000,000,000,000,000,000,000,000,000,000,000,000,000,000,000,000,000,000,000,000,000,000,000,000,000,000,000,000,000,000,000,000,000,000,000,000,000,000,000,000,000,000,000,000,000,000,000,000,000,000,000,000,000,000,000,000,000,000,000,000,000,000,000,000,000,000,000,000,000,000,000,000,000,000,000,000,000,000,000,000,000,000,000,000,000,000,000,000,000,000,000,000,000,000,000,000,000,000,000,000,000,000,000,000,000,000,000,000,000,000,000,000,000,000,000,000,000,000,000,000,000,000,000,000,000,000,000,000,000,000,000,000,000,000,000,000,000,000,000,000,000,000,000,000,000,000,000,000,000,000,000,000,000,000,000,000,000,000,000,000,000,000,000,000,000,000,000,000,000,000,000,000,000,000,000,000,000,000,000,000,000,000,000,000,000,000,000,000,000,000,000,000,000,000,000,000,000,000,000,000,000,000,000,000,000,000,000,000,000,000,000,000,000,000,000,000,000,000,000,000,000,000,000,000,000,000,000,000,000,000,000,000,000,000,000,000,000,000,000,000,000,000,000,000,000,000,000,000,000,000,000,000,000,000,000,000,000,000,000,000,000,000,000,000,000,000,000,000,000,000,000,000,000,000,000,000,000,000,000,000,000,000,000,000,000,000,000,000,000,000,000,000,000,000,000,000,000,000,000,000,000,000,000,000,000,000,000,000,000,000,000,000,000,000,000,000,000,000,000,000,000,000,000,000,000,000,000,000,000,000,000,000,000,000,000,000,000,000,000,000,000,000,000,000,000,000,000,000,000,000,000,000,000,000,000,000,000,000,000,000,000,000,000,000,000,000,000,000,000,000,000,000,000,000,000,000,000,000,000,000,000,000,000,000,000,000,000,000,000,000,000,000,000,000,000,000,000,000,000,000,000,000,000,000,000,000,000,000,000,000,000,000,000,000,000,000,000,000,000,000,000,000,000,000,000,000,000,000,000,000,000,000,000,000,000,000,000,000,000,000,000,000,000,000,000,000,000,000,000,000,000,000,000,000,000,000,000,000,000,000,000,000,000,000,000,000,000,000,000,000,000,000,000,000,000,000,000,000,000,000,000,000,000,000,000,000,000,000,000,000,000,000,000,000,000,000,000,000,000,000,000,000,000,000,000,000,000,000,000,000,000,000,000,000,000,000,000,000,000,000,000,000,000,000,000,000,000,000,000,000,000,000,000,000,000,000,000,000,000,000,000,000,000,000,000,000,000,000,000,000,000,000,000,000,000,000,000,000,000,000,000,000,000,000,000,000,000,000,000,000,000,000,000,000,000,000,000,000,000,000,000,000,'\n",
      " '000,000,000,000,000,000,000,000,000,000,000,000,000,000,000,000,000,000,000,000,000,000,000,000,000,000,000,000,000,000,000,000,000,000,000,000,000,000,000,000,000,000,000,000,000,000,000,000,000,000,000,000,000,000,000,000,000,000,000,000,000,000,000,000,000,000,000,000,000,000,000,000,000,000,000,000,000,000,000,000,000,000,000,000,000,000,000,000,000,000,000,000,000,000,000,000,000,000,000,000,000,000,000,000,000,000,000,000,000,000,000,000,000,000,000,000,000,000,000,000,000,000,000,000,000,000,000,000,000,000,000,000,000,000,000,000,000,000,000,000,000,000,000,000,000,000,000,000,000,000,000,000,000,000,000,000,000,000,000,000,000,000,000,000,000,000,000,000,000,000,000,000,000,000,000,000,000,000,000,000,000,000,000,000,000,000,000,000,000,000,000,000,000,000,000,000,000,000,000,000,000,000,000,000,000,000,000,000,000,000,000,000,000,000,000,000,000,000,000,000,000,000,000,000,000,000,000,000,000,000,000,000,000,000,000,000,000,000,000,000,000,000,000,000,000,000,000,000,000,000,000,000,000,000,000,000,000,000,000,000,000,000,000,000,000,000,000,000,000,000,000,000,000,000,000,000,000,000,000,000,000,000,000,000,000,000,000,000,000,000,000,000,000,000,000,000,000,000,000,000,000,000,000,000,000,000,000,000,000,000,000,000,000,000,000,000,000,000,000,000,000,000,000,000,000,000,000,000,000,000,000,000,000,000,000,000,000,000,000,000,000,000,000,000,000,000,000,000,000,000,000,000,000,000,000,000,000,000,000,000,000,000,000,000,000,000,000,000,000,000,000,000,000,000,000,000,000,000,000,000,000,000,000,000,000,000,000,000,000,000,000,000,000,000,000,000,000,000,000,000,000,000,000,000,000,000,000,000,000,000,000,000,000,000,000,000,000,000,000,000,000,000,000,000,000,000,000,000,000,000,000,000,000,000,000,000,000,000,000,000,000,000,000,000,000,000,000,000,000,000,000,000,000,000,000,000,000,000,000,000,000,000,000,000,000,000,000,000,000,000,000,000,000,000,000,000,000,000,000,000,000,000,000,000,000,000,000,000,000,000,000,000,000,000,000,000,000,000,000,000,000,000,000,000,000,000,000,000,000,000,000,000,000,000,000,000,000,000,000,000,000,000,000,000,000,000,000,000,000,000,000,000,000,000,000,000,000,000,000,000,000,000,000,000,000,000,000,000,000,000,000,000,000,000,000,000,000,000,000,000,000,000,000,000,000,000,000,000,000,000,000,000,000,000,000,000,000,000,000,000,000,000,000,000,000,000,000,000,000,000,000,000,000,000,000,000,000,000,000,000,000,000,000,000,000,000,000,000,000,000,000,000,000,000,000,000,000,000,000,000,000,000,000,000,000,000,000,000,000,000,000,000,000,000,000,000,000,000,000,000,000,000,000,000,000,000,000,000,000,000,000,000,000,000,000,000,000,000,000,000,000,000,000,000,000,000,000,000,000,000,000,000,000,000,000,000,000,000,000,000,000,000,000,000,000,000,000,000,000,000,000,000,000,000,000,000,000,000,000,000,000,000,000,000,000,000,000,000,000,000,000,000,000,000,000,000,000,000,000,000,000,000,000,000,000,000,000,000,000,000,000,000,000,000,000,000,000,000,000,000,000,000,000,000,000,000,000,000,000,000,000,000,000,000,000,000,000,000,000,000,000,000,000,000,000,000,000,000,000,000,000,000,000,000,000,000,000,000,000,000,000,000,000,000,000,000,000,000,000,000,000,000,000,000,000,000,000,000,000,000,000,000,000,000,000,000,000,000,000,000,000,000,000,000,000,000,000,000,000,000,000,000,000,000,000,000,000,000,000,000,000,000,000,000,000,000,000,000,000,000,000,000,000,000,000,000,000,000,000,000,000,000,000,000,000,000,000,000,000,000,000,000,000,000,000,000,000,000,000,000,000,000,000,000,000,000,000,000,000,000,000,000,000,000,000,000,000,000,000,000,000,000,000,000,000,000,000,000,000,000,000,000,000,000,000,000,000,000,000,000,000,000,000,000,000,000,000,000,000,000,000,000,000,000,000,000,000,000,000,000,000,000,000,000,000,000,000,000,000,000,000,000,000,000,000,000,000,000,000,000,000,000,000,000,000,000,000,000,000,000,000,000,000,000,000,000,000,000,000,000,000,000,000,000,000,000,000,000,000,000,000,000,000,000,000,000,000,000,000,000,000,000,000,000,000,000,000,000,000,000,000,000,000,000,000,000,000,000,000,000,000,000,000,000,000,000,000,000,000,000,000,000,000,000,']\n",
      "- Column 23 : ['0' '0' '0' '0' '0' '0']\n"
     ]
    }
   ],
   "metadata": {}
  },
  {
   "cell_type": "markdown",
   "source": [
    "Get the number of column :"
   ],
   "metadata": {}
  },
  {
   "cell_type": "code",
   "execution_count": 26,
   "source": [
    "len(df_raw.columns)"
   ],
   "outputs": [
    {
     "output_type": "execute_result",
     "data": {
      "text/plain": [
       "24"
      ]
     },
     "metadata": {},
     "execution_count": 26
    }
   ],
   "metadata": {}
  },
  {
   "cell_type": "markdown",
   "source": [
    "Look at unique values for a single column :"
   ],
   "metadata": {}
  },
  {
   "cell_type": "code",
   "execution_count": 27,
   "source": [
    "print_df_columns_unique_values(df_raw, column_indices=11, column_names=False)"
   ],
   "outputs": [
    {
     "output_type": "stream",
     "name": "stdout",
     "text": [
      " - Column 11 :\n",
      "      ['0824', '0906', '1363', '1397', '2921', '3203', '3326', '3816', '4465', '9999']\n"
     ]
    }
   ],
   "metadata": {}
  },
  {
   "cell_type": "markdown",
   "source": [
    "Look at unique values for a few columns :\n",
    "\n",
    "Note: Use `column_indices=None` to get the unique values for all columns"
   ],
   "metadata": {}
  },
  {
   "cell_type": "code",
   "execution_count": 28,
   "source": [
    "print_df_columns_unique_values(df_raw, column_indices=slice(10, 12), column_names=False)"
   ],
   "outputs": [
    {
     "output_type": "stream",
     "name": "stdout",
     "text": [
      " - Column 10 :\n",
      "      ['-9.999', '02.669', '04.241', '04.745', '04.826', '04.879', '05.430', '06.095', '06.220', '07.415', '08.436', '08.489', '08.506', '08.724', '08.956', '09.079', '09.894', '10.057', '10.567', '11.705', '12.097', '12.390', '12.923', '13.114', '13.407', '13.684', '14.324', '15.060', '16.530', '16.636', '16.668', '17.194', '17.382', '17.829', '17.918', '18.334', '18.655', '19.526', '20.329', '21.134', '21.426', '23.098', '23.664', '23.760', '24.472', '25.473', '25.957', '29.270', '31.271', '32.255', '33.844', '36.196']\n",
      " - Column 11 :\n",
      "      ['0824', '0906', '1363', '1397', '2921', '3203', '3326', '3816', '4465', '9999']\n"
     ]
    }
   ],
   "metadata": {}
  },
  {
   "cell_type": "markdown",
   "source": [
    "Get the unique values as dictionary"
   ],
   "metadata": {}
  },
  {
   "cell_type": "code",
   "execution_count": 29,
   "source": [
    "get_df_columns_unique_values_dict(\n",
    "    df_raw, column_indices=slice(10, 12), column_names=False\n",
    ")"
   ],
   "outputs": [
    {
     "output_type": "execute_result",
     "data": {
      "text/plain": [
       "{'Column 10': ['-9.999',\n",
       "  '02.669',\n",
       "  '04.241',\n",
       "  '04.745',\n",
       "  '04.826',\n",
       "  '04.879',\n",
       "  '05.430',\n",
       "  '06.095',\n",
       "  '06.220',\n",
       "  '07.415',\n",
       "  '08.436',\n",
       "  '08.489',\n",
       "  '08.506',\n",
       "  '08.724',\n",
       "  '08.956',\n",
       "  '09.079',\n",
       "  '09.894',\n",
       "  '10.057',\n",
       "  '10.567',\n",
       "  '11.705',\n",
       "  '12.097',\n",
       "  '12.390',\n",
       "  '12.923',\n",
       "  '13.114',\n",
       "  '13.407',\n",
       "  '13.684',\n",
       "  '14.324',\n",
       "  '15.060',\n",
       "  '16.530',\n",
       "  '16.636',\n",
       "  '16.668',\n",
       "  '17.194',\n",
       "  '17.382',\n",
       "  '17.829',\n",
       "  '17.918',\n",
       "  '18.334',\n",
       "  '18.655',\n",
       "  '19.526',\n",
       "  '20.329',\n",
       "  '21.134',\n",
       "  '21.426',\n",
       "  '23.098',\n",
       "  '23.664',\n",
       "  '23.760',\n",
       "  '24.472',\n",
       "  '25.473',\n",
       "  '25.957',\n",
       "  '29.270',\n",
       "  '31.271',\n",
       "  '32.255',\n",
       "  '33.844',\n",
       "  '36.196'],\n",
       " 'Column 11': ['0824',\n",
       "  '0906',\n",
       "  '1363',\n",
       "  '1397',\n",
       "  '2921',\n",
       "  '3203',\n",
       "  '3326',\n",
       "  '3816',\n",
       "  '4465',\n",
       "  '9999']}"
      ]
     },
     "metadata": {},
     "execution_count": 29
    }
   ],
   "metadata": {}
  },
  {
   "cell_type": "markdown",
   "source": [
    "**7. Columns name**\n",
    "\n",
    "Now we have validated the content of our data. It's time to care about its structure (column names). "
   ],
   "metadata": {}
  },
  {
   "cell_type": "markdown",
   "source": [
    "The function `infer_df_str_column_names()` tries to guess the column name based on string patterns according to `L0A_encodings.yml` and the type of sensor."
   ],
   "metadata": {}
  },
  {
   "cell_type": "code",
   "execution_count": 30,
   "source": [
    "infer_df_str_column_names(df_raw, sensor_name=sensor_name)"
   ],
   "outputs": [
    {
     "output_type": "execute_result",
     "data": {
      "text/plain": [
       "{0: [],\n",
       " 1: [],\n",
       " 2: [],\n",
       " 3: [],\n",
       " 4: [],\n",
       " 5: [],\n",
       " 6: ['rainfall_rate_32bit'],\n",
       " 7: ['rainfall_accumulated_32bit', 'rainfall_accumulated_16bit'],\n",
       " 8: ['weather_code_synop_4680', 'weather_code_synop_4677'],\n",
       " 9: ['weather_code_synop_4680', 'weather_code_synop_4677'],\n",
       " 10: ['reflectivity_32bit', 'rainfall_rate_16bit'],\n",
       " 11: ['mor_visibility'],\n",
       " 12: ['number_particles', 'sample_interval', 'laser_amplitude'],\n",
       " 13: ['number_particles', 'sample_interval', 'laser_amplitude'],\n",
       " 14: ['error_code', 'sensor_temperature'],\n",
       " 15: ['sensor_heating_current'],\n",
       " 16: ['sensor_battery_voltage'],\n",
       " 17: ['sensor_status'],\n",
       " 18: ['rainfall_amount_absolute_32bit'],\n",
       " 19: ['error_code', 'sensor_temperature'],\n",
       " 20: ['raw_drop_average_velocity', 'raw_drop_concentration'],\n",
       " 21: ['raw_drop_average_velocity', 'raw_drop_concentration'],\n",
       " 22: ['raw_drop_number'],\n",
       " 23: ['sensor_status']}"
      ]
     },
     "metadata": {},
     "execution_count": 30
    }
   ],
   "metadata": {}
  },
  {
   "cell_type": "markdown",
   "source": [
    "This can help us to define later the `column_names` list.\n",
    "\n",
    "As reference, here is the list of valid columns name (taken from `L0A_encodings.yml`):"
   ],
   "metadata": {}
  },
  {
   "cell_type": "code",
   "execution_count": 31,
   "source": [
    "print_valid_L0_column_names(sensor_name)"
   ],
   "outputs": [
    {
     "output_type": "stream",
     "name": "stdout",
     "text": [
      "['rainfall_rate_32bit', 'rainfall_accumulated_32bit', 'weather_code_synop_4680', 'weather_code_synop_4677', 'weather_code_metar_4678', 'weather_code_nws', 'reflectivity_32bit', 'mor_visibility', 'sample_interval', 'laser_amplitude', 'number_particles', 'sensor_temperature', 'sensor_serial_number', 'firmware_iop', 'firmware_dsp', 'sensor_heating_current', 'sensor_battery_voltage', 'sensor_status', 'start_time', 'sensor_time', 'sensor_date', 'station_name', 'station_number', 'rainfall_amount_absolute_32bit', 'error_code', 'rainfall_rate_16bit', 'rainfall_rate_12bit', 'rainfall_accumulated_16bit', 'reflectivity_16bit', 'raw_drop_concentration', 'raw_drop_average_velocity', 'raw_drop_number']\n"
     ]
    }
   ],
   "metadata": {}
  },
  {
   "cell_type": "markdown",
   "source": [
    "It's time now to define our current column names : \n",
    "\n",
    "Hint to define the names :\n",
    "* get information from the disdrometer user guide and the data logger employed. \n",
    "* use `infer_df_str_column_names()` to help you\n",
    "* analyse the content column after column with `print_df_columns_unique_values()`  "
   ],
   "metadata": {}
  },
  {
   "cell_type": "code",
   "execution_count": 32,
   "source": [
    "column_names = [\n",
    "    \"unknown1\",\n",
    "    \"unknown2\",\n",
    "    \"unknown3\",\n",
    "    \"timestep\",\n",
    "    \"unknown4\",\n",
    "    \"unknown5\",\n",
    "    \"rainfall_rate_32bit\",\n",
    "    \"rainfall_accumulated_32bit\",\n",
    "    \"weather_code_synop_4680\",\n",
    "    \"weather_code_synop_4677\",\n",
    "    \"reflectivity_32bit\",\n",
    "    \"mor_visibility\",\n",
    "    \"laser_amplitude\",\n",
    "    \"number_particles\",\n",
    "    \"sensor_temperature\",\n",
    "    \"sensor_heating_current\",\n",
    "    \"sensor_battery_voltage\",\n",
    "    \"sensor_status\",\n",
    "    \"rainfall_amount_absolute_32bit\",\n",
    "    \"error_code\",\n",
    "    \"raw_drop_concentration\",\n",
    "    \"raw_drop_average_velocity\",\n",
    "    \"raw_drop_number\",\n",
    "    \"unknown6\",\n",
    "]"
   ],
   "outputs": [],
   "metadata": {}
  },
  {
   "cell_type": "markdown",
   "source": [
    "> 🚨 The `column_names` list will be transferred  to the [reader_template.py](https://github.com/ltelab/disdrodb/blob/main/disdrodb/L0/readers/reader_template.py) file at the end of this notebook. "
   ],
   "metadata": {}
  },
  {
   "cell_type": "markdown",
   "source": [
    "Check the validity of your definition "
   ],
   "metadata": {}
  },
  {
   "cell_type": "code",
   "execution_count": 33,
   "source": [
    "check_column_names(column_names, sensor_name)"
   ],
   "outputs": [
    {
     "output_type": "stream",
     "name": "stdout",
     "text": [
      "The following columns do no met the DISDRODB standards: ['unknown2', 'timestep', 'unknown4', 'unknown1', 'unknown6', 'unknown3', 'unknown5'].\n",
      "Please remove such columns within the df_sanitizer_fun\n",
      "Please be sure to create the 'time' column within the df_sanitizer_fun.\n",
      "The 'time' column must be datetime with resolution in seconds (dtype='M8[s]').\n"
     ]
    }
   ],
   "metadata": {}
  },
  {
   "cell_type": "markdown",
   "source": [
    "Ok, fair enough.\n",
    "There are columns that need to be removed, and we need to also define a column \"time\" with dtype `datetime` to meet the DISDRODB standards.\n",
    "\n",
    "These points will be addressed in Section 9 of this notebook ! "
   ],
   "metadata": {}
  },
  {
   "cell_type": "markdown",
   "source": [
    "**8. Read the dataframe with correct columns name**\n",
    "\n",
    "We can now create a new dataframe with the columns name :"
   ],
   "metadata": {}
  },
  {
   "cell_type": "code",
   "execution_count": 34,
   "source": [
    "df = read_raw_data(\n",
    "    filepath=filepath, column_names=column_names, reader_kwargs=reader_kwargs\n",
    ")"
   ],
   "outputs": [],
   "metadata": {}
  },
  {
   "cell_type": "markdown",
   "source": [
    "And print the dataframe column names : "
   ],
   "metadata": {}
  },
  {
   "cell_type": "code",
   "execution_count": 35,
   "source": [
    "print_df_column_names(df)"
   ],
   "outputs": [
    {
     "output_type": "stream",
     "name": "stdout",
     "text": [
      " - Column 0 : unknown1\n",
      " - Column 1 : unknown2\n",
      " - Column 2 : unknown3\n",
      " - Column 3 : timestep\n",
      " - Column 4 : unknown4\n",
      " - Column 5 : unknown5\n",
      " - Column 6 : rainfall_rate_32bit\n",
      " - Column 7 : rainfall_accumulated_32bit\n",
      " - Column 8 : weather_code_synop_4680\n",
      " - Column 9 : weather_code_synop_4677\n",
      " - Column 10 : reflectivity_32bit\n",
      " - Column 11 : mor_visibility\n",
      " - Column 12 : laser_amplitude\n",
      " - Column 13 : number_particles\n",
      " - Column 14 : sensor_temperature\n",
      " - Column 15 : sensor_heating_current\n",
      " - Column 16 : sensor_battery_voltage\n",
      " - Column 17 : sensor_status\n",
      " - Column 18 : rainfall_amount_absolute_32bit\n",
      " - Column 19 : error_code\n",
      " - Column 20 : raw_drop_concentration\n",
      " - Column 21 : raw_drop_average_velocity\n",
      " - Column 22 : raw_drop_number\n",
      " - Column 23 : unknown6\n"
     ]
    }
   ],
   "metadata": {}
  },
  {
   "cell_type": "markdown",
   "source": [
    "**9. Perform further tests and analysis to check the correctness of `column_names`**"
   ],
   "metadata": {}
  },
  {
   "cell_type": "markdown",
   "source": [
    "You can for example check some statistics for a specific column."
   ],
   "metadata": {}
  },
  {
   "cell_type": "code",
   "execution_count": 36,
   "source": [
    "column_name = \"rainfall_rate_32bit\"\n",
    "array_of_values = df.loc[:, [column_name]].astype(\"float\")\n",
    "print_df_summary_stats(array_of_values)"
   ],
   "outputs": [
    {
     "output_type": "stream",
     "name": "stdout",
     "text": [
      " - Column 0 ( rainfall_rate_32bit ):\n",
      "                    \n",
      "mean  0.005426\n",
      "min   0.000000\n",
      "25%   0.000000\n",
      "50%   0.000000\n",
      "75%   0.000000\n",
      "max   2.881000\n"
     ]
    }
   ],
   "metadata": {}
  },
  {
   "cell_type": "markdown",
   "source": [
    "**10. Final columns formatting**"
   ],
   "metadata": {}
  },
  {
   "cell_type": "code",
   "execution_count": 37,
   "source": [
    "check_l0a_column_names(df, sensor_name=sensor_name)"
   ],
   "outputs": [
    {
     "output_type": "stream",
     "name": "stderr",
     "text": [
      "The following columns do no met the DISDRODB standards: ['unknown2', 'timestep', 'unknown4', 'unknown1', 'unknown6', 'unknown3', 'unknown5']\n"
     ]
    },
    {
     "output_type": "error",
     "ename": "ValueError",
     "evalue": "The following columns do no met the DISDRODB standards: ['unknown2', 'timestep', 'unknown4', 'unknown1', 'unknown6', 'unknown3', 'unknown5']",
     "traceback": [
      "\u001b[0;31m---------------------------------------------------------------------------\u001b[0m",
      "\u001b[0;31mValueError\u001b[0m                                Traceback (most recent call last)",
      "Cell \u001b[0;32mIn[37], line 1\u001b[0m\n\u001b[0;32m----> 1\u001b[0m \u001b[43mcheck_l0a_column_names\u001b[49m\u001b[43m(\u001b[49m\u001b[43mdf\u001b[49m\u001b[43m,\u001b[49m\u001b[43m \u001b[49m\u001b[43msensor_name\u001b[49m\u001b[38;5;241;43m=\u001b[39;49m\u001b[43msensor_name\u001b[49m\u001b[43m)\u001b[49m\n",
      "File \u001b[0;32m~/Projects/disdrodb/disdrodb/L0/check_standards.py:181\u001b[0m, in \u001b[0;36mcheck_l0a_column_names\u001b[0;34m(df, sensor_name)\u001b[0m\n\u001b[1;32m    177\u001b[0m     msg \u001b[38;5;241m=\u001b[39m (\n\u001b[1;32m    178\u001b[0m         \u001b[38;5;124mf\u001b[39m\u001b[38;5;124m\"\u001b[39m\u001b[38;5;124mThe following columns do no met the DISDRODB standards: \u001b[39m\u001b[38;5;132;01m{\u001b[39;00munvalid_columns\u001b[38;5;132;01m}\u001b[39;00m\u001b[38;5;124m\"\u001b[39m\n\u001b[1;32m    179\u001b[0m     )\n\u001b[1;32m    180\u001b[0m     logger\u001b[38;5;241m.\u001b[39merror(msg)\n\u001b[0;32m--> 181\u001b[0m     \u001b[38;5;28;01mraise\u001b[39;00m \u001b[38;5;167;01mValueError\u001b[39;00m(msg)\n\u001b[1;32m    182\u001b[0m \u001b[38;5;66;03m# --------------------------------------------\u001b[39;00m\n\u001b[1;32m    183\u001b[0m \u001b[38;5;66;03m# Check time column is present\u001b[39;00m\n\u001b[1;32m    184\u001b[0m \u001b[38;5;28;01mif\u001b[39;00m \u001b[38;5;124m\"\u001b[39m\u001b[38;5;124mtime\u001b[39m\u001b[38;5;124m\"\u001b[39m \u001b[38;5;129;01mnot\u001b[39;00m \u001b[38;5;129;01min\u001b[39;00m df_columns:\n",
      "\u001b[0;31mValueError\u001b[0m: The following columns do no met the DISDRODB standards: ['unknown2', 'timestep', 'unknown4', 'unknown1', 'unknown6', 'unknown3', 'unknown5']"
     ]
    }
   ],
   "metadata": {}
  },
  {
   "cell_type": "code",
   "execution_count": 38,
   "source": [
    "check_column_names(column_names, sensor_name)"
   ],
   "outputs": [
    {
     "output_type": "stream",
     "name": "stdout",
     "text": [
      "The following columns do no met the DISDRODB standards: ['unknown2', 'timestep', 'unknown4', 'unknown1', 'unknown6', 'unknown3', 'unknown5'].\n",
      "Please remove such columns within the df_sanitizer_fun\n",
      "Please be sure to create the 'time' column within the df_sanitizer_fun.\n",
      "The 'time' column must be datetime with resolution in seconds (dtype='M8[s]').\n"
     ]
    }
   ],
   "metadata": {}
  },
  {
   "cell_type": "markdown",
   "source": [
    "Now, it's time to remove all the columns that does not match the DISDRODB standard."
   ],
   "metadata": {}
  },
  {
   "cell_type": "code",
   "execution_count": 39,
   "source": [
    "df = df.drop(\n",
    "    columns=[\"unknown1\", \"unknown2\", \"unknown3\", \"unknown4\", \"unknown5\", \"unknown6\"]\n",
    ")"
   ],
   "outputs": [],
   "metadata": {}
  },
  {
   "cell_type": "markdown",
   "source": [
    "It's also time to define the column `time` which is requested by the DISDRODB standard"
   ],
   "metadata": {}
  },
  {
   "cell_type": "code",
   "execution_count": 40,
   "source": [
    "df[\"time\"] = pd.to_datetime(df[\"timestep\"], format=\"%m-%d-%Y %H:%M:%S\")\n",
    "df = df.drop(columns=[\"timestep\"])"
   ],
   "outputs": [],
   "metadata": {}
  },
  {
   "cell_type": "markdown",
   "source": [
    "Check column names met DISDRODB standards after custom processing :"
   ],
   "metadata": {}
  },
  {
   "cell_type": "code",
   "execution_count": 41,
   "source": [
    "check_l0a_column_names(df, sensor_name=sensor_name)"
   ],
   "outputs": [],
   "metadata": {}
  },
  {
   "cell_type": "markdown",
   "source": [
    "Check the dataframe looks as desired :"
   ],
   "metadata": {}
  },
  {
   "cell_type": "code",
   "execution_count": 42,
   "source": [
    "print_df_column_names(df)"
   ],
   "outputs": [
    {
     "output_type": "stream",
     "name": "stdout",
     "text": [
      " - Column 0 : rainfall_rate_32bit\n",
      " - Column 1 : rainfall_accumulated_32bit\n",
      " - Column 2 : weather_code_synop_4680\n",
      " - Column 3 : weather_code_synop_4677\n",
      " - Column 4 : reflectivity_32bit\n",
      " - Column 5 : mor_visibility\n",
      " - Column 6 : laser_amplitude\n",
      " - Column 7 : number_particles\n",
      " - Column 8 : sensor_temperature\n",
      " - Column 9 : sensor_heating_current\n",
      " - Column 10 : sensor_battery_voltage\n",
      " - Column 11 : sensor_status\n",
      " - Column 12 : rainfall_amount_absolute_32bit\n",
      " - Column 13 : error_code\n",
      " - Column 14 : raw_drop_concentration\n",
      " - Column 15 : raw_drop_average_velocity\n",
      " - Column 16 : raw_drop_number\n",
      " - Column 17 : time\n"
     ]
    }
   ],
   "metadata": {}
  },
  {
   "cell_type": "code",
   "execution_count": 43,
   "source": [
    "print_df_random_n_rows(df, n=5)"
   ],
   "outputs": [
    {
     "output_type": "stream",
     "name": "stdout",
     "text": [
      "- Column 0 (rainfall_rate_32bit) : ['0000.000' '0000.000' '0000.000' '0000.000' '0000.114']\n",
      "- Column 1 (rainfall_accumulated_32bit) : ['0056.67' '0056.52' '0056.67' '0056.71' '0056.67']\n",
      "- Column 2 (weather_code_synop_4680) : ['00' '00' '00' '00' '57']\n",
      "- Column 3 (weather_code_synop_4677) : ['00' '00' '00' '00' '58']\n",
      "- Column 4 (reflectivity_32bit) : ['-9.999' '-9.999' '-9.999' '-9.999' '10.567']\n",
      "- Column 5 (mor_visibility) : ['9999' '9999' '9999' '9999' '9999']\n",
      "- Column 6 (laser_amplitude) : ['12631' '12655' '12606' '11551' '12411']\n",
      "- Column 7 (number_particles) : ['00000' '00000' '00003' '00000' '00022']\n",
      "- Column 8 (sensor_temperature) : ['035' '027' '036' '015' '017']\n",
      "- Column 9 (sensor_heating_current) : ['0.06' '0.06' '0.06' '0.06' '0.06']\n",
      "- Column 10 (sensor_battery_voltage) : ['24.9' '24.9' '24.9' '24.9' '24.9']\n",
      "- Column 11 (sensor_status) : ['0' '0' '0' '0' '0']\n",
      "- Column 12 (rainfall_amount_absolute_32bit) : ['005.667' '005.652' '005.667' '005.671' '005.667']\n",
      "- Column 13 (error_code) : ['000' '000' '000' '000' '000']\n",
      "- Column 14 (raw_drop_concentration) : ['-9.999,-9.999,-9.999,-9.999,-9.999,-9.999,-9.999,-9.999,-9.999,-9.999,-9.999,-9.999,-9.999,-9.999,-9.999,-9.999,-9.999,-9.999,-9.999,-9.999,-9.999,-9.999,-9.999,-9.999,-9.999,-9.999,-9.999,-9.999,-9.999,-9.999,-9.999,-9.999,'\n",
      " '-9.999,-9.999,-9.999,-9.999,-9.999,-9.999,-9.999,-9.999,-9.999,-9.999,-9.999,-9.999,-9.999,-9.999,-9.999,-9.999,-9.999,-9.999,-9.999,-9.999,-9.999,-9.999,-9.999,-9.999,-9.999,-9.999,-9.999,-9.999,-9.999,-9.999,-9.999,-9.999,'\n",
      " '-9.999,-9.999,-9.999,-9.999,-9.999,-9.999,-9.999,02.130,-9.999,-9.999,-9.999,-9.999,-9.999,-9.999,-9.999,-9.999,-9.999,-9.999,-9.999,-9.999,-9.999,-9.999,-9.999,-9.999,-9.999,-9.999,-9.999,00.405,-9.999,-9.999,-9.999,-9.999,'\n",
      " '-9.999,-9.999,-9.999,-9.999,-9.999,-9.999,-9.999,-9.999,-9.999,-9.999,-9.999,-9.999,-9.999,-9.999,-9.999,-9.999,-9.999,-9.999,-9.999,-9.999,-9.999,-9.999,-9.999,-9.999,-9.999,-9.999,-9.999,-9.999,-9.999,-9.999,-9.999,-9.999,'\n",
      " '-9.999,-9.999,01.371,02.060,01.994,01.540,01.633,01.738,01.377,-9.999,-9.999,-9.999,-9.999,-9.999,-9.999,-9.999,-9.999,-9.999,-9.999,-9.999,-9.999,-9.999,-9.999,-9.999,-9.999,-9.999,-9.999,-9.999,-9.999,-9.999,-9.999,-9.999,']\n",
      "- Column 15 (raw_drop_average_velocity) : ['00.000,00.000,00.000,00.000,00.000,00.000,00.000,00.000,00.000,00.000,00.000,00.000,00.000,00.000,00.000,00.000,00.000,00.000,00.000,00.000,00.000,00.000,00.000,00.000,00.000,00.000,00.000,00.000,00.000,00.000,00.000,00.000,'\n",
      " '00.000,00.000,00.000,00.000,00.000,00.000,00.000,00.000,00.000,00.000,00.000,00.000,00.000,00.000,00.000,00.000,00.000,00.000,00.000,00.000,00.000,00.000,00.000,00.000,00.000,00.000,00.000,00.000,00.000,00.000,00.000,00.000,'\n",
      " '00.000,00.000,00.000,00.000,00.000,00.000,00.000,00.799,00.000,00.000,00.000,00.000,00.000,00.000,00.000,00.000,00.000,00.000,00.000,00.000,00.000,00.000,00.000,00.000,00.000,00.000,00.000,01.700,00.000,00.000,00.000,00.000,'\n",
      " '00.000,00.000,00.000,00.000,00.000,00.000,00.000,00.000,00.000,00.000,00.000,00.000,00.000,00.000,00.000,00.000,00.000,00.000,00.000,00.000,00.000,00.000,00.000,00.000,00.000,00.000,00.000,00.000,00.000,00.000,00.000,00.000,'\n",
      " '00.000,00.000,02.200,02.359,02.679,03.000,03.733,03.849,04.400,00.000,00.000,00.000,00.000,00.000,00.000,00.000,00.000,00.000,00.000,00.000,00.000,00.000,00.000,00.000,00.000,00.000,00.000,00.000,00.000,00.000,00.000,00.000,']\n",
      "- Column 16 (raw_drop_number) : ['000,000,000,000,000,000,000,000,000,000,000,000,000,000,000,000,000,000,000,000,000,000,000,000,000,000,000,000,000,000,000,000,000,000,000,000,000,000,000,000,000,000,000,000,000,000,000,000,000,000,000,000,000,000,000,000,000,000,000,000,000,000,000,000,000,000,000,000,000,000,000,000,000,000,000,000,000,000,000,000,000,000,000,000,000,000,000,000,000,000,000,000,000,000,000,000,000,000,000,000,000,000,000,000,000,000,000,000,000,000,000,000,000,000,000,000,000,000,000,000,000,000,000,000,000,000,000,000,000,000,000,000,000,000,000,000,000,000,000,000,000,000,000,000,000,000,000,000,000,000,000,000,000,000,000,000,000,000,000,000,000,000,000,000,000,000,000,000,000,000,000,000,000,000,000,000,000,000,000,000,000,000,000,000,000,000,000,000,000,000,000,000,000,000,000,000,000,000,000,000,000,000,000,000,000,000,000,000,000,000,000,000,000,000,000,000,000,000,000,000,000,000,000,000,000,000,000,000,000,000,000,000,000,000,000,000,000,000,000,000,000,000,000,000,000,000,000,000,000,000,000,000,000,000,000,000,000,000,000,000,000,000,000,000,000,000,000,000,000,000,000,000,000,000,000,000,000,000,000,000,000,000,000,000,000,000,000,000,000,000,000,000,000,000,000,000,000,000,000,000,000,000,000,000,000,000,000,000,000,000,000,000,000,000,000,000,000,000,000,000,000,000,000,000,000,000,000,000,000,000,000,000,000,000,000,000,000,000,000,000,000,000,000,000,000,000,000,000,000,000,000,000,000,000,000,000,000,000,000,000,000,000,000,000,000,000,000,000,000,000,000,000,000,000,000,000,000,000,000,000,000,000,000,000,000,000,000,000,000,000,000,000,000,000,000,000,000,000,000,000,000,000,000,000,000,000,000,000,000,000,000,000,000,000,000,000,000,000,000,000,000,000,000,000,000,000,000,000,000,000,000,000,000,000,000,000,000,000,000,000,000,000,000,000,000,000,000,000,000,000,000,000,000,000,000,000,000,000,000,000,000,000,000,000,000,000,000,000,000,000,000,000,000,000,000,000,000,000,000,000,000,000,000,000,000,000,000,000,000,000,000,000,000,000,000,000,000,000,000,000,000,000,000,000,000,000,000,000,000,000,000,000,000,000,000,000,000,000,000,000,000,000,000,000,000,000,000,000,000,000,000,000,000,000,000,000,000,000,000,000,000,000,000,000,000,000,000,000,000,000,000,000,000,000,000,000,000,000,000,000,000,000,000,000,000,000,000,000,000,000,000,000,000,000,000,000,000,000,000,000,000,000,000,000,000,000,000,000,000,000,000,000,000,000,000,000,000,000,000,000,000,000,000,000,000,000,000,000,000,000,000,000,000,000,000,000,000,000,000,000,000,000,000,000,000,000,000,000,000,000,000,000,000,000,000,000,000,000,000,000,000,000,000,000,000,000,000,000,000,000,000,000,000,000,000,000,000,000,000,000,000,000,000,000,000,000,000,000,000,000,000,000,000,000,000,000,000,000,000,000,000,000,000,000,000,000,000,000,000,000,000,000,000,000,000,000,000,000,000,000,000,000,000,000,000,000,000,000,000,000,000,000,000,000,000,000,000,000,000,000,000,000,000,000,000,000,000,000,000,000,000,000,000,000,000,000,000,000,000,000,000,000,000,000,000,000,000,000,000,000,000,000,000,000,000,000,000,000,000,000,000,000,000,000,000,000,000,000,000,000,000,000,000,000,000,000,000,000,000,000,000,000,000,000,000,000,000,000,000,000,000,000,000,000,000,000,000,000,000,000,000,000,000,000,000,000,000,000,000,000,000,000,000,000,000,000,000,000,000,000,000,000,000,000,000,000,000,000,000,000,000,000,000,000,000,000,000,000,000,000,000,000,000,000,000,000,000,000,000,000,000,000,000,000,000,000,000,000,000,000,000,000,000,000,000,000,000,000,000,000,000,000,000,000,000,000,000,000,000,000,000,000,000,000,000,000,000,000,000,000,000,000,000,000,000,000,000,000,000,000,000,000,000,000,000,000,000,000,000,000,000,000,000,000,000,000,000,000,000,000,000,000,000,000,000,000,000,000,000,000,000,000,000,000,000,000,000,000,000,000,000,000,000,000,000,000,000,000,000,000,000,000,000,000,000,000,000,000,000,000,000,000,000,000,000,000,000,000,000,000,000,000,000,000,000,000,000,000,000,000,000,000,000,000,000,000,000,000,000,000,000,000,000,000,000,000,000,000,000,000,000,000,000,000,000,000,000,000,000,000,000,000,000,000,000,000,000,000,000,000,000,000,000,000,'\n",
      " '000,000,000,000,000,000,000,000,000,000,000,000,000,000,000,000,000,000,000,000,000,000,000,000,000,000,000,000,000,000,000,000,000,000,000,000,000,000,000,000,000,000,000,000,000,000,000,000,000,000,000,000,000,000,000,000,000,000,000,000,000,000,000,000,000,000,000,000,000,000,000,000,000,000,000,000,000,000,000,000,000,000,000,000,000,000,000,000,000,000,000,000,000,000,000,000,000,000,000,000,000,000,000,000,000,000,000,000,000,000,000,000,000,000,000,000,000,000,000,000,000,000,000,000,000,000,000,000,000,000,000,000,000,000,000,000,000,000,000,000,000,000,000,000,000,000,000,000,000,000,000,000,000,000,000,000,000,000,000,000,000,000,000,000,000,000,000,000,000,000,000,000,000,000,000,000,000,000,000,000,000,000,000,000,000,000,000,000,000,000,000,000,000,000,000,000,000,000,000,000,000,000,000,000,000,000,000,000,000,000,000,000,000,000,000,000,000,000,000,000,000,000,000,000,000,000,000,000,000,000,000,000,000,000,000,000,000,000,000,000,000,000,000,000,000,000,000,000,000,000,000,000,000,000,000,000,000,000,000,000,000,000,000,000,000,000,000,000,000,000,000,000,000,000,000,000,000,000,000,000,000,000,000,000,000,000,000,000,000,000,000,000,000,000,000,000,000,000,000,000,000,000,000,000,000,000,000,000,000,000,000,000,000,000,000,000,000,000,000,000,000,000,000,000,000,000,000,000,000,000,000,000,000,000,000,000,000,000,000,000,000,000,000,000,000,000,000,000,000,000,000,000,000,000,000,000,000,000,000,000,000,000,000,000,000,000,000,000,000,000,000,000,000,000,000,000,000,000,000,000,000,000,000,000,000,000,000,000,000,000,000,000,000,000,000,000,000,000,000,000,000,000,000,000,000,000,000,000,000,000,000,000,000,000,000,000,000,000,000,000,000,000,000,000,000,000,000,000,000,000,000,000,000,000,000,000,000,000,000,000,000,000,000,000,000,000,000,000,000,000,000,000,000,000,000,000,000,000,000,000,000,000,000,000,000,000,000,000,000,000,000,000,000,000,000,000,000,000,000,000,000,000,000,000,000,000,000,000,000,000,000,000,000,000,000,000,000,000,000,000,000,000,000,000,000,000,000,000,000,000,000,000,000,000,000,000,000,000,000,000,000,000,000,000,000,000,000,000,000,000,000,000,000,000,000,000,000,000,000,000,000,000,000,000,000,000,000,000,000,000,000,000,000,000,000,000,000,000,000,000,000,000,000,000,000,000,000,000,000,000,000,000,000,000,000,000,000,000,000,000,000,000,000,000,000,000,000,000,000,000,000,000,000,000,000,000,000,000,000,000,000,000,000,000,000,000,000,000,000,000,000,000,000,000,000,000,000,000,000,000,000,000,000,000,000,000,000,000,000,000,000,000,000,000,000,000,000,000,000,000,000,000,000,000,000,000,000,000,000,000,000,000,000,000,000,000,000,000,000,000,000,000,000,000,000,000,000,000,000,000,000,000,000,000,000,000,000,000,000,000,000,000,000,000,000,000,000,000,000,000,000,000,000,000,000,000,000,000,000,000,000,000,000,000,000,000,000,000,000,000,000,000,000,000,000,000,000,000,000,000,000,000,000,000,000,000,000,000,000,000,000,000,000,000,000,000,000,000,000,000,000,000,000,000,000,000,000,000,000,000,000,000,000,000,000,000,000,000,000,000,000,000,000,000,000,000,000,000,000,000,000,000,000,000,000,000,000,000,000,000,000,000,000,000,000,000,000,000,000,000,000,000,000,000,000,000,000,000,000,000,000,000,000,000,000,000,000,000,000,000,000,000,000,000,000,000,000,000,000,000,000,000,000,000,000,000,000,000,000,000,000,000,000,000,000,000,000,000,000,000,000,000,000,000,000,000,000,000,000,000,000,000,000,000,000,000,000,000,000,000,000,000,000,000,000,000,000,000,000,000,000,000,000,000,000,000,000,000,000,000,000,000,000,000,000,000,000,000,000,000,000,000,000,000,000,000,000,000,000,000,000,000,000,000,000,000,000,000,000,000,000,000,000,000,000,000,000,000,000,000,000,000,000,000,000,000,000,000,000,000,000,000,000,000,000,000,000,000,000,000,000,000,000,000,000,000,000,000,000,000,000,000,000,000,000,000,000,000,000,000,000,000,000,000,000,000,000,000,000,000,000,000,000,000,000,000,000,000,000,000,000,000,000,000,000,000,000,000,000,000,000,000,000,000,000,000,000,000,000,000,000,000,000,000,000,000,000,000,000,000,000,000,000,000,000,000,000,000,000,000,000,000,000,000,'\n",
      " '000,000,000,000,000,000,000,000,000,000,000,000,000,000,000,000,000,000,000,000,000,000,000,000,000,000,000,000,000,000,000,000,000,000,000,000,000,000,000,000,000,000,000,000,000,000,000,000,000,000,000,000,000,000,000,000,000,000,000,000,000,000,000,000,000,000,000,000,000,000,000,000,000,000,000,000,000,000,000,000,000,000,000,000,000,000,000,000,000,000,000,000,000,000,000,000,000,000,000,000,000,000,000,000,000,000,000,000,000,000,000,000,000,000,000,000,000,000,000,000,000,000,000,000,000,000,000,000,000,000,000,000,000,000,000,000,000,000,000,000,000,000,000,000,000,000,000,000,000,000,000,000,000,000,000,000,000,000,000,000,000,000,000,000,000,000,000,000,000,000,000,000,000,000,000,000,000,000,000,000,000,000,000,000,000,000,000,000,000,000,000,000,000,000,000,000,000,000,000,001,000,000,000,000,000,000,000,000,000,000,000,000,000,000,000,000,000,000,000,000,000,000,000,000,000,000,000,000,000,000,000,000,000,000,000,000,000,000,000,000,000,000,000,000,000,000,000,000,000,000,000,000,000,000,000,000,000,000,000,000,000,000,000,000,000,000,000,000,000,000,000,000,000,000,000,000,000,000,000,000,000,000,000,000,000,000,000,000,000,000,000,000,000,000,000,001,000,000,000,000,000,000,000,000,000,000,000,000,000,000,000,000,000,000,000,000,000,000,000,000,000,000,000,000,000,000,000,000,000,000,000,000,000,000,000,000,000,000,000,000,000,000,000,000,000,000,000,000,000,000,000,000,000,000,000,000,000,000,000,000,000,000,000,000,000,000,000,000,000,000,000,000,000,000,000,000,000,000,000,000,000,000,000,000,000,000,000,000,000,000,000,000,000,000,000,000,000,000,000,000,000,000,000,000,000,000,000,000,000,000,000,000,000,000,000,000,000,000,000,000,000,000,000,000,000,000,000,000,000,000,000,000,000,000,000,000,000,000,000,000,000,000,000,001,000,000,000,000,000,000,000,000,000,000,000,000,000,000,000,000,000,000,000,000,000,000,000,000,000,000,000,000,000,000,000,000,000,000,000,000,000,000,000,000,000,000,000,000,000,000,000,000,000,000,000,000,000,000,000,000,000,000,000,000,000,000,000,000,000,000,000,000,000,000,000,000,000,000,000,000,000,000,000,000,000,000,000,000,000,000,000,000,000,000,000,000,000,000,000,000,000,000,000,000,000,000,000,000,000,000,000,000,000,000,000,000,000,000,000,000,000,000,000,000,000,000,000,000,000,000,000,000,000,000,000,000,000,000,000,000,000,000,000,000,000,000,000,000,000,000,000,000,000,000,000,000,000,000,000,000,000,000,000,000,000,000,000,000,000,000,000,000,000,000,000,000,000,000,000,000,000,000,000,000,000,000,000,000,000,000,000,000,000,000,000,000,000,000,000,000,000,000,000,000,000,000,000,000,000,000,000,000,000,000,000,000,000,000,000,000,000,000,000,000,000,000,000,000,000,000,000,000,000,000,000,000,000,000,000,000,000,000,000,000,000,000,000,000,000,000,000,000,000,000,000,000,000,000,000,000,000,000,000,000,000,000,000,000,000,000,000,000,000,000,000,000,000,000,000,000,000,000,000,000,000,000,000,000,000,000,000,000,000,000,000,000,000,000,000,000,000,000,000,000,000,000,000,000,000,000,000,000,000,000,000,000,000,000,000,000,000,000,000,000,000,000,000,000,000,000,000,000,000,000,000,000,000,000,000,000,000,000,000,000,000,000,000,000,000,000,000,000,000,000,000,000,000,000,000,000,000,000,000,000,000,000,000,000,000,000,000,000,000,000,000,000,000,000,000,000,000,000,000,000,000,000,000,000,000,000,000,000,000,000,000,000,000,000,000,000,000,000,000,000,000,000,000,000,000,000,000,000,000,000,000,000,000,000,000,000,000,000,000,000,000,000,000,000,000,000,000,000,000,000,000,000,000,000,000,000,000,000,000,000,000,000,000,000,000,000,000,000,000,000,000,000,000,000,000,000,000,000,000,000,000,000,000,000,000,000,000,000,000,000,000,000,000,000,000,000,000,000,000,000,000,000,000,000,000,000,000,000,000,000,000,000,000,000,000,000,000,000,000,000,000,000,000,000,000,000,000,000,000,000,000,000,000,000,000,000,000,000,000,000,000,000,000,000,000,000,000,000,000,000,000,000,000,000,000,000,000,000,000,000,000,000,000,000,000,000,000,000,000,000,000,000,000,000,000,000,000,000,000,000,000,000,000,000,000,000,000,000,000,000,000,000,000,000,000,000,000,000,000,000,'\n",
      " '000,000,000,000,000,000,000,000,000,000,000,000,000,000,000,000,000,000,000,000,000,000,000,000,000,000,000,000,000,000,000,000,000,000,000,000,000,000,000,000,000,000,000,000,000,000,000,000,000,000,000,000,000,000,000,000,000,000,000,000,000,000,000,000,000,000,000,000,000,000,000,000,000,000,000,000,000,000,000,000,000,000,000,000,000,000,000,000,000,000,000,000,000,000,000,000,000,000,000,000,000,000,000,000,000,000,000,000,000,000,000,000,000,000,000,000,000,000,000,000,000,000,000,000,000,000,000,000,000,000,000,000,000,000,000,000,000,000,000,000,000,000,000,000,000,000,000,000,000,000,000,000,000,000,000,000,000,000,000,000,000,000,000,000,000,000,000,000,000,000,000,000,000,000,000,000,000,000,000,000,000,000,000,000,000,000,000,000,000,000,000,000,000,000,000,000,000,000,000,000,000,000,000,000,000,000,000,000,000,000,000,000,000,000,000,000,000,000,000,000,000,000,000,000,000,000,000,000,000,000,000,000,000,000,000,000,000,000,000,000,000,000,000,000,000,000,000,000,000,000,000,000,000,000,000,000,000,000,000,000,000,000,000,000,000,000,000,000,000,000,000,000,000,000,000,000,000,000,000,000,000,000,000,000,000,000,000,000,000,000,000,000,000,000,000,000,000,000,000,000,000,000,000,000,000,000,000,000,000,000,000,000,000,000,000,000,000,000,000,000,000,000,000,000,000,000,000,000,000,000,000,000,000,000,000,000,000,000,000,000,000,000,000,000,000,000,000,000,000,000,000,000,000,000,000,000,000,000,000,000,000,000,000,000,000,000,000,000,000,000,000,000,000,000,000,000,000,000,000,000,000,000,000,000,000,000,000,000,000,000,000,000,000,000,000,000,000,000,000,000,000,000,000,000,000,000,000,000,000,000,000,000,000,000,000,000,000,000,000,000,000,000,000,000,000,000,000,000,000,000,000,000,000,000,000,000,000,000,000,000,000,000,000,000,000,000,000,000,000,000,000,000,000,000,000,000,000,000,000,000,000,000,000,000,000,000,000,000,000,000,000,000,000,000,000,000,000,000,000,000,000,000,000,000,000,000,000,000,000,000,000,000,000,000,000,000,000,000,000,000,000,000,000,000,000,000,000,000,000,000,000,000,000,000,000,000,000,000,000,000,000,000,000,000,000,000,000,000,000,000,000,000,000,000,000,000,000,000,000,000,000,000,000,000,000,000,000,000,000,000,000,000,000,000,000,000,000,000,000,000,000,000,000,000,000,000,000,000,000,000,000,000,000,000,000,000,000,000,000,000,000,000,000,000,000,000,000,000,000,000,000,000,000,000,000,000,000,000,000,000,000,000,000,000,000,000,000,000,000,000,000,000,000,000,000,000,000,000,000,000,000,000,000,000,000,000,000,000,000,000,000,000,000,000,000,000,000,000,000,000,000,000,000,000,000,000,000,000,000,000,000,000,000,000,000,000,000,000,000,000,000,000,000,000,000,000,000,000,000,000,000,000,000,000,000,000,000,000,000,000,000,000,000,000,000,000,000,000,000,000,000,000,000,000,000,000,000,000,000,000,000,000,000,000,000,000,000,000,000,000,000,000,000,000,000,000,000,000,000,000,000,000,000,000,000,000,000,000,000,000,000,000,000,000,000,000,000,000,000,000,000,000,000,000,000,000,000,000,000,000,000,000,000,000,000,000,000,000,000,000,000,000,000,000,000,000,000,000,000,000,000,000,000,000,000,000,000,000,000,000,000,000,000,000,000,000,000,000,000,000,000,000,000,000,000,000,000,000,000,000,000,000,000,000,000,000,000,000,000,000,000,000,000,000,000,000,000,000,000,000,000,000,000,000,000,000,000,000,000,000,000,000,000,000,000,000,000,000,000,000,000,000,000,000,000,000,000,000,000,000,000,000,000,000,000,000,000,000,000,000,000,000,000,000,000,000,000,000,000,000,000,000,000,000,000,000,000,000,000,000,000,000,000,000,000,000,000,000,000,000,000,000,000,000,000,000,000,000,000,000,000,000,000,000,000,000,000,000,000,000,000,000,000,000,000,000,000,000,000,000,000,000,000,000,000,000,000,000,000,000,000,000,000,000,000,000,000,000,000,000,000,000,000,000,000,000,000,000,000,000,000,000,000,000,000,000,000,000,000,000,000,000,000,000,000,000,000,000,000,000,000,000,000,000,000,000,000,000,000,000,000,000,000,000,000,000,000,000,000,000,000,000,000,000,000,000,000,000,000,000,000,000,000,000,000,000,000,000,000,000,000,000,000,000,000,000,000,000,000,000,000,000,000,000,'\n",
      " '000,000,000,000,000,000,000,000,000,000,000,000,000,000,000,000,000,000,000,000,000,000,000,000,000,000,000,000,000,000,000,000,000,000,000,000,000,000,000,000,000,000,000,000,000,000,000,000,000,000,000,000,000,000,000,000,000,000,000,000,000,000,000,000,000,000,000,000,000,000,000,000,000,000,000,000,000,000,000,000,000,000,000,000,000,000,000,000,000,000,000,000,000,000,000,000,000,000,000,000,000,000,000,000,000,000,000,000,000,000,000,000,000,000,000,000,000,000,000,000,000,000,000,000,000,000,000,000,000,000,000,000,000,000,000,000,000,000,000,000,000,000,000,000,000,000,000,000,000,000,000,000,000,000,000,000,000,000,000,000,000,000,000,000,000,000,000,000,000,000,000,000,000,000,000,000,000,000,000,000,000,000,000,000,000,000,000,000,000,000,000,000,000,000,000,000,000,000,000,000,000,000,000,000,000,000,000,000,000,000,000,000,000,000,000,000,000,000,000,000,000,000,000,000,000,000,000,000,000,000,000,000,000,000,000,000,000,000,000,000,000,000,000,000,000,000,000,000,000,000,000,000,000,000,000,000,000,000,000,000,000,000,000,000,000,000,000,000,000,000,000,000,000,000,000,000,000,000,000,000,000,000,000,000,000,000,000,000,000,000,000,000,000,000,000,000,000,000,000,000,000,000,000,000,000,000,000,000,000,000,000,000,000,000,000,000,000,000,000,000,000,000,000,000,000,000,000,000,000,000,000,000,000,000,000,000,000,000,000,000,000,000,000,000,000,000,000,000,000,000,000,000,000,000,000,000,000,000,000,000,000,000,000,000,000,000,000,000,000,000,000,000,000,000,000,000,000,000,000,000,000,000,000,000,000,000,000,000,000,000,000,000,000,000,000,000,000,000,000,000,000,000,000,000,000,000,000,000,000,000,000,000,000,000,000,000,000,000,000,001,000,000,000,000,000,000,000,000,000,000,000,000,000,000,000,000,000,000,000,000,000,000,000,000,000,000,000,000,000,000,000,001,000,000,000,000,000,000,000,000,000,000,000,000,000,000,000,000,000,000,000,000,000,000,000,000,000,000,000,000,000,000,001,000,001,000,000,000,000,000,000,000,000,000,000,000,000,000,000,000,000,000,000,000,000,000,000,000,000,000,000,000,000,000,000,002,003,000,000,000,000,000,000,000,000,000,000,000,000,000,000,000,000,000,000,000,000,000,000,000,000,000,000,000,000,000,000,001,000,002,001,000,000,000,000,000,000,000,000,000,000,000,000,000,000,000,000,000,000,000,000,000,000,000,000,000,000,000,000,000,001,000,000,001,000,000,000,000,000,000,000,000,000,000,000,000,000,000,000,000,000,000,000,000,000,000,000,000,000,000,000,000,000,000,001,002,000,000,000,000,000,000,000,000,000,000,000,000,000,000,000,000,000,000,000,000,000,000,000,000,000,000,000,000,000,000,001,001,002,000,000,000,000,000,000,000,000,000,000,000,000,000,000,000,000,000,000,000,000,000,000,000,000,000,000,000,000,000,000,000,000,000,000,000,000,000,000,000,000,000,000,000,000,000,000,000,000,000,000,000,000,000,000,000,000,000,000,000,000,000,000,000,000,000,000,000,000,000,000,000,000,000,000,000,000,000,000,000,000,000,000,000,000,000,000,000,000,000,000,000,000,000,000,000,000,000,000,000,000,000,000,000,000,000,000,000,000,000,000,000,000,000,000,000,000,000,000,000,000,000,000,000,000,000,000,000,000,000,000,000,000,000,000,000,000,000,000,000,000,000,000,000,000,000,000,000,000,000,000,000,000,000,000,000,000,000,000,000,000,000,000,000,000,000,000,000,000,000,000,000,000,000,000,000,000,000,000,000,000,000,000,000,000,000,000,000,000,000,000,000,000,000,000,000,000,000,000,000,000,000,000,000,000,000,000,000,000,000,000,000,000,000,000,000,000,000,000,000,000,000,000,000,000,000,000,000,000,000,000,000,000,000,000,000,000,000,000,000,000,000,000,000,000,000,000,000,000,000,000,000,000,000,000,000,000,000,000,000,000,000,000,000,000,000,000,000,000,000,000,000,000,000,000,000,000,000,000,000,000,000,000,000,000,000,000,000,000,000,000,000,000,000,000,000,000,000,000,000,000,000,000,000,000,000,000,000,000,000,000,000,000,000,000,000,000,000,000,000,000,000,000,000,000,000,000,000,000,000,000,000,000,000,000,000,000,000,000,000,000,000,000,000,000,000,000,000,000,000,000,000,000,000,000,000,000,000,000,000,000,000,000,000,000,000,000,000,000,000,000,000,000,000,000,000,']\n",
      "- Column 17 (time) : ['2018-02-08T10:42:00.000000000' '2018-01-08T14:34:31.000000000'\n",
      " '2018-02-08T10:04:01.000000000' '2018-03-08T00:32:31.000000000'\n",
      " '2018-01-08T17:49:00.000000000']\n"
     ]
    }
   ],
   "metadata": {}
  },
  {
   "cell_type": "code",
   "execution_count": 44,
   "source": [
    "print_df_columns_unique_values(df, column_indices=2, column_names=True)"
   ],
   "outputs": [
    {
     "output_type": "stream",
     "name": "stdout",
     "text": [
      " - Column 2 ( weather_code_synop_4680 ):\n",
      "      ['00', '57', '61', '62', '71', '72', '88']\n"
     ]
    }
   ],
   "metadata": {}
  },
  {
   "cell_type": "markdown",
   "source": [
    "**11. Define the dataframe sanitizer function**\n",
    "\n",
    "The `df_sanitizer_fun` encapsulate the code specific to each reader/dataset that is required to obtain a dataframe compliants with the DISDRODB standards.\n",
    "\n",
    "With the data used in this notebook, we need to drop some columns and define the `time` column ! \n",
    "\n",
    "From the code defined in Section 10, we define the following function: "
   ],
   "metadata": {}
  },
  {
   "cell_type": "code",
   "execution_count": 45,
   "source": [
    "def df_sanitizer_fun(df):\n",
    "    # Import pandas\n",
    "    import pandas as pd\n",
    "\n",
    "    # - Drop unvalid columns\n",
    "    columns_to_drop = [\n",
    "        \"unknown1\",\n",
    "        \"unknown2\",\n",
    "        \"unknown3\",\n",
    "        \"unknown4\",\n",
    "        \"unknown5\",\n",
    "        \"unknown6\",\n",
    "    ]\n",
    "\n",
    "    df = df.drop(columns=columns_to_drop)\n",
    "\n",
    "    # - Convert timestep column to datetime format\n",
    "    df[\"time\"] = pd.to_datetime(df[\"timestep\"], format=\"%m-%d-%Y %H:%M:%S\")\n",
    "    df = df.drop(columns=[\"timestep\"])\n",
    "\n",
    "    # - Return the dataframe\n",
    "    return df"
   ],
   "outputs": [],
   "metadata": {}
  },
  {
   "cell_type": "markdown",
   "source": [
    "> 🚨 The `df_sanitizer_fun()` function will be transfered to the [reader_template.py](https://github.com/ltelab/disdrodb/blob/main/disdrodb/L0/readers/reader_template.py) file at the end of this notebook. "
   ],
   "metadata": {}
  },
  {
   "cell_type": "markdown",
   "source": [
    "**12. Now let's try calling the reader function as it will be called in the DISDRODB L0 reader**\n",
    "\n",
    "* You may try with increasing number of files (update `file_list`)\n"
   ],
   "metadata": {}
  },
  {
   "cell_type": "markdown",
   "source": [
    "Here we combine all raw files in a single dataframe. \n",
    "\n",
    "The function `read_raw_file_list` takes as argument :\n",
    "* `file_list` : the list of files present in the specified station directory\n",
    "* `column_names` : the list of column (defined previously)\n",
    "* `reader_kwargs` : dictionary to data loading  into the dataframe (defined previously)\n",
    "* `sensor_name` : taken from the `sensor_name` key in the metadata YAML file of the station\n",
    "* `df_sanitizer_fun`: the function to sanitize the data frame (defined previously)\n",
    "\n",
    "All these arguments are defined either in the data directory structure, or earlier in the code."
   ],
   "metadata": {}
  },
  {
   "cell_type": "code",
   "execution_count": 46,
   "source": [
    "subset_file_list = file_list[:1]\n",
    "\n",
    "df = read_raw_file_list(\n",
    "    file_list=subset_file_list,\n",
    "    column_names=column_names,\n",
    "    reader_kwargs=reader_kwargs,\n",
    "    sensor_name=sensor_name,\n",
    "    verbose=verbose,\n",
    "    df_sanitizer_fun=df_sanitizer_fun,\n",
    ")\n",
    "display(df)"
   ],
   "outputs": [
    {
     "output_type": "stream",
     "name": "stdout",
     "text": [
      " - 1 / 1 processed successfully. File name: /home/ghiggi/Projects/disdrodb/data/DISDRODB/Raw/DATA_SOURCE/CAMPAIGN_NAME/data/station_name_1/file60_20180817.dat.gz\n",
      " -  - 0 of 1 have been skipped.\n"
     ]
    },
    {
     "output_type": "display_data",
     "data": {
      "text/plain": [
       "      rainfall_rate_32bit  rainfall_accumulated_32bit  \\\n",
       "0                     0.0                   56.490002   \n",
       "1                     0.0                   56.490002   \n",
       "2                     0.0                   56.490002   \n",
       "3                     0.0                   56.490002   \n",
       "4                     0.0                   56.490002   \n",
       "...                   ...                         ...   \n",
       "4736                  0.0                   56.709999   \n",
       "4737                  0.0                   56.709999   \n",
       "4738                  0.0                   56.709999   \n",
       "4739                  0.0                   56.709999   \n",
       "4740                  0.0                   56.709999   \n",
       "\n",
       "      weather_code_synop_4680  weather_code_synop_4677  reflectivity_32bit  \\\n",
       "0                         0.0                      0.0              -9.999   \n",
       "1                         0.0                      0.0              -9.999   \n",
       "2                         0.0                      0.0              -9.999   \n",
       "3                         0.0                      0.0              -9.999   \n",
       "4                         0.0                      0.0              -9.999   \n",
       "...                       ...                      ...                 ...   \n",
       "4736                      0.0                      0.0              -9.999   \n",
       "4737                      0.0                      0.0              -9.999   \n",
       "4738                      0.0                      0.0              -9.999   \n",
       "4739                      0.0                      0.0              -9.999   \n",
       "4740                      0.0                      0.0              -9.999   \n",
       "\n",
       "      mor_visibility  laser_amplitude  number_particles  sensor_temperature  \\\n",
       "0             9999.0          12611.0               0.0                35.0   \n",
       "1             9999.0          12617.0               0.0                35.0   \n",
       "2             9999.0          12600.0               0.0                35.0   \n",
       "3             9999.0          12603.0               0.0                35.0   \n",
       "4             9999.0          12606.0               0.0                34.0   \n",
       "...              ...              ...               ...                 ...   \n",
       "4736          9999.0          11059.0               0.0                15.0   \n",
       "4737          9999.0          11175.0               0.0                15.0   \n",
       "4738          9999.0          11275.0               0.0                15.0   \n",
       "4739          9999.0          11361.0               0.0                15.0   \n",
       "4740          9999.0          11492.0               0.0                15.0   \n",
       "\n",
       "      sensor_heating_current  sensor_battery_voltage  sensor_status  \\\n",
       "0                       0.06                    24.9            0.0   \n",
       "1                       0.06                    24.9            0.0   \n",
       "2                       0.06                    24.9            0.0   \n",
       "3                       0.05                    24.9            0.0   \n",
       "4                       0.06                    24.9            0.0   \n",
       "...                      ...                     ...            ...   \n",
       "4736                    0.06                    24.9            0.0   \n",
       "4737                    0.06                    24.9            0.0   \n",
       "4738                    0.06                    24.9            0.0   \n",
       "4739                    0.06                    24.9            0.0   \n",
       "4740                    0.07                    24.9            0.0   \n",
       "\n",
       "      rainfall_amount_absolute_32bit  error_code  \\\n",
       "0                              5.649         0.0   \n",
       "1                              5.649         0.0   \n",
       "2                              5.649         0.0   \n",
       "3                              5.649         0.0   \n",
       "4                              5.649         0.0   \n",
       "...                              ...         ...   \n",
       "4736                           5.671         0.0   \n",
       "4737                           5.671         0.0   \n",
       "4738                           5.671         0.0   \n",
       "4739                           5.671         0.0   \n",
       "4740                           5.671         0.0   \n",
       "\n",
       "                                 raw_drop_concentration  \\\n",
       "0     -9.999,-9.999,-9.999,-9.999,-9.999,-9.999,-9.9...   \n",
       "1     -9.999,-9.999,-9.999,-9.999,-9.999,-9.999,-9.9...   \n",
       "2     -9.999,-9.999,-9.999,-9.999,-9.999,-9.999,-9.9...   \n",
       "3     -9.999,-9.999,-9.999,-9.999,-9.999,-9.999,-9.9...   \n",
       "4     -9.999,-9.999,-9.999,-9.999,-9.999,-9.999,-9.9...   \n",
       "...                                                 ...   \n",
       "4736  -9.999,-9.999,-9.999,-9.999,-9.999,-9.999,-9.9...   \n",
       "4737  -9.999,-9.999,-9.999,-9.999,-9.999,-9.999,-9.9...   \n",
       "4738  -9.999,-9.999,-9.999,-9.999,-9.999,-9.999,-9.9...   \n",
       "4739  -9.999,-9.999,-9.999,-9.999,-9.999,-9.999,-9.9...   \n",
       "4740  -9.999,-9.999,-9.999,-9.999,-9.999,-9.999,-9.9...   \n",
       "\n",
       "                              raw_drop_average_velocity  \\\n",
       "0     00.000,00.000,00.000,00.000,00.000,00.000,00.0...   \n",
       "1     00.000,00.000,00.000,00.000,00.000,00.000,00.0...   \n",
       "2     00.000,00.000,00.000,00.000,00.000,00.000,00.0...   \n",
       "3     00.000,00.000,00.000,00.000,00.000,00.000,00.0...   \n",
       "4     00.000,00.000,00.000,00.000,00.000,00.000,00.0...   \n",
       "...                                                 ...   \n",
       "4736  00.000,00.000,00.000,00.000,00.000,00.000,00.0...   \n",
       "4737  00.000,00.000,00.000,00.000,00.000,00.000,00.0...   \n",
       "4738  00.000,00.000,00.000,00.000,00.000,00.000,00.0...   \n",
       "4739  00.000,00.000,00.000,00.000,00.000,00.000,00.0...   \n",
       "4740  00.000,00.000,00.000,00.000,00.000,00.000,00.0...   \n",
       "\n",
       "                                        raw_drop_number                time  \n",
       "0     000,000,000,000,000,000,000,000,000,000,000,00... 2018-01-08 12:44:30  \n",
       "1     000,000,000,000,000,000,000,000,000,000,000,00... 2018-01-08 12:45:01  \n",
       "2     000,000,000,000,000,000,000,000,000,000,000,00... 2018-01-08 12:45:30  \n",
       "3     000,000,000,000,000,000,000,000,000,000,000,00... 2018-01-08 12:46:01  \n",
       "4     000,000,000,000,000,000,000,000,000,000,000,00... 2018-01-08 12:46:31  \n",
       "...                                                 ...                 ...  \n",
       "4736  000,000,000,000,000,000,000,000,000,000,000,00... 2018-03-08 04:13:25  \n",
       "4737  000,000,000,000,000,000,000,000,000,000,000,00... 2018-03-08 04:13:56  \n",
       "4738  000,000,000,000,000,000,000,000,000,000,000,00... 2018-03-08 04:14:26  \n",
       "4739  000,000,000,000,000,000,000,000,000,000,000,00... 2018-03-08 04:14:55  \n",
       "4740  000,000,000,000,000,000,000,000,000,000,000,00... 2018-03-08 04:15:25  \n",
       "\n",
       "[4741 rows x 18 columns]"
      ],
      "text/html": [
       "<div>\n",
       "<style scoped>\n",
       "    .dataframe tbody tr th:only-of-type {\n",
       "        vertical-align: middle;\n",
       "    }\n",
       "\n",
       "    .dataframe tbody tr th {\n",
       "        vertical-align: top;\n",
       "    }\n",
       "\n",
       "    .dataframe thead th {\n",
       "        text-align: right;\n",
       "    }\n",
       "</style>\n",
       "<table border=\"1\" class=\"dataframe\">\n",
       "  <thead>\n",
       "    <tr style=\"text-align: right;\">\n",
       "      <th></th>\n",
       "      <th>rainfall_rate_32bit</th>\n",
       "      <th>rainfall_accumulated_32bit</th>\n",
       "      <th>weather_code_synop_4680</th>\n",
       "      <th>weather_code_synop_4677</th>\n",
       "      <th>reflectivity_32bit</th>\n",
       "      <th>mor_visibility</th>\n",
       "      <th>laser_amplitude</th>\n",
       "      <th>number_particles</th>\n",
       "      <th>sensor_temperature</th>\n",
       "      <th>sensor_heating_current</th>\n",
       "      <th>sensor_battery_voltage</th>\n",
       "      <th>sensor_status</th>\n",
       "      <th>rainfall_amount_absolute_32bit</th>\n",
       "      <th>error_code</th>\n",
       "      <th>raw_drop_concentration</th>\n",
       "      <th>raw_drop_average_velocity</th>\n",
       "      <th>raw_drop_number</th>\n",
       "      <th>time</th>\n",
       "    </tr>\n",
       "  </thead>\n",
       "  <tbody>\n",
       "    <tr>\n",
       "      <th>0</th>\n",
       "      <td>0.0</td>\n",
       "      <td>56.490002</td>\n",
       "      <td>0.0</td>\n",
       "      <td>0.0</td>\n",
       "      <td>-9.999</td>\n",
       "      <td>9999.0</td>\n",
       "      <td>12611.0</td>\n",
       "      <td>0.0</td>\n",
       "      <td>35.0</td>\n",
       "      <td>0.06</td>\n",
       "      <td>24.9</td>\n",
       "      <td>0.0</td>\n",
       "      <td>5.649</td>\n",
       "      <td>0.0</td>\n",
       "      <td>-9.999,-9.999,-9.999,-9.999,-9.999,-9.999,-9.9...</td>\n",
       "      <td>00.000,00.000,00.000,00.000,00.000,00.000,00.0...</td>\n",
       "      <td>000,000,000,000,000,000,000,000,000,000,000,00...</td>\n",
       "      <td>2018-01-08 12:44:30</td>\n",
       "    </tr>\n",
       "    <tr>\n",
       "      <th>1</th>\n",
       "      <td>0.0</td>\n",
       "      <td>56.490002</td>\n",
       "      <td>0.0</td>\n",
       "      <td>0.0</td>\n",
       "      <td>-9.999</td>\n",
       "      <td>9999.0</td>\n",
       "      <td>12617.0</td>\n",
       "      <td>0.0</td>\n",
       "      <td>35.0</td>\n",
       "      <td>0.06</td>\n",
       "      <td>24.9</td>\n",
       "      <td>0.0</td>\n",
       "      <td>5.649</td>\n",
       "      <td>0.0</td>\n",
       "      <td>-9.999,-9.999,-9.999,-9.999,-9.999,-9.999,-9.9...</td>\n",
       "      <td>00.000,00.000,00.000,00.000,00.000,00.000,00.0...</td>\n",
       "      <td>000,000,000,000,000,000,000,000,000,000,000,00...</td>\n",
       "      <td>2018-01-08 12:45:01</td>\n",
       "    </tr>\n",
       "    <tr>\n",
       "      <th>2</th>\n",
       "      <td>0.0</td>\n",
       "      <td>56.490002</td>\n",
       "      <td>0.0</td>\n",
       "      <td>0.0</td>\n",
       "      <td>-9.999</td>\n",
       "      <td>9999.0</td>\n",
       "      <td>12600.0</td>\n",
       "      <td>0.0</td>\n",
       "      <td>35.0</td>\n",
       "      <td>0.06</td>\n",
       "      <td>24.9</td>\n",
       "      <td>0.0</td>\n",
       "      <td>5.649</td>\n",
       "      <td>0.0</td>\n",
       "      <td>-9.999,-9.999,-9.999,-9.999,-9.999,-9.999,-9.9...</td>\n",
       "      <td>00.000,00.000,00.000,00.000,00.000,00.000,00.0...</td>\n",
       "      <td>000,000,000,000,000,000,000,000,000,000,000,00...</td>\n",
       "      <td>2018-01-08 12:45:30</td>\n",
       "    </tr>\n",
       "    <tr>\n",
       "      <th>3</th>\n",
       "      <td>0.0</td>\n",
       "      <td>56.490002</td>\n",
       "      <td>0.0</td>\n",
       "      <td>0.0</td>\n",
       "      <td>-9.999</td>\n",
       "      <td>9999.0</td>\n",
       "      <td>12603.0</td>\n",
       "      <td>0.0</td>\n",
       "      <td>35.0</td>\n",
       "      <td>0.05</td>\n",
       "      <td>24.9</td>\n",
       "      <td>0.0</td>\n",
       "      <td>5.649</td>\n",
       "      <td>0.0</td>\n",
       "      <td>-9.999,-9.999,-9.999,-9.999,-9.999,-9.999,-9.9...</td>\n",
       "      <td>00.000,00.000,00.000,00.000,00.000,00.000,00.0...</td>\n",
       "      <td>000,000,000,000,000,000,000,000,000,000,000,00...</td>\n",
       "      <td>2018-01-08 12:46:01</td>\n",
       "    </tr>\n",
       "    <tr>\n",
       "      <th>4</th>\n",
       "      <td>0.0</td>\n",
       "      <td>56.490002</td>\n",
       "      <td>0.0</td>\n",
       "      <td>0.0</td>\n",
       "      <td>-9.999</td>\n",
       "      <td>9999.0</td>\n",
       "      <td>12606.0</td>\n",
       "      <td>0.0</td>\n",
       "      <td>34.0</td>\n",
       "      <td>0.06</td>\n",
       "      <td>24.9</td>\n",
       "      <td>0.0</td>\n",
       "      <td>5.649</td>\n",
       "      <td>0.0</td>\n",
       "      <td>-9.999,-9.999,-9.999,-9.999,-9.999,-9.999,-9.9...</td>\n",
       "      <td>00.000,00.000,00.000,00.000,00.000,00.000,00.0...</td>\n",
       "      <td>000,000,000,000,000,000,000,000,000,000,000,00...</td>\n",
       "      <td>2018-01-08 12:46:31</td>\n",
       "    </tr>\n",
       "    <tr>\n",
       "      <th>...</th>\n",
       "      <td>...</td>\n",
       "      <td>...</td>\n",
       "      <td>...</td>\n",
       "      <td>...</td>\n",
       "      <td>...</td>\n",
       "      <td>...</td>\n",
       "      <td>...</td>\n",
       "      <td>...</td>\n",
       "      <td>...</td>\n",
       "      <td>...</td>\n",
       "      <td>...</td>\n",
       "      <td>...</td>\n",
       "      <td>...</td>\n",
       "      <td>...</td>\n",
       "      <td>...</td>\n",
       "      <td>...</td>\n",
       "      <td>...</td>\n",
       "      <td>...</td>\n",
       "    </tr>\n",
       "    <tr>\n",
       "      <th>4736</th>\n",
       "      <td>0.0</td>\n",
       "      <td>56.709999</td>\n",
       "      <td>0.0</td>\n",
       "      <td>0.0</td>\n",
       "      <td>-9.999</td>\n",
       "      <td>9999.0</td>\n",
       "      <td>11059.0</td>\n",
       "      <td>0.0</td>\n",
       "      <td>15.0</td>\n",
       "      <td>0.06</td>\n",
       "      <td>24.9</td>\n",
       "      <td>0.0</td>\n",
       "      <td>5.671</td>\n",
       "      <td>0.0</td>\n",
       "      <td>-9.999,-9.999,-9.999,-9.999,-9.999,-9.999,-9.9...</td>\n",
       "      <td>00.000,00.000,00.000,00.000,00.000,00.000,00.0...</td>\n",
       "      <td>000,000,000,000,000,000,000,000,000,000,000,00...</td>\n",
       "      <td>2018-03-08 04:13:25</td>\n",
       "    </tr>\n",
       "    <tr>\n",
       "      <th>4737</th>\n",
       "      <td>0.0</td>\n",
       "      <td>56.709999</td>\n",
       "      <td>0.0</td>\n",
       "      <td>0.0</td>\n",
       "      <td>-9.999</td>\n",
       "      <td>9999.0</td>\n",
       "      <td>11175.0</td>\n",
       "      <td>0.0</td>\n",
       "      <td>15.0</td>\n",
       "      <td>0.06</td>\n",
       "      <td>24.9</td>\n",
       "      <td>0.0</td>\n",
       "      <td>5.671</td>\n",
       "      <td>0.0</td>\n",
       "      <td>-9.999,-9.999,-9.999,-9.999,-9.999,-9.999,-9.9...</td>\n",
       "      <td>00.000,00.000,00.000,00.000,00.000,00.000,00.0...</td>\n",
       "      <td>000,000,000,000,000,000,000,000,000,000,000,00...</td>\n",
       "      <td>2018-03-08 04:13:56</td>\n",
       "    </tr>\n",
       "    <tr>\n",
       "      <th>4738</th>\n",
       "      <td>0.0</td>\n",
       "      <td>56.709999</td>\n",
       "      <td>0.0</td>\n",
       "      <td>0.0</td>\n",
       "      <td>-9.999</td>\n",
       "      <td>9999.0</td>\n",
       "      <td>11275.0</td>\n",
       "      <td>0.0</td>\n",
       "      <td>15.0</td>\n",
       "      <td>0.06</td>\n",
       "      <td>24.9</td>\n",
       "      <td>0.0</td>\n",
       "      <td>5.671</td>\n",
       "      <td>0.0</td>\n",
       "      <td>-9.999,-9.999,-9.999,-9.999,-9.999,-9.999,-9.9...</td>\n",
       "      <td>00.000,00.000,00.000,00.000,00.000,00.000,00.0...</td>\n",
       "      <td>000,000,000,000,000,000,000,000,000,000,000,00...</td>\n",
       "      <td>2018-03-08 04:14:26</td>\n",
       "    </tr>\n",
       "    <tr>\n",
       "      <th>4739</th>\n",
       "      <td>0.0</td>\n",
       "      <td>56.709999</td>\n",
       "      <td>0.0</td>\n",
       "      <td>0.0</td>\n",
       "      <td>-9.999</td>\n",
       "      <td>9999.0</td>\n",
       "      <td>11361.0</td>\n",
       "      <td>0.0</td>\n",
       "      <td>15.0</td>\n",
       "      <td>0.06</td>\n",
       "      <td>24.9</td>\n",
       "      <td>0.0</td>\n",
       "      <td>5.671</td>\n",
       "      <td>0.0</td>\n",
       "      <td>-9.999,-9.999,-9.999,-9.999,-9.999,-9.999,-9.9...</td>\n",
       "      <td>00.000,00.000,00.000,00.000,00.000,00.000,00.0...</td>\n",
       "      <td>000,000,000,000,000,000,000,000,000,000,000,00...</td>\n",
       "      <td>2018-03-08 04:14:55</td>\n",
       "    </tr>\n",
       "    <tr>\n",
       "      <th>4740</th>\n",
       "      <td>0.0</td>\n",
       "      <td>56.709999</td>\n",
       "      <td>0.0</td>\n",
       "      <td>0.0</td>\n",
       "      <td>-9.999</td>\n",
       "      <td>9999.0</td>\n",
       "      <td>11492.0</td>\n",
       "      <td>0.0</td>\n",
       "      <td>15.0</td>\n",
       "      <td>0.07</td>\n",
       "      <td>24.9</td>\n",
       "      <td>0.0</td>\n",
       "      <td>5.671</td>\n",
       "      <td>0.0</td>\n",
       "      <td>-9.999,-9.999,-9.999,-9.999,-9.999,-9.999,-9.9...</td>\n",
       "      <td>00.000,00.000,00.000,00.000,00.000,00.000,00.0...</td>\n",
       "      <td>000,000,000,000,000,000,000,000,000,000,000,00...</td>\n",
       "      <td>2018-03-08 04:15:25</td>\n",
       "    </tr>\n",
       "  </tbody>\n",
       "</table>\n",
       "<p>4741 rows × 18 columns</p>\n",
       "</div>"
      ]
     },
     "metadata": {}
    }
   ],
   "metadata": {}
  },
  {
   "cell_type": "markdown",
   "source": [
    "Here we derive the corresponding xr.Dataset object "
   ],
   "metadata": {}
  },
  {
   "cell_type": "code",
   "execution_count": 47,
   "source": [
    "ds = create_l0b_from_l0a(df, attrs, verbose=False)\n",
    "print(ds)"
   ],
   "outputs": [
    {
     "output_type": "stream",
     "name": "stdout",
     "text": [
      "<xarray.Dataset>\n",
      "Dimensions:                         (time: 4741, diameter_bin_center: 32,\n",
      "                                     velocity_bin_center: 32)\n",
      "Coordinates: (12/13)\n",
      "  * diameter_bin_center             (diameter_bin_center) float64 0.062 ... 24.5\n",
      "    diameter_bin_lower              (diameter_bin_center) float64 0.0 ... 23.0\n",
      "    diameter_bin_upper              (diameter_bin_center) float64 0.1245 ... ...\n",
      "    diameter_bin_width              (diameter_bin_center) float64 0.125 ... 3.0\n",
      "  * velocity_bin_center             (velocity_bin_center) float64 0.05 ... 20.8\n",
      "    velocity_bin_lower              (velocity_bin_center) float64 0.0 ... 19.2\n",
      "    ...                              ...\n",
      "    velocity_bin_width              (velocity_bin_center) float64 0.1 ... 3.2\n",
      "  * time                            (time) datetime64[ns] 2018-01-08T12:44:30...\n",
      "    crs                             <U5 'WGS84'\n",
      "    latitude                        float64 46.2\n",
      "    longitude                       float64 8.792\n",
      "    altitude                        int64 1671\n",
      "Data variables: (12/17)\n",
      "    raw_drop_concentration          (time, diameter_bin_center) float64 0.0 ....\n",
      "    raw_drop_average_velocity       (time, velocity_bin_center) float64 0.0 ....\n",
      "    raw_drop_number                 (time, diameter_bin_center, velocity_bin_center) float64 ...\n",
      "    rainfall_rate_32bit             (time) float32 0.0 0.0 0.0 ... 0.0 0.0 0.0\n",
      "    rainfall_accumulated_32bit      (time) float32 56.49 56.49 ... 56.71 56.71\n",
      "    weather_code_synop_4680         (time) float32 0.0 0.0 0.0 ... 0.0 0.0 0.0\n",
      "    ...                              ...\n",
      "    sensor_temperature              (time) float32 35.0 35.0 35.0 ... 15.0 15.0\n",
      "    sensor_heating_current          (time) float32 0.06 0.06 0.06 ... 0.06 0.07\n",
      "    sensor_battery_voltage          (time) float32 24.9 24.9 24.9 ... 24.9 24.9\n",
      "    sensor_status                   (time) float32 0.0 0.0 0.0 ... 0.0 0.0 0.0\n",
      "    rainfall_amount_absolute_32bit  (time) float32 5.649 5.649 ... 5.671 5.671\n",
      "    error_code                      (time) float32 0.0 0.0 0.0 ... 0.0 0.0 0.0\n",
      "Attributes: (12/64)\n",
      "    data_source:                     DATA_SOURCE\n",
      "    campaign_name:                   CAMPAIGN_NAME\n",
      "    station_name:                    station_name_1\n",
      "    sensor_name:                     OTT_Parsivel\n",
      "    reader:                          EPFL/LOCARNO_2018\n",
      "    raw_data_format:                 raw\n",
      "    ...                              ...\n",
      "    doi:                             \n",
      "    summary:                         \n",
      "    disdrodb_processing_date:        2023-02-23 13:44:29\n",
      "    disdrodb_product_version:        V0\n",
      "    disdrodb_software_version:       V0\n",
      "    disdrodb_product_level:          L0B\n"
     ]
    }
   ],
   "metadata": {}
  },
  {
   "cell_type": "markdown",
   "source": [
    "which can be saved as DISDRODB L0B netCDF by running the following code:"
   ],
   "metadata": {}
  },
  {
   "cell_type": "code",
   "execution_count": 48,
   "source": [
    "# ds = set_encodings(ds, sensor_name)\n",
    "# ds.to_netcdf(\"/path/where/to/save/the/file.nc\")"
   ],
   "outputs": [],
   "metadata": {}
  },
  {
   "cell_type": "markdown",
   "source": [
    "## Step 3 : Create the reader"
   ],
   "metadata": {}
  },
  {
   "cell_type": "markdown",
   "source": [
    "We have now all the elements to start creating the new reader. \n",
    "All the modifications that we did in this notebook must be now transcribed into a DISDRODB L0 reader file.\n",
    "\n",
    "1. Copy and paste the [`disdrodb\\L0\\readers\\reader_template.py`](https://github.com/ltelab/disdrodb/tree/main/disdrodb/L0/readers) into the folder `disdrodb\\L0\\readers\\DATA_SOURCE`\n",
    "\n",
    "2. Rename the copied file `<CAMPAIGN_NAME>.py` (or i.e. `<CAMPAIGN_NAME>_<sensor_acronym>.py` if within a single campaign multiple type of sensors have been deployed). This will be the `reader` name that you need to add to the metadata YAML file of the stations that require such reader.  \n",
    "\n",
    "3. Within the file, update the portion of code described in the next points 4., 5. and 6.\n",
    "\n",
    "4. Add the `reader` name to the metadata YAML files of the stations.\n",
    "\n",
    "---------------------------------------------------------------------------------------"
   ],
   "metadata": {}
  },
  {
   "cell_type": "markdown",
   "source": [
    "\n",
    "4. **Update the `columns_names` list**\n",
    "\n",
    "   Before :\n",
    "\n",
    "    ``` python\n",
    "        column_names = []\n",
    "    ```\n",
    "    \n",
    "    After : \n",
    "\n",
    "    ``` python\n",
    "        column_names = [\n",
    "            \"unknown1\",\n",
    "            \"unknown2\",\n",
    "            \"unknown3\",\n",
    "            \"timestep\",\n",
    "            \"unknown4\",\n",
    "            \"unknown5\",\n",
    "            \"rainfall_rate_32bit\",\n",
    "            \"rainfall_accumulated_32bit\",\n",
    "            \"weather_code_synop_4680\",\n",
    "            \"weather_code_synop_4677\",\n",
    "            \"reflectivity_32bit\",\n",
    "            \"mor_visibility\",\n",
    "            \"laser_amplitude\",\n",
    "            \"number_particles\",\n",
    "            \"sensor_temperature\",\n",
    "            \"sensor_heating_current\",\n",
    "            \"sensor_battery_voltage\",\n",
    "            \"sensor_status\",\n",
    "            \"rainfall_amount_absolute_32bit\",\n",
    "            \"error_code\",\n",
    "            \"raw_drop_concentration\",\n",
    "            \"raw_drop_average_velocity\",\n",
    "            \"raw_drop_number\",\n",
    "            \"unknown6\",\n",
    "        ]\n",
    "    ```\n",
    "\n",
    "---------------------------------------------------------------------------------------\n",
    "5. **Update the `reader_kwargs` dictionary**\n",
    "\n",
    "    Before :\n",
    "\n",
    "    ``` python\n",
    "        reader_kwargs = {}\n",
    "\n",
    "    ```\n",
    "    \n",
    "    After : \n",
    "\n",
    "    ``` python\n",
    "        reader_kwargs = {}\n",
    "\n",
    "        # - Define delimiter\n",
    "        reader_kwargs[\"delimiter\"] = \",\"\n",
    "\n",
    "        # - Avoid first column to become df index !!!\n",
    "        reader_kwargs[\"index_col\"] = False\n",
    "\n",
    "        # Since column names are expected to be passed explicitly, header is set to None\n",
    "        reader_kwargs['header'] = None\n",
    "\n",
    "        # - Number of rows to be skipped at the beginning of the file \n",
    "        reader_kwargs['skiprows']= None\n",
    "\n",
    "        # - Define behaviour when encountering bad lines\n",
    "        reader_kwargs[\"on_bad_lines\"] = \"skip\"\n",
    "\n",
    "        # - Define reader engine\n",
    "        #   - C engine is faster\n",
    "        #   - Python engine is more feature-complete\n",
    "        reader_kwargs[\"engine\"] = \"python\"\n",
    "\n",
    "        # - Define on-the-fly decompression of on-disk data\n",
    "        #   - Available: gzip, bz2, zip\n",
    "        reader_kwargs[\"compression\"] = \"infer\"\n",
    "\n",
    "        # - Strings to recognize as NA/NaN and replace with standard NA flags\n",
    "        #   - Already included: ‘#N/A’, ‘#N/A N/A’, ‘#NA’, ‘-1.#IND’, ‘-1.#QNAN’,\n",
    "        #                       ‘-NaN’, ‘-nan’, ‘1.#IND’, ‘1.#QNAN’, ‘<NA>’, ‘N/A’,\n",
    "        #                       ‘NA’, ‘NULL’, ‘NaN’, ‘n/a’, ‘nan’, ‘null’\n",
    "        reader_kwargs[\"na_values\"] = [\"na\", \"\", \"error\"]\n",
    "\n",
    "    ```\n",
    "\n",
    "---------------------------------------------------------------------------------------\n",
    "6. **Update the `df_sanitizer_fun()` function**\n",
    "\n",
    "   Before:\n",
    "\n",
    "    ``` python\n",
    "\n",
    "        def df_sanitizer_fun(df):\n",
    "            # - Import dask or pandas\n",
    "            import pandas as pd\n",
    "                    \n",
    "            # - Add here below the reader required custom code\n",
    "            pass\n",
    "        \n",
    "            # - Return the dataframe \n",
    "            return df\n",
    "        \n",
    "    ```\n",
    "    \n",
    "    After : \n",
    "\n",
    "    ``` python\n",
    "        def df_sanitizer_fun(df):\n",
    "            # Import pandas\n",
    "            import pandas as pd\n",
    "\n",
    "            # - Drop unvalid columns\n",
    "            columns_to_drop = [\"unknown1\", \"unknown2\", \"unknown3\",\"unknown4\",'unknown5','unknown6']\n",
    "            df = df.drop(columns=columns_to_drop)\n",
    "\n",
    "            # - Convert timestep column to datetime format\n",
    "            df[\"time\"] = pd.to_datetime(df[\"timestep\"], format=\"%m-%d-%Y %H:%M:%S\")\n",
    "            df = df.drop(columns=[\"timestep\"])\n",
    "            \n",
    "            # - Return the dataframe \n",
    "            return df\n",
    "        \n",
    "    ```\n",
    " \n",
    " ---------------------------------------------------------------------------------------   "
   ],
   "metadata": {}
  },
  {
   "cell_type": "markdown",
   "source": [
    "7. **Run the script**\n",
    "\n",
    "To run the scripts, you need to define the local <disdrodb_dir> directory where all the data and metadata are stored.\n",
    "On Windows, it will have a path ending by \\DISDRODB \n",
    "On Mac/Linux, it will have a path ending by /DISDRODB \n",
    "\n",
    "To run the processing of a single station, just run:    \n",
    "     \n",
    "```\n",
    "run_disdrodb_l0_station <disdrodb_dir> <DATA_SOURCE> <CAMPAIGN_NAME> <STATION_NAME> -l0b True -f True -v True -d False\n",
    "```\n",
    "\n",
    "To run the processing on all stations of a given campaign, just run:    \n",
    "     \n",
    "```\n",
    "run_disdrodb_l0 <disdrodb_dir> --data_sources <DATA_SOURCE> --campaign_names <CAMPAIGN_NAME> -f True -v True -d False\n",
    "```\n",
    "\n",
    "Have a look  [here](https://disdrodb.readthedocs.io/en/latest/readers.html#running-a-reader) for a full documentation on how to run specific DISDRODB L0 processing. \n",
    "\n",
    "ATTENTION: For this to command to run, you need to have added the `reader` name to the station metadata YAML file !\n",
    "\n",
    " ---------------------------------------------------------------------------------------"
   ],
   "metadata": {}
  },
  {
   "cell_type": "markdown",
   "source": [
    "8. **Check if the script has correctly executed**\n",
    "\n",
    "    The output folder should be as follow :\n",
    "    \n",
    "    ```\n",
    "    📁 DISDRODB\n",
    "    ├── 📁 Processed\n",
    "       ├── 📁 DATA_SOURCE\n",
    "          ├── 📁 CAMPAIGN_NAME\n",
    "              ├── 📁 info\n",
    "                  ├── 📜 station_name_1.yml\n",
    "                  ├── 📜 station_name_2.yml\n",
    "              ├── 📁 L0A\n",
    "                  ├── 📁 station_name_1\n",
    "                     ├── 📜 *.parquet\n",
    "                  ├── 📁 station_name_1\n",
    "                     ├── 📜 *.parquet\n",
    "              ├── 📁 L0B\n",
    "                  ├── 📁 station_name_1\n",
    "                     ├── 📜 *.nc\n",
    "                  ├── 📁 station_name_2\n",
    "                     ├── 📜 *.nc\n",
    "              ├── 📁 logs\n",
    "                     ├── 📁 L0A\n",
    "                          ├── 📁 station_name_1\n",
    "                              ├── 📜 logs_<raw_file_name>.log\n",
    "                          ├── 📁 station_name_2\n",
    "                              ├── 📜 logs_<raw_file_name>.log\n",
    "                     ├── 📁 L0B\n",
    "                          ├── 📁 station_name_1\n",
    "                              ├── 📜 logs_<L0B_file_name>.log\n",
    "                          ├── 📁 station_name_2\n",
    "                              ├── 📜 logs_<L0B_file_name>.log\n",
    "              ├── 📁 metadata\n",
    "                  ├── 📜 station_name_1.yml\n",
    "                  ├── 📜 station_name_2.yml\n",
    "\n",
    "    ```\n",
    "\n",
    "---------------------------------------------------------------------------------------"
   ],
   "metadata": {}
  },
  {
   "cell_type": "markdown",
   "source": [
    "Well done 👋👋👋 \n",
    "\n",
    "You should now be able to create a new reader for your own data.\n",
    "Please consider to share the reader for your data with the community by uploading it on the DISDRODB repository.\n",
    "\n",
    "Have a look at the [contributors guidelines](https://disdrodb.readthedocs.io/en/latest/contributors_guidelines.html) for more information and do not hesitate to open a [GitHub Issue](https://github.com/ltelab/disdrodb/issues) if you need any clarification. \n",
    "\n",
    "The DISDRODB team hope you enjoyed this tutorial "
   ],
   "metadata": {}
  },
  {
   "cell_type": "code",
   "execution_count": null,
   "source": [],
   "outputs": [],
   "metadata": {}
  }
 ],
 "metadata": {
  "kernelspec": {
   "display_name": "disdrodb-dev",
   "language": "python",
   "name": "disdrodb-dev"
  },
  "language_info": {
   "codemirror_mode": {
    "name": "ipython",
    "version": 3
   },
   "file_extension": ".py",
   "mimetype": "text/x-python",
   "name": "python",
   "nbconvert_exporter": "python",
   "pygments_lexer": "ipython3",
   "version": "3.9.15"
  },
  "vscode": {
   "interpreter": {
    "hash": "b4d1ec8d1dd30c29a78e1219ac842bfd4fe46f1242619df0acfa77d4bf4313d5"
   }
  }
 },
 "nbformat": 4,
 "nbformat_minor": 5
}