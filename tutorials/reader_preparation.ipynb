{
 "cells": [
  {
   "cell_type": "markdown",
   "id": "7fb27b941602401d91542211134fc71a",
   "metadata": {},
   "source": [
    "# DISDRODB reader preparation tutorial"
   ]
  },
  {
   "cell_type": "markdown",
   "id": "acae54e37e7d407bbb7b55eff062a284",
   "metadata": {},
   "source": [
    "This notebook aims to guide you through creating the reader for the raw files logged by a disdrometer device. \n",
    "\n",
    "In first place, this notebook will provide you with functions that will display and enable to investigate the content of your raw data files.\n",
    "\n",
    "Successively, you will define a series of parameters defining the reader behaviour. These pieces of code will be consolidated in the [reader_template.py](https://github.com/ltelab/disdrodb/blob/main/disdrodb/l0/readers/reader_template.py) file to generate a DISDRODB L0 reader.\n"
   ]
  },
  {
   "cell_type": "markdown",
   "id": "9a63283cbaf04dbcab1f6479b197f3a8",
   "metadata": {},
   "source": [
    "In this notebook, we uses a lightweight dataset for illustratory purposes. You may use it and readapt it for exploring your own dataset, when preparing a new reader. \n",
    "\n",
    "Following the documentation in [How to Contribute New Data to DISDRODB](https://disdrodb.readthedocs.io/en/latest/contribute_data.html), you should have already: \n",
    "\n",
    "* defined the metadata for the stations you aim to define the reader\n",
    "* copied the raw data within the correct folder of the local DISDRODB archive\n",
    "* copied the [reader_template.py](https://github.com/ltelab/disdrodb/blob/main/disdrodb/l0/readers/reader_template.py), place it in the correct `disdrodb.l0.<READER_DATA_SOURCE>` directory and renamed it as `<READER_NAME>.py`\n",
    "\n",
    " "
   ]
  },
  {
   "cell_type": "markdown",
   "id": "8dd0d8092fe74a7c96281538738b07e2",
   "metadata": {},
   "source": [
    "For this tutorial, we have prepared some sample data in the folder [data/DISDRODB](https://github.com/ltelab/disdrodb/tree/main/data/DISDRODB) of the [disdrodb](https://github.com/ltelab/disdrodb/) repository. In this tutorial, this `data/DISDRODB` directory will act as toy DISDRODB base directory.\n",
    "\n",
    "The data corresponds to some measurements taken at two stations (`station_name_1` and `station_name_2`) during two days of a field campaign led by the EPFL LTE laboratory.\n",
    "\n",
    "```\n",
    "  📁 DISDRODB\n",
    "  ├── 📁 Raw\n",
    "      ├── 📁 DATA_SOURCE\n",
    "          ├── 📁 CAMPAIGN_NAME\n",
    "              ├── 📁 data\n",
    "                  ├── 📁 station_name_1\n",
    "                  ├── 📜 file60_20180817.dat.gz\n",
    "                  ├── 📜 file60_20180818.dat.gz\n",
    "                  ├── 📁 station_name_2\n",
    "                  ├── 📜 file61_20180817.dat.gz\n",
    "                  ├── 📜 file61_20180818.dat.gz\n",
    "              ├── 📁 info\n",
    "              ├── 📁 issue\n",
    "                  ├── 📜 station_name_1.yml\n",
    "                  ├── 📜 station_name_2.yml\n",
    "              ├── 📁 metadata\n",
    "                  ├── 📜 station_name_1.yml\n",
    "                  ├── 📜 station_name_2.yml\n",
    "```\n"
   ]
  },
  {
   "cell_type": "markdown",
   "id": "72eea5119410473aa328ad9291626812",
   "metadata": {},
   "source": [
    "## Step 1: Read and analyse the data"
   ]
  },
  {
   "cell_type": "markdown",
   "id": "8edb47106e1a46a883d545849b8ab81b",
   "metadata": {},
   "source": [
    "The goal of Step 1 is to define the specifications to read the raw data into a dataframe and ensure that the dataframe columns match the DISDRODB standards.\n",
    "At the end of this tutorial, you should be able to generate Apache Parquet files from your input raw data. "
   ]
  },
  {
   "cell_type": "markdown",
   "id": "10185d26023b46108eb7d9f57d49d2b3",
   "metadata": {},
   "source": [
    "--------------------------------------------------------------------\n",
    "Here we load the modules and packages required. *Nothing must be changed here*. "
   ]
  },
  {
   "cell_type": "code",
   "execution_count": 1,
   "id": "8763a12b2bbd4a93a75aff182afb95dc",
   "metadata": {},
   "outputs": [
    {
     "name": "stdout",
     "output_type": "stream",
     "text": [
      "/home/ghiggi/Python_Packages/disdrodb\n"
     ]
    }
   ],
   "source": [
    "# Define project base directory\n",
    "import os\n",
    "\n",
    "root_path = os.path.dirname(os.getcwd())  # something like /home/ghiggi/Projects/disdrodb\n",
    "print(root_path)"
   ]
  },
  {
   "cell_type": "code",
   "execution_count": 4,
   "id": "7623eae2785240b9bd12b16a66d81610",
   "metadata": {},
   "outputs": [],
   "source": [
    "import pandas as pd\n",
    "\n",
    "from disdrodb.api.checks import check_sensor_name\n",
    "\n",
    "# Directory\n",
    "from disdrodb.api.create_directories import create_l0_directory_structure\n",
    "from disdrodb.api.info import infer_path_info_dict\n",
    "\n",
    "# Standards\n",
    "from disdrodb.api.path import define_campaign_dir\n",
    "from disdrodb.l0.check_standards import check_l0a_column_names\n",
    "\n",
    "# L0A processing\n",
    "from disdrodb.l0.io import get_raw_filepaths\n",
    "from disdrodb.l0.l0a_processing import (\n",
    "    read_raw_file,\n",
    "    read_raw_files,\n",
    ")\n",
    "\n",
    "# L0B processing\n",
    "from disdrodb.l0.l0b_processing import (\n",
    "    create_l0b_from_l0a,\n",
    ")\n",
    "\n",
    "# Tools to develop the reader\n",
    "from disdrodb.l0.template_tools import (\n",
    "    check_column_names,\n",
    "    get_df_columns_unique_values_dict,\n",
    "    infer_column_names,\n",
    "    print_df_column_names,\n",
    "    print_df_columns_unique_values,\n",
    "    print_df_first_n_rows,\n",
    "    print_df_random_n_rows,\n",
    "    print_df_summary_stats,\n",
    "    print_valid_l0_column_names,\n",
    ")\n",
    "\n",
    "# Metadata\n",
    "from disdrodb.metadata import read_station_metadata\n"
   ]
  },
  {
   "cell_type": "markdown",
   "id": "7cdc8c89c7104fffa095e18ddfef8986",
   "metadata": {},
   "source": [
    "**1. Define paths and running parameters**\n",
    "\n",
    "In the following section, define the raw and processed directory paths. *This may be changed if you are using another folder*.\n",
    "\n",
    "NB:\n",
    "- In the real use case, the `DATA_SOURCE` and `CAMPAIGN_NAME` should be replaced by meaningul names ! \n",
    "- The `raw_dir` and `processed_dir` must end with the same `CAMPAIGN_NAME` (in upper case format)"
   ]
  },
  {
   "cell_type": "code",
   "execution_count": 5,
   "id": "b118ea5561624da68c537baed56e602f",
   "metadata": {},
   "outputs": [
    {
     "name": "stdout",
     "output_type": "stream",
     "text": [
      "raw_dir: /home/ghiggi/Python_Packages/disdrodb/data/DISDRODB/Raw/DATA_SOURCE/CAMPAIGN_NAME\n",
      "processed_dir: /home/ghiggi/Python_Packages/disdrodb/data/DISDRODB/Processed/DATA_SOURCE/CAMPAIGN_NAME\n"
     ]
    }
   ],
   "source": [
    "base_dir = os.path.join(root_path, \"data\", \"DISDRODB\")\n",
    "data_source = \"DATA_SOURCE\"\n",
    "campaign_name = \"CAMPAIGN_NAME\"\n",
    "raw_dir = define_campaign_dir(base_dir=base_dir,\n",
    "                                    product=\"RAW\",\n",
    "                                    data_source=data_source,\n",
    "                                    campaign_name=campaign_name,\n",
    ")\n",
    "processed_dir = define_campaign_dir(base_dir=base_dir,\n",
    "                                    product=\"L0A\",\n",
    "                                    data_source=data_source,\n",
    "                                    campaign_name=campaign_name,\n",
    ")\n",
    "assert os.path.exists(raw_dir), \"Raw directory does not exist\"\n",
    "print(f\"raw_dir: {raw_dir}\")\n",
    "print(f\"processed_dir: {processed_dir}\")"
   ]
  },
  {
   "cell_type": "markdown",
   "id": "938c804e27f84196a10c8828c723f798",
   "metadata": {},
   "source": [
    "Then we define the reader execution parameters. When the new reader will be created, these parameters will be become the reader function arguments. Please have a look [at the documentation](https://disdrodb.readthedocs.io/en/latest/readers.html#runing-a-reader) to get a full description. "
   ]
  },
  {
   "cell_type": "code",
   "execution_count": 6,
   "id": "504fb2a444614c0babb325280ed9130a",
   "metadata": {},
   "outputs": [],
   "source": [
    "force = True\n",
    "parallel = False\n",
    "verbose = True\n",
    "debugging_mode = True\n",
    "sensor_name = \"OTT_Parsivel\""
   ]
  },
  {
   "cell_type": "markdown",
   "id": "59bbdb311c014d738909a11f9e486628",
   "metadata": {},
   "source": [
    "**2. Selection of the station**\n",
    "\n",
    "In this example, we choose  to implement and run the reader for station `station_name_1`. However, feel free to change the station name :)"
   ]
  },
  {
   "cell_type": "code",
   "execution_count": 7,
   "id": "b43b363d81ae4b689946ece5c682cd59",
   "metadata": {},
   "outputs": [],
   "source": [
    "station_name = \"station_name_1\""
   ]
  },
  {
   "cell_type": "markdown",
   "id": "8a65eabff63a45729fe45fb5ade58bdc",
   "metadata": {},
   "source": [
    "**3. Initialization**\n",
    "\n",
    "We initiate some checks, and get some variable. *Nothing must be changed here.*"
   ]
  },
  {
   "cell_type": "code",
   "execution_count": 10,
   "id": "c3933fab20d04ec698c2621248eb3be0",
   "metadata": {},
   "outputs": [],
   "source": [
    "# Create directory structure\n",
    "create_l0_directory_structure(\n",
    "    raw_dir=raw_dir,\n",
    "    processed_dir=processed_dir,\n",
    "    station_name=station_name,\n",
    "    force=force,\n",
    "    verbose=False,\n",
    "    product=\"L0A\",\n",
    ")"
   ]
  },
  {
   "cell_type": "markdown",
   "id": "4dd4641cc4064e0191573fe9c69df29b",
   "metadata": {},
   "source": [
    "Please, be sure to run the cell above only one time. If it is run many times, the log file blocks the folder creation.  "
   ]
  },
  {
   "cell_type": "markdown",
   "id": "8309879909854d7188b41380fd92a7c3",
   "metadata": {},
   "source": [
    "**4. Get the list of file to process**\n",
    "\n",
    "We now list all raw data files that are available for the selected station.\n",
    "Here we need to specify the [glob pattern](https://en.wikipedia.org/wiki/Glob_(programming)) that enables to select all the relevant data files. \n",
    "Since the files in this case study are named like `file<XXX>_<TIME>.dat.gz`, we define the glob pattern `\"*.dat*\"`. Note that also `\"*.dat.gz\"` or `\"file*.dat.gz\"` would have worked.\n"
   ]
  },
  {
   "cell_type": "code",
   "execution_count": 11,
   "id": "3ed186c9a28b402fb0bc4494df01f08d",
   "metadata": {},
   "outputs": [
    {
     "name": "stdout",
     "output_type": "stream",
     "text": [
      " -  - 2 files to process in /home/ghiggi/Python_Packages/disdrodb/data/DISDRODB/Raw/DATA_SOURCE/CAMPAIGN_NAME/data/station_name_1\n",
      "['/home/ghiggi/Python_Packages/disdrodb/data/DISDRODB/Raw/DATA_SOURCE/CAMPAIGN_NAME/data/station_name_1/file60_20180817.dat.gz', '/home/ghiggi/Python_Packages/disdrodb/data/DISDRODB/Raw/DATA_SOURCE/CAMPAIGN_NAME/data/station_name_1/file60_20180818.dat.gz']\n"
     ]
    }
   ],
   "source": [
    "glob_pattern = \"*.dat*\"\n",
    "\n",
    "filepaths = get_raw_filepaths(\n",
    "    raw_dir=raw_dir,\n",
    "    station_name=station_name,\n",
    "    glob_patterns=glob_pattern,\n",
    "    verbose=verbose,\n",
    "    debugging_mode=debugging_mode,\n",
    ")\n",
    "\n",
    "print(filepaths)"
   ]
  },
  {
   "cell_type": "markdown",
   "id": "cb1e1581032b452c9409d6c6813c49d1",
   "metadata": {},
   "source": [
    "🚨 The `glob_pattern` variable definition will be transferred into your reader function at the end of this notebook.\n",
    "\n",
    "Remember that the `glob_pattern` variable depends on the file naming and extensions of your raw data !!!"
   ]
  },
  {
   "cell_type": "markdown",
   "id": "379cbbc1e968416e875cc15c1202d7eb",
   "metadata": {},
   "source": [
    "**5. Retrieve metadata from YAML files**\n",
    "\n",
    "We now load the metadata file of the station.\n",
    "\n",
    "If the name of the station is not correctly defined, an error message is raised."
   ]
  },
  {
   "cell_type": "code",
   "execution_count": 12,
   "id": "277c27b1587741f2af2001be3712ef0d",
   "metadata": {},
   "outputs": [],
   "source": [
    "# Retrieve metadata\n",
    "attrs = read_station_metadata(station_name=station_name,\n",
    "                              product=\"RAW\",\n",
    "                              **infer_path_info_dict(raw_dir))\n",
    "# Retrieve sensor name\n",
    "sensor_name = attrs[\"sensor_name\"]\n",
    "check_sensor_name(sensor_name)"
   ]
  },
  {
   "cell_type": "markdown",
   "id": "db7b79bc585a40fcaf58bf750017e135",
   "metadata": {},
   "source": [
    "**5. Load the one file into a dataframe**\n",
    "\n",
    "In the  `reader_kwargs` dictionary, you may set [any arguments](https://pandas.pydata.org/docs/reference/api/pandas.read_csv.html) that need to be passed to read the raw text file into a `pandas.DataFrame`."
   ]
  },
  {
   "cell_type": "code",
   "execution_count": 13,
   "id": "916684f9a58a4a2aa5f864670399430d",
   "metadata": {},
   "outputs": [
    {
     "name": "stdout",
     "output_type": "stream",
     "text": [
      "Dataframe for the file file60_20180817.dat.gz :\n"
     ]
    },
    {
     "data": {
      "text/html": [
       "<div>\n",
       "<style scoped>\n",
       "    .dataframe tbody tr th:only-of-type {\n",
       "        vertical-align: middle;\n",
       "    }\n",
       "\n",
       "    .dataframe tbody tr th {\n",
       "        vertical-align: top;\n",
       "    }\n",
       "\n",
       "    .dataframe thead th {\n",
       "        text-align: right;\n",
       "    }\n",
       "</style>\n",
       "<table border=\"1\" class=\"dataframe\">\n",
       "  <thead>\n",
       "    <tr style=\"text-align: right;\">\n",
       "      <th></th>\n",
       "      <th>0</th>\n",
       "      <th>1</th>\n",
       "      <th>2</th>\n",
       "      <th>3</th>\n",
       "      <th>4</th>\n",
       "      <th>5</th>\n",
       "      <th>6</th>\n",
       "      <th>7</th>\n",
       "      <th>8</th>\n",
       "      <th>9</th>\n",
       "      <th>...</th>\n",
       "      <th>14</th>\n",
       "      <th>15</th>\n",
       "      <th>16</th>\n",
       "      <th>17</th>\n",
       "      <th>18</th>\n",
       "      <th>19</th>\n",
       "      <th>20</th>\n",
       "      <th>21</th>\n",
       "      <th>22</th>\n",
       "      <th>23</th>\n",
       "    </tr>\n",
       "  </thead>\n",
       "  <tbody>\n",
       "    <tr>\n",
       "      <th>0</th>\n",
       "      <td>362511</td>\n",
       "      <td>4612.0301</td>\n",
       "      <td>00847.4977</td>\n",
       "      <td>01-08-2018 12:44:30</td>\n",
       "      <td>NaN</td>\n",
       "      <td>OK</td>\n",
       "      <td>0000.000</td>\n",
       "      <td>0056.49</td>\n",
       "      <td>00</td>\n",
       "      <td>00</td>\n",
       "      <td>...</td>\n",
       "      <td>035</td>\n",
       "      <td>0.06</td>\n",
       "      <td>24.9</td>\n",
       "      <td>0</td>\n",
       "      <td>005.649</td>\n",
       "      <td>000</td>\n",
       "      <td>-9.999,-9.999,-9.999,-9.999,-9.999,-9.999,-9.9...</td>\n",
       "      <td>00.000,00.000,00.000,00.000,00.000,00.000,00.0...</td>\n",
       "      <td>000,000,000,000,000,000,000,000,000,000,000,00...</td>\n",
       "      <td>0</td>\n",
       "    </tr>\n",
       "    <tr>\n",
       "      <th>1</th>\n",
       "      <td>362512</td>\n",
       "      <td>4612.0301</td>\n",
       "      <td>00847.4978</td>\n",
       "      <td>01-08-2018 12:45:01</td>\n",
       "      <td>NaN</td>\n",
       "      <td>OK</td>\n",
       "      <td>0000.000</td>\n",
       "      <td>0056.49</td>\n",
       "      <td>00</td>\n",
       "      <td>00</td>\n",
       "      <td>...</td>\n",
       "      <td>035</td>\n",
       "      <td>0.06</td>\n",
       "      <td>24.9</td>\n",
       "      <td>0</td>\n",
       "      <td>005.649</td>\n",
       "      <td>000</td>\n",
       "      <td>-9.999,-9.999,-9.999,-9.999,-9.999,-9.999,-9.9...</td>\n",
       "      <td>00.000,00.000,00.000,00.000,00.000,00.000,00.0...</td>\n",
       "      <td>000,000,000,000,000,000,000,000,000,000,000,00...</td>\n",
       "      <td>0</td>\n",
       "    </tr>\n",
       "    <tr>\n",
       "      <th>2</th>\n",
       "      <td>362513</td>\n",
       "      <td>4612.0301</td>\n",
       "      <td>00847.4985</td>\n",
       "      <td>01-08-2018 12:45:30</td>\n",
       "      <td>NaN</td>\n",
       "      <td>OK</td>\n",
       "      <td>0000.000</td>\n",
       "      <td>0056.49</td>\n",
       "      <td>00</td>\n",
       "      <td>00</td>\n",
       "      <td>...</td>\n",
       "      <td>035</td>\n",
       "      <td>0.06</td>\n",
       "      <td>24.9</td>\n",
       "      <td>0</td>\n",
       "      <td>005.649</td>\n",
       "      <td>000</td>\n",
       "      <td>-9.999,-9.999,-9.999,-9.999,-9.999,-9.999,-9.9...</td>\n",
       "      <td>00.000,00.000,00.000,00.000,00.000,00.000,00.0...</td>\n",
       "      <td>000,000,000,000,000,000,000,000,000,000,000,00...</td>\n",
       "      <td>0</td>\n",
       "    </tr>\n",
       "    <tr>\n",
       "      <th>3</th>\n",
       "      <td>362514</td>\n",
       "      <td>4612.0305</td>\n",
       "      <td>00847.4990</td>\n",
       "      <td>01-08-2018 12:46:01</td>\n",
       "      <td>NaN</td>\n",
       "      <td>OK</td>\n",
       "      <td>0000.000</td>\n",
       "      <td>0056.49</td>\n",
       "      <td>00</td>\n",
       "      <td>00</td>\n",
       "      <td>...</td>\n",
       "      <td>035</td>\n",
       "      <td>0.05</td>\n",
       "      <td>24.9</td>\n",
       "      <td>0</td>\n",
       "      <td>005.649</td>\n",
       "      <td>000</td>\n",
       "      <td>-9.999,-9.999,-9.999,-9.999,-9.999,-9.999,-9.9...</td>\n",
       "      <td>00.000,00.000,00.000,00.000,00.000,00.000,00.0...</td>\n",
       "      <td>000,000,000,000,000,000,000,000,000,000,000,00...</td>\n",
       "      <td>0</td>\n",
       "    </tr>\n",
       "    <tr>\n",
       "      <th>4</th>\n",
       "      <td>362515</td>\n",
       "      <td>4612.0303</td>\n",
       "      <td>00847.4992</td>\n",
       "      <td>01-08-2018 12:46:31</td>\n",
       "      <td>NaN</td>\n",
       "      <td>OK</td>\n",
       "      <td>0000.000</td>\n",
       "      <td>0056.49</td>\n",
       "      <td>00</td>\n",
       "      <td>00</td>\n",
       "      <td>...</td>\n",
       "      <td>034</td>\n",
       "      <td>0.06</td>\n",
       "      <td>24.9</td>\n",
       "      <td>0</td>\n",
       "      <td>005.649</td>\n",
       "      <td>000</td>\n",
       "      <td>-9.999,-9.999,-9.999,-9.999,-9.999,-9.999,-9.9...</td>\n",
       "      <td>00.000,00.000,00.000,00.000,00.000,00.000,00.0...</td>\n",
       "      <td>000,000,000,000,000,000,000,000,000,000,000,00...</td>\n",
       "      <td>0</td>\n",
       "    </tr>\n",
       "    <tr>\n",
       "      <th>...</th>\n",
       "      <td>...</td>\n",
       "      <td>...</td>\n",
       "      <td>...</td>\n",
       "      <td>...</td>\n",
       "      <td>...</td>\n",
       "      <td>...</td>\n",
       "      <td>...</td>\n",
       "      <td>...</td>\n",
       "      <td>...</td>\n",
       "      <td>...</td>\n",
       "      <td>...</td>\n",
       "      <td>...</td>\n",
       "      <td>...</td>\n",
       "      <td>...</td>\n",
       "      <td>...</td>\n",
       "      <td>...</td>\n",
       "      <td>...</td>\n",
       "      <td>...</td>\n",
       "      <td>...</td>\n",
       "      <td>...</td>\n",
       "      <td>...</td>\n",
       "    </tr>\n",
       "    <tr>\n",
       "      <th>4736</th>\n",
       "      <td>367249</td>\n",
       "      <td>4612.0313</td>\n",
       "      <td>00847.4956</td>\n",
       "      <td>03-08-2018 04:13:25</td>\n",
       "      <td>NaN</td>\n",
       "      <td>OK</td>\n",
       "      <td>0000.000</td>\n",
       "      <td>0056.71</td>\n",
       "      <td>00</td>\n",
       "      <td>00</td>\n",
       "      <td>...</td>\n",
       "      <td>015</td>\n",
       "      <td>0.06</td>\n",
       "      <td>24.9</td>\n",
       "      <td>0</td>\n",
       "      <td>005.671</td>\n",
       "      <td>000</td>\n",
       "      <td>-9.999,-9.999,-9.999,-9.999,-9.999,-9.999,-9.9...</td>\n",
       "      <td>00.000,00.000,00.000,00.000,00.000,00.000,00.0...</td>\n",
       "      <td>000,000,000,000,000,000,000,000,000,000,000,00...</td>\n",
       "      <td>0</td>\n",
       "    </tr>\n",
       "    <tr>\n",
       "      <th>4737</th>\n",
       "      <td>367250</td>\n",
       "      <td>4612.0313</td>\n",
       "      <td>00847.4955</td>\n",
       "      <td>03-08-2018 04:13:56</td>\n",
       "      <td>NaN</td>\n",
       "      <td>OK</td>\n",
       "      <td>0000.000</td>\n",
       "      <td>0056.71</td>\n",
       "      <td>00</td>\n",
       "      <td>00</td>\n",
       "      <td>...</td>\n",
       "      <td>015</td>\n",
       "      <td>0.06</td>\n",
       "      <td>24.9</td>\n",
       "      <td>0</td>\n",
       "      <td>005.671</td>\n",
       "      <td>000</td>\n",
       "      <td>-9.999,-9.999,-9.999,-9.999,-9.999,-9.999,-9.9...</td>\n",
       "      <td>00.000,00.000,00.000,00.000,00.000,00.000,00.0...</td>\n",
       "      <td>000,000,000,000,000,000,000,000,000,000,000,00...</td>\n",
       "      <td>0</td>\n",
       "    </tr>\n",
       "    <tr>\n",
       "      <th>4738</th>\n",
       "      <td>367251</td>\n",
       "      <td>4612.0313</td>\n",
       "      <td>00847.4955</td>\n",
       "      <td>03-08-2018 04:14:26</td>\n",
       "      <td>NaN</td>\n",
       "      <td>OK</td>\n",
       "      <td>0000.000</td>\n",
       "      <td>0056.71</td>\n",
       "      <td>00</td>\n",
       "      <td>00</td>\n",
       "      <td>...</td>\n",
       "      <td>015</td>\n",
       "      <td>0.06</td>\n",
       "      <td>24.9</td>\n",
       "      <td>0</td>\n",
       "      <td>005.671</td>\n",
       "      <td>000</td>\n",
       "      <td>-9.999,-9.999,-9.999,-9.999,-9.999,-9.999,-9.9...</td>\n",
       "      <td>00.000,00.000,00.000,00.000,00.000,00.000,00.0...</td>\n",
       "      <td>000,000,000,000,000,000,000,000,000,000,000,00...</td>\n",
       "      <td>0</td>\n",
       "    </tr>\n",
       "    <tr>\n",
       "      <th>4739</th>\n",
       "      <td>367252</td>\n",
       "      <td>4612.0313</td>\n",
       "      <td>00847.4954</td>\n",
       "      <td>03-08-2018 04:14:55</td>\n",
       "      <td>NaN</td>\n",
       "      <td>OK</td>\n",
       "      <td>0000.000</td>\n",
       "      <td>0056.71</td>\n",
       "      <td>00</td>\n",
       "      <td>00</td>\n",
       "      <td>...</td>\n",
       "      <td>015</td>\n",
       "      <td>0.06</td>\n",
       "      <td>24.9</td>\n",
       "      <td>0</td>\n",
       "      <td>005.671</td>\n",
       "      <td>000</td>\n",
       "      <td>-9.999,-9.999,-9.999,-9.999,-9.999,-9.999,-9.9...</td>\n",
       "      <td>00.000,00.000,00.000,00.000,00.000,00.000,00.0...</td>\n",
       "      <td>000,000,000,000,000,000,000,000,000,000,000,00...</td>\n",
       "      <td>0</td>\n",
       "    </tr>\n",
       "    <tr>\n",
       "      <th>4740</th>\n",
       "      <td>367253</td>\n",
       "      <td>4612.0313</td>\n",
       "      <td>00847.4954</td>\n",
       "      <td>03-08-2018 04:15:25</td>\n",
       "      <td>NaN</td>\n",
       "      <td>OK</td>\n",
       "      <td>0000.000</td>\n",
       "      <td>0056.71</td>\n",
       "      <td>00</td>\n",
       "      <td>00</td>\n",
       "      <td>...</td>\n",
       "      <td>015</td>\n",
       "      <td>0.07</td>\n",
       "      <td>24.9</td>\n",
       "      <td>0</td>\n",
       "      <td>005.671</td>\n",
       "      <td>000</td>\n",
       "      <td>-9.999,-9.999,-9.999,-9.999,-9.999,-9.999,-9.9...</td>\n",
       "      <td>00.000,00.000,00.000,00.000,00.000,00.000,00.0...</td>\n",
       "      <td>000,000,000,000,000,000,000,000,000,000,000,00...</td>\n",
       "      <td>0</td>\n",
       "    </tr>\n",
       "  </tbody>\n",
       "</table>\n",
       "<p>4741 rows × 24 columns</p>\n",
       "</div>"
      ],
      "text/plain": [
       "          0          1           2                    3    4   5         6    \n",
       "0     362511  4612.0301  00847.4977  01-08-2018 12:44:30  NaN  OK  0000.000  \\\n",
       "1     362512  4612.0301  00847.4978  01-08-2018 12:45:01  NaN  OK  0000.000   \n",
       "2     362513  4612.0301  00847.4985  01-08-2018 12:45:30  NaN  OK  0000.000   \n",
       "3     362514  4612.0305  00847.4990  01-08-2018 12:46:01  NaN  OK  0000.000   \n",
       "4     362515  4612.0303  00847.4992  01-08-2018 12:46:31  NaN  OK  0000.000   \n",
       "...      ...        ...         ...                  ...  ...  ..       ...   \n",
       "4736  367249  4612.0313  00847.4956  03-08-2018 04:13:25  NaN  OK  0000.000   \n",
       "4737  367250  4612.0313  00847.4955  03-08-2018 04:13:56  NaN  OK  0000.000   \n",
       "4738  367251  4612.0313  00847.4955  03-08-2018 04:14:26  NaN  OK  0000.000   \n",
       "4739  367252  4612.0313  00847.4954  03-08-2018 04:14:55  NaN  OK  0000.000   \n",
       "4740  367253  4612.0313  00847.4954  03-08-2018 04:15:25  NaN  OK  0000.000   \n",
       "\n",
       "           7   8   9   ...   14    15    16 17       18   19   \n",
       "0     0056.49  00  00  ...  035  0.06  24.9  0  005.649  000  \\\n",
       "1     0056.49  00  00  ...  035  0.06  24.9  0  005.649  000   \n",
       "2     0056.49  00  00  ...  035  0.06  24.9  0  005.649  000   \n",
       "3     0056.49  00  00  ...  035  0.05  24.9  0  005.649  000   \n",
       "4     0056.49  00  00  ...  034  0.06  24.9  0  005.649  000   \n",
       "...       ...  ..  ..  ...  ...   ...   ... ..      ...  ...   \n",
       "4736  0056.71  00  00  ...  015  0.06  24.9  0  005.671  000   \n",
       "4737  0056.71  00  00  ...  015  0.06  24.9  0  005.671  000   \n",
       "4738  0056.71  00  00  ...  015  0.06  24.9  0  005.671  000   \n",
       "4739  0056.71  00  00  ...  015  0.06  24.9  0  005.671  000   \n",
       "4740  0056.71  00  00  ...  015  0.07  24.9  0  005.671  000   \n",
       "\n",
       "                                                     20   \n",
       "0     -9.999,-9.999,-9.999,-9.999,-9.999,-9.999,-9.9...  \\\n",
       "1     -9.999,-9.999,-9.999,-9.999,-9.999,-9.999,-9.9...   \n",
       "2     -9.999,-9.999,-9.999,-9.999,-9.999,-9.999,-9.9...   \n",
       "3     -9.999,-9.999,-9.999,-9.999,-9.999,-9.999,-9.9...   \n",
       "4     -9.999,-9.999,-9.999,-9.999,-9.999,-9.999,-9.9...   \n",
       "...                                                 ...   \n",
       "4736  -9.999,-9.999,-9.999,-9.999,-9.999,-9.999,-9.9...   \n",
       "4737  -9.999,-9.999,-9.999,-9.999,-9.999,-9.999,-9.9...   \n",
       "4738  -9.999,-9.999,-9.999,-9.999,-9.999,-9.999,-9.9...   \n",
       "4739  -9.999,-9.999,-9.999,-9.999,-9.999,-9.999,-9.9...   \n",
       "4740  -9.999,-9.999,-9.999,-9.999,-9.999,-9.999,-9.9...   \n",
       "\n",
       "                                                     21   \n",
       "0     00.000,00.000,00.000,00.000,00.000,00.000,00.0...  \\\n",
       "1     00.000,00.000,00.000,00.000,00.000,00.000,00.0...   \n",
       "2     00.000,00.000,00.000,00.000,00.000,00.000,00.0...   \n",
       "3     00.000,00.000,00.000,00.000,00.000,00.000,00.0...   \n",
       "4     00.000,00.000,00.000,00.000,00.000,00.000,00.0...   \n",
       "...                                                 ...   \n",
       "4736  00.000,00.000,00.000,00.000,00.000,00.000,00.0...   \n",
       "4737  00.000,00.000,00.000,00.000,00.000,00.000,00.0...   \n",
       "4738  00.000,00.000,00.000,00.000,00.000,00.000,00.0...   \n",
       "4739  00.000,00.000,00.000,00.000,00.000,00.000,00.0...   \n",
       "4740  00.000,00.000,00.000,00.000,00.000,00.000,00.0...   \n",
       "\n",
       "                                                     22 23  \n",
       "0     000,000,000,000,000,000,000,000,000,000,000,00...  0  \n",
       "1     000,000,000,000,000,000,000,000,000,000,000,00...  0  \n",
       "2     000,000,000,000,000,000,000,000,000,000,000,00...  0  \n",
       "3     000,000,000,000,000,000,000,000,000,000,000,00...  0  \n",
       "4     000,000,000,000,000,000,000,000,000,000,000,00...  0  \n",
       "...                                                 ... ..  \n",
       "4736  000,000,000,000,000,000,000,000,000,000,000,00...  0  \n",
       "4737  000,000,000,000,000,000,000,000,000,000,000,00...  0  \n",
       "4738  000,000,000,000,000,000,000,000,000,000,000,00...  0  \n",
       "4739  000,000,000,000,000,000,000,000,000,000,000,00...  0  \n",
       "4740  000,000,000,000,000,000,000,000,000,000,000,00...  0  \n",
       "\n",
       "[4741 rows x 24 columns]"
      ]
     },
     "metadata": {},
     "output_type": "display_data"
    }
   ],
   "source": [
    "reader_kwargs = {}\n",
    "\n",
    "# - Define delimiter\n",
    "reader_kwargs[\"delimiter\"] = \",\"\n",
    "\n",
    "# - Avoid first column to become df index !!!\n",
    "reader_kwargs[\"index_col\"] = False\n",
    "\n",
    "# Since column names are expected to be passed explicitly, header is set to None\n",
    "reader_kwargs[\"header\"] = None\n",
    "\n",
    "# - Number of rows to be skipped at the beginning of the file\n",
    "reader_kwargs[\"skiprows\"] = None\n",
    "\n",
    "# - Define behaviour when encountering bad lines\n",
    "reader_kwargs[\"on_bad_lines\"] = \"skip\"\n",
    "\n",
    "# - Define reader engine\n",
    "#   - C engine is faster\n",
    "#   - Python engine is more feature-complete\n",
    "reader_kwargs[\"engine\"] = \"python\"\n",
    "\n",
    "# - Define on-the-fly decompression of on-disk data\n",
    "#   - Available: gzip, bz2, zip\n",
    "reader_kwargs[\"compression\"] = \"infer\"\n",
    "\n",
    "# - Strings to recognize as NA/NaN and replace with standard NA flags\n",
    "#   - Already included: '#N/A', '#N/A N/A', '#NA', '-1.#IND', '-1.#QNAN',\n",
    "#                       '-NaN', '-nan', '1.#IND', '1.#QNAN', '<NA>', 'N/A',\n",
    "#                       'NA', 'NULL', 'NaN', 'n/a', 'nan', 'null'\n",
    "reader_kwargs[\"na_values\"] = [\"na\", \"\", \"error\"]\n",
    "\n",
    "\n",
    "# -----------------------------------------------------------\n",
    "# Select first file\n",
    "filepath = filepaths[0]\n",
    "\n",
    "# Try to read the raw file\n",
    "df_raw = read_raw_file(filepath, column_names=None, reader_kwargs=reader_kwargs)\n",
    "# Print the dataframe\n",
    "print(f\"Dataframe for the file {os.path.basename(filepath)} :\")\n",
    "display(df_raw)"
   ]
  },
  {
   "cell_type": "code",
   "execution_count": 14,
   "id": "1671c31a24314836a5b85d7ef7fbf015",
   "metadata": {},
   "outputs": [
    {
     "name": "stdout",
     "output_type": "stream",
     "text": [
      "Column names: Index([ 0,  1,  2,  3,  4,  5,  6,  7,  8,  9, 10, 11, 12, 13, 14, 15, 16, 17,\n",
      "       18, 19, 20, 21, 22, 23],\n",
      "      dtype='int64')\n",
      "Row Index: RangeIndex(start=0, stop=4741, step=1)\n"
     ]
    }
   ],
   "source": [
    "print(\"Column names:\", df_raw.columns)\n",
    "print(\"Row Index:\", df_raw.index)"
   ]
  },
  {
   "cell_type": "markdown",
   "id": "33b0902fd34d4ace834912fa1002cf8e",
   "metadata": {},
   "source": [
    "Here we expect the `df_raw` to have: \n",
    "- numeric column names (i.e.  `Int64Index`) \n",
    "- numeric row index (i.e. `RangeIndex`)  \n",
    "\n",
    "If the structure of the dataframe looks fine (no header and no row index), we are on the good track ! \n"
   ]
  },
  {
   "cell_type": "markdown",
   "id": "f6fa52606d8c4a75a9b52967216f8f3f",
   "metadata": {},
   "source": [
    "Depending on the schema of your data, this `reader_kwargs` dictionary may be fairly different from the one above. \n",
    "\n",
    "> 🚨 The `reader_kwargs` dictionary will be transferred to your reader function at the end of this notebook. "
   ]
  },
  {
   "cell_type": "markdown",
   "id": "f5a1fa73e5044315a093ec459c9be902",
   "metadata": {},
   "source": [
    "**6. Data exploration**\n",
    "\n",
    "Since the settings for searching and reading the raw data are now specified, we can now load one file and analyse its content to see if there is any errors or inconsistencies.\n",
    "\n",
    "Here are some instructions : \n",
    "\n",
    "* Do not assign column names to the dataframe columns yet\n",
    "* Do not assign a dtype to the dataframe columns yet\n",
    "* Possibly look at multiple files !\n"
   ]
  },
  {
   "cell_type": "markdown",
   "id": "cdf66aed5cc84ca1b48e60bad68798a8",
   "metadata": {},
   "source": [
    "We print the content first 3 rows :\n",
    " (*Feel free to change the value of n to see more/less rows*)"
   ]
  },
  {
   "cell_type": "code",
   "execution_count": 15,
   "id": "28d3efd5258a48a79c179ea5c6759f01",
   "metadata": {},
   "outputs": [
    {
     "name": "stdout",
     "output_type": "stream",
     "text": [
      " - Column 0 :\n",
      "      ['362511' '362512' '362513']\n",
      " - Column 1 :\n",
      "      ['4612.0301' '4612.0301' '4612.0301']\n",
      " - Column 2 :\n",
      "      ['00847.4977' '00847.4978' '00847.4985']\n",
      " - Column 3 :\n",
      "      ['01-08-2018 12:44:30' '01-08-2018 12:45:01' '01-08-2018 12:45:30']\n",
      " - Column 4 :\n",
      "      [nan nan nan]\n",
      " - Column 5 :\n",
      "      ['OK' 'OK' 'OK']\n",
      " - Column 6 :\n",
      "      ['0000.000' '0000.000' '0000.000']\n",
      " - Column 7 :\n",
      "      ['0056.49' '0056.49' '0056.49']\n",
      " - Column 8 :\n",
      "      ['00' '00' '00']\n",
      " - Column 9 :\n",
      "      ['00' '00' '00']\n",
      " - Column 10 :\n",
      "      ['-9.999' '-9.999' '-9.999']\n",
      " - Column 11 :\n",
      "      ['9999' '9999' '9999']\n",
      " - Column 12 :\n",
      "      ['12611' '12617' '12600']\n",
      " - Column 13 :\n",
      "      ['00000' '00000' '00000']\n",
      " - Column 14 :\n",
      "      ['035' '035' '035']\n",
      " - Column 15 :\n",
      "      ['0.06' '0.06' '0.06']\n",
      " - Column 16 :\n",
      "      ['24.9' '24.9' '24.9']\n",
      " - Column 17 :\n",
      "      ['0' '0' '0']\n",
      " - Column 18 :\n",
      "      ['005.649' '005.649' '005.649']\n",
      " - Column 19 :\n",
      "      ['000' '000' '000']\n",
      " - Column 20 :\n",
      "      ['-9.999,-9.999,-9.999,-9.999,-9.999,-9.999,-9.999,-9.999,-9.999,-9.999,-9.999,-9.999,-9.999,-9.999,-9.999,-9.999,-9.999,-9.999,-9.999,-9.999,-9.999,-9.999,-9.999,-9.999,-9.999,-9.999,-9.999,-9.999,-9.999,-9.999,-9.999,-9.999,'\n",
      " '-9.999,-9.999,-9.999,-9.999,-9.999,-9.999,-9.999,-9.999,-9.999,-9.999,-9.999,-9.999,-9.999,-9.999,-9.999,-9.999,-9.999,-9.999,-9.999,-9.999,-9.999,-9.999,-9.999,-9.999,-9.999,-9.999,-9.999,-9.999,-9.999,-9.999,-9.999,-9.999,'\n",
      " '-9.999,-9.999,-9.999,-9.999,-9.999,-9.999,-9.999,-9.999,-9.999,-9.999,-9.999,-9.999,-9.999,-9.999,-9.999,-9.999,-9.999,-9.999,-9.999,-9.999,-9.999,-9.999,-9.999,-9.999,-9.999,-9.999,-9.999,-9.999,-9.999,-9.999,-9.999,-9.999,']\n",
      " - Column 21 :\n",
      "      ['00.000,00.000,00.000,00.000,00.000,00.000,00.000,00.000,00.000,00.000,00.000,00.000,00.000,00.000,00.000,00.000,00.000,00.000,00.000,00.000,00.000,00.000,00.000,00.000,00.000,00.000,00.000,00.000,00.000,00.000,00.000,00.000,'\n",
      " '00.000,00.000,00.000,00.000,00.000,00.000,00.000,00.000,00.000,00.000,00.000,00.000,00.000,00.000,00.000,00.000,00.000,00.000,00.000,00.000,00.000,00.000,00.000,00.000,00.000,00.000,00.000,00.000,00.000,00.000,00.000,00.000,'\n",
      " '00.000,00.000,00.000,00.000,00.000,00.000,00.000,00.000,00.000,00.000,00.000,00.000,00.000,00.000,00.000,00.000,00.000,00.000,00.000,00.000,00.000,00.000,00.000,00.000,00.000,00.000,00.000,00.000,00.000,00.000,00.000,00.000,']\n",
      " - Column 22 :\n",
      "      ['000,000,000,000,000,000,000,000,000,000,000,000,000,000,000,000,000,000,000,000,000,000,000,000,000,000,000,000,000,000,000,000,000,000,000,000,000,000,000,000,000,000,000,000,000,000,000,000,000,000,000,000,000,000,000,000,000,000,000,000,000,000,000,000,000,000,000,000,000,000,000,000,000,000,000,000,000,000,000,000,000,000,000,000,000,000,000,000,000,000,000,000,000,000,000,000,000,000,000,000,000,000,000,000,000,000,000,000,000,000,000,000,000,000,000,000,000,000,000,000,000,000,000,000,000,000,000,000,000,000,000,000,000,000,000,000,000,000,000,000,000,000,000,000,000,000,000,000,000,000,000,000,000,000,000,000,000,000,000,000,000,000,000,000,000,000,000,000,000,000,000,000,000,000,000,000,000,000,000,000,000,000,000,000,000,000,000,000,000,000,000,000,000,000,000,000,000,000,000,000,000,000,000,000,000,000,000,000,000,000,000,000,000,000,000,000,000,000,000,000,000,000,000,000,000,000,000,000,000,000,000,000,000,000,000,000,000,000,000,000,000,000,000,000,000,000,000,000,000,000,000,000,000,000,000,000,000,000,000,000,000,000,000,000,000,000,000,000,000,000,000,000,000,000,000,000,000,000,000,000,000,000,000,000,000,000,000,000,000,000,000,000,000,000,000,000,000,000,000,000,000,000,000,000,000,000,000,000,000,000,000,000,000,000,000,000,000,000,000,000,000,000,000,000,000,000,000,000,000,000,000,000,000,000,000,000,000,000,000,000,000,000,000,000,000,000,000,000,000,000,000,000,000,000,000,000,000,000,000,000,000,000,000,000,000,000,000,000,000,000,000,000,000,000,000,000,000,000,000,000,000,000,000,000,000,000,000,000,000,000,000,000,000,000,000,000,000,000,000,000,000,000,000,000,000,000,000,000,000,000,000,000,000,000,000,000,000,000,000,000,000,000,000,000,000,000,000,000,000,000,000,000,000,000,000,000,000,000,000,000,000,000,000,000,000,000,000,000,000,000,000,000,000,000,000,000,000,000,000,000,000,000,000,000,000,000,000,000,000,000,000,000,000,000,000,000,000,000,000,000,000,000,000,000,000,000,000,000,000,000,000,000,000,000,000,000,000,000,000,000,000,000,000,000,000,000,000,000,000,000,000,000,000,000,000,000,000,000,000,000,000,000,000,000,000,000,000,000,000,000,000,000,000,000,000,000,000,000,000,000,000,000,000,000,000,000,000,000,000,000,000,000,000,000,000,000,000,000,000,000,000,000,000,000,000,000,000,000,000,000,000,000,000,000,000,000,000,000,000,000,000,000,000,000,000,000,000,000,000,000,000,000,000,000,000,000,000,000,000,000,000,000,000,000,000,000,000,000,000,000,000,000,000,000,000,000,000,000,000,000,000,000,000,000,000,000,000,000,000,000,000,000,000,000,000,000,000,000,000,000,000,000,000,000,000,000,000,000,000,000,000,000,000,000,000,000,000,000,000,000,000,000,000,000,000,000,000,000,000,000,000,000,000,000,000,000,000,000,000,000,000,000,000,000,000,000,000,000,000,000,000,000,000,000,000,000,000,000,000,000,000,000,000,000,000,000,000,000,000,000,000,000,000,000,000,000,000,000,000,000,000,000,000,000,000,000,000,000,000,000,000,000,000,000,000,000,000,000,000,000,000,000,000,000,000,000,000,000,000,000,000,000,000,000,000,000,000,000,000,000,000,000,000,000,000,000,000,000,000,000,000,000,000,000,000,000,000,000,000,000,000,000,000,000,000,000,000,000,000,000,000,000,000,000,000,000,000,000,000,000,000,000,000,000,000,000,000,000,000,000,000,000,000,000,000,000,000,000,000,000,000,000,000,000,000,000,000,000,000,000,000,000,000,000,000,000,000,000,000,000,000,000,000,000,000,000,000,000,000,000,000,000,000,000,000,000,000,000,000,000,000,000,000,000,000,000,000,000,000,000,000,000,000,000,000,000,000,000,000,000,000,000,000,000,000,000,000,000,000,000,000,000,000,000,000,000,000,000,000,000,000,000,000,000,000,000,000,000,000,000,000,000,000,000,000,000,000,000,000,000,000,000,000,000,000,000,000,000,000,000,000,000,000,000,000,000,000,000,000,000,000,000,000,000,000,000,000,000,000,000,000,000,000,000,000,000,000,000,000,000,000,000,000,000,000,000,000,000,000,000,000,000,000,000,000,000,000,000,000,000,000,000,000,000,000,000,000,000,000,000,000,000,000,000,000,000,000,000,000,000,000,000,000,000,000,000,000,000,000,000,000,000,000,000,000,000,000,000,000,000,000,000,000,000,'\n",
      " '000,000,000,000,000,000,000,000,000,000,000,000,000,000,000,000,000,000,000,000,000,000,000,000,000,000,000,000,000,000,000,000,000,000,000,000,000,000,000,000,000,000,000,000,000,000,000,000,000,000,000,000,000,000,000,000,000,000,000,000,000,000,000,000,000,000,000,000,000,000,000,000,000,000,000,000,000,000,000,000,000,000,000,000,000,000,000,000,000,000,000,000,000,000,000,000,000,000,000,000,000,000,000,000,000,000,000,000,000,000,000,000,000,000,000,000,000,000,000,000,000,000,000,000,000,000,000,000,000,000,000,000,000,000,000,000,000,000,000,000,000,000,000,000,000,000,000,000,000,000,000,000,000,000,000,000,000,000,000,000,000,000,000,000,000,000,000,000,000,000,000,000,000,000,000,000,000,000,000,000,000,000,000,000,000,000,000,000,000,000,000,000,000,000,000,000,000,000,000,000,000,000,000,000,000,000,000,000,000,000,000,000,000,000,000,000,000,000,000,000,000,000,000,000,000,000,000,000,000,000,000,000,000,000,000,000,000,000,000,000,000,000,000,000,000,000,000,000,000,000,000,000,000,000,000,000,000,000,000,000,000,000,000,000,000,000,000,000,000,000,000,000,000,000,000,000,000,000,000,000,000,000,000,000,000,000,000,000,000,000,000,000,000,000,000,000,000,000,000,000,000,000,000,000,000,000,000,000,000,000,000,000,000,000,000,000,000,000,000,000,000,000,000,000,000,000,000,000,000,000,000,000,000,000,000,000,000,000,000,000,000,000,000,000,000,000,000,000,000,000,000,000,000,000,000,000,000,000,000,000,000,000,000,000,000,000,000,000,000,000,000,000,000,000,000,000,000,000,000,000,000,000,000,000,000,000,000,000,000,000,000,000,000,000,000,000,000,000,000,000,000,000,000,000,000,000,000,000,000,000,000,000,000,000,000,000,000,000,000,000,000,000,000,000,000,000,000,000,000,000,000,000,000,000,000,000,000,000,000,000,000,000,000,000,000,000,000,000,000,000,000,000,000,000,000,000,000,000,000,000,000,000,000,000,000,000,000,000,000,000,000,000,000,000,000,000,000,000,000,000,000,000,000,000,000,000,000,000,000,000,000,000,000,000,000,000,000,000,000,000,000,000,000,000,000,000,000,000,000,000,000,000,000,000,000,000,000,000,000,000,000,000,000,000,000,000,000,000,000,000,000,000,000,000,000,000,000,000,000,000,000,000,000,000,000,000,000,000,000,000,000,000,000,000,000,000,000,000,000,000,000,000,000,000,000,000,000,000,000,000,000,000,000,000,000,000,000,000,000,000,000,000,000,000,000,000,000,000,000,000,000,000,000,000,000,000,000,000,000,000,000,000,000,000,000,000,000,000,000,000,000,000,000,000,000,000,000,000,000,000,000,000,000,000,000,000,000,000,000,000,000,000,000,000,000,000,000,000,000,000,000,000,000,000,000,000,000,000,000,000,000,000,000,000,000,000,000,000,000,000,000,000,000,000,000,000,000,000,000,000,000,000,000,000,000,000,000,000,000,000,000,000,000,000,000,000,000,000,000,000,000,000,000,000,000,000,000,000,000,000,000,000,000,000,000,000,000,000,000,000,000,000,000,000,000,000,000,000,000,000,000,000,000,000,000,000,000,000,000,000,000,000,000,000,000,000,000,000,000,000,000,000,000,000,000,000,000,000,000,000,000,000,000,000,000,000,000,000,000,000,000,000,000,000,000,000,000,000,000,000,000,000,000,000,000,000,000,000,000,000,000,000,000,000,000,000,000,000,000,000,000,000,000,000,000,000,000,000,000,000,000,000,000,000,000,000,000,000,000,000,000,000,000,000,000,000,000,000,000,000,000,000,000,000,000,000,000,000,000,000,000,000,000,000,000,000,000,000,000,000,000,000,000,000,000,000,000,000,000,000,000,000,000,000,000,000,000,000,000,000,000,000,000,000,000,000,000,000,000,000,000,000,000,000,000,000,000,000,000,000,000,000,000,000,000,000,000,000,000,000,000,000,000,000,000,000,000,000,000,000,000,000,000,000,000,000,000,000,000,000,000,000,000,000,000,000,000,000,000,000,000,000,000,000,000,000,000,000,000,000,000,000,000,000,000,000,000,000,000,000,000,000,000,000,000,000,000,000,000,000,000,000,000,000,000,000,000,000,000,000,000,000,000,000,000,000,000,000,000,000,000,000,000,000,000,000,000,000,000,000,000,000,000,000,000,000,000,000,000,000,000,000,000,000,000,000,000,000,000,000,000,000,000,000,000,000,000,000,000,000,000,000,000,000,000,000,000,000,000,000,000,000,000,000,'\n",
      " '000,000,000,000,000,000,000,000,000,000,000,000,000,000,000,000,000,000,000,000,000,000,000,000,000,000,000,000,000,000,000,000,000,000,000,000,000,000,000,000,000,000,000,000,000,000,000,000,000,000,000,000,000,000,000,000,000,000,000,000,000,000,000,000,000,000,000,000,000,000,000,000,000,000,000,000,000,000,000,000,000,000,000,000,000,000,000,000,000,000,000,000,000,000,000,000,000,000,000,000,000,000,000,000,000,000,000,000,000,000,000,000,000,000,000,000,000,000,000,000,000,000,000,000,000,000,000,000,000,000,000,000,000,000,000,000,000,000,000,000,000,000,000,000,000,000,000,000,000,000,000,000,000,000,000,000,000,000,000,000,000,000,000,000,000,000,000,000,000,000,000,000,000,000,000,000,000,000,000,000,000,000,000,000,000,000,000,000,000,000,000,000,000,000,000,000,000,000,000,000,000,000,000,000,000,000,000,000,000,000,000,000,000,000,000,000,000,000,000,000,000,000,000,000,000,000,000,000,000,000,000,000,000,000,000,000,000,000,000,000,000,000,000,000,000,000,000,000,000,000,000,000,000,000,000,000,000,000,000,000,000,000,000,000,000,000,000,000,000,000,000,000,000,000,000,000,000,000,000,000,000,000,000,000,000,000,000,000,000,000,000,000,000,000,000,000,000,000,000,000,000,000,000,000,000,000,000,000,000,000,000,000,000,000,000,000,000,000,000,000,000,000,000,000,000,000,000,000,000,000,000,000,000,000,000,000,000,000,000,000,000,000,000,000,000,000,000,000,000,000,000,000,000,000,000,000,000,000,000,000,000,000,000,000,000,000,000,000,000,000,000,000,000,000,000,000,000,000,000,000,000,000,000,000,000,000,000,000,000,000,000,000,000,000,000,000,000,000,000,000,000,000,000,000,000,000,000,000,000,000,000,000,000,000,000,000,000,000,000,000,000,000,000,000,000,000,000,000,000,000,000,000,000,000,000,000,000,000,000,000,000,000,000,000,000,000,000,000,000,000,000,000,000,000,000,000,000,000,000,000,000,000,000,000,000,000,000,000,000,000,000,000,000,000,000,000,000,000,000,000,000,000,000,000,000,000,000,000,000,000,000,000,000,000,000,000,000,000,000,000,000,000,000,000,000,000,000,000,000,000,000,000,000,000,000,000,000,000,000,000,000,000,000,000,000,000,000,000,000,000,000,000,000,000,000,000,000,000,000,000,000,000,000,000,000,000,000,000,000,000,000,000,000,000,000,000,000,000,000,000,000,000,000,000,000,000,000,000,000,000,000,000,000,000,000,000,000,000,000,000,000,000,000,000,000,000,000,000,000,000,000,000,000,000,000,000,000,000,000,000,000,000,000,000,000,000,000,000,000,000,000,000,000,000,000,000,000,000,000,000,000,000,000,000,000,000,000,000,000,000,000,000,000,000,000,000,000,000,000,000,000,000,000,000,000,000,000,000,000,000,000,000,000,000,000,000,000,000,000,000,000,000,000,000,000,000,000,000,000,000,000,000,000,000,000,000,000,000,000,000,000,000,000,000,000,000,000,000,000,000,000,000,000,000,000,000,000,000,000,000,000,000,000,000,000,000,000,000,000,000,000,000,000,000,000,000,000,000,000,000,000,000,000,000,000,000,000,000,000,000,000,000,000,000,000,000,000,000,000,000,000,000,000,000,000,000,000,000,000,000,000,000,000,000,000,000,000,000,000,000,000,000,000,000,000,000,000,000,000,000,000,000,000,000,000,000,000,000,000,000,000,000,000,000,000,000,000,000,000,000,000,000,000,000,000,000,000,000,000,000,000,000,000,000,000,000,000,000,000,000,000,000,000,000,000,000,000,000,000,000,000,000,000,000,000,000,000,000,000,000,000,000,000,000,000,000,000,000,000,000,000,000,000,000,000,000,000,000,000,000,000,000,000,000,000,000,000,000,000,000,000,000,000,000,000,000,000,000,000,000,000,000,000,000,000,000,000,000,000,000,000,000,000,000,000,000,000,000,000,000,000,000,000,000,000,000,000,000,000,000,000,000,000,000,000,000,000,000,000,000,000,000,000,000,000,000,000,000,000,000,000,000,000,000,000,000,000,000,000,000,000,000,000,000,000,000,000,000,000,000,000,000,000,000,000,000,000,000,000,000,000,000,000,000,000,000,000,000,000,000,000,000,000,000,000,000,000,000,000,000,000,000,000,000,000,000,000,000,000,000,000,000,000,000,000,000,000,000,000,000,000,000,000,000,000,000,000,000,000,000,000,000,000,000,000,000,000,000,000,000,000,000,000,000,000,000,000,000,000,000,000,000,000,000,']\n",
      " - Column 23 :\n",
      "      ['0' '0' '0']\n"
     ]
    }
   ],
   "source": [
    "print_df_first_n_rows(df_raw, n=2, print_column_names=False)"
   ]
  },
  {
   "cell_type": "code",
   "execution_count": 16,
   "id": "3f9bc0b9dd2c44919cc8dcca39b469f8",
   "metadata": {},
   "outputs": [
    {
     "data": {
      "text/html": [
       "<div>\n",
       "<style scoped>\n",
       "    .dataframe tbody tr th:only-of-type {\n",
       "        vertical-align: middle;\n",
       "    }\n",
       "\n",
       "    .dataframe tbody tr th {\n",
       "        vertical-align: top;\n",
       "    }\n",
       "\n",
       "    .dataframe thead th {\n",
       "        text-align: right;\n",
       "    }\n",
       "</style>\n",
       "<table border=\"1\" class=\"dataframe\">\n",
       "  <thead>\n",
       "    <tr style=\"text-align: right;\">\n",
       "      <th></th>\n",
       "      <th>0</th>\n",
       "      <th>1</th>\n",
       "      <th>2</th>\n",
       "      <th>3</th>\n",
       "      <th>4</th>\n",
       "      <th>5</th>\n",
       "      <th>6</th>\n",
       "      <th>7</th>\n",
       "      <th>8</th>\n",
       "      <th>9</th>\n",
       "      <th>...</th>\n",
       "      <th>14</th>\n",
       "      <th>15</th>\n",
       "      <th>16</th>\n",
       "      <th>17</th>\n",
       "      <th>18</th>\n",
       "      <th>19</th>\n",
       "      <th>20</th>\n",
       "      <th>21</th>\n",
       "      <th>22</th>\n",
       "      <th>23</th>\n",
       "    </tr>\n",
       "  </thead>\n",
       "  <tbody>\n",
       "    <tr>\n",
       "      <th>0</th>\n",
       "      <td>362511</td>\n",
       "      <td>4612.0301</td>\n",
       "      <td>00847.4977</td>\n",
       "      <td>01-08-2018 12:44:30</td>\n",
       "      <td>NaN</td>\n",
       "      <td>OK</td>\n",
       "      <td>0000.000</td>\n",
       "      <td>0056.49</td>\n",
       "      <td>00</td>\n",
       "      <td>00</td>\n",
       "      <td>...</td>\n",
       "      <td>035</td>\n",
       "      <td>0.06</td>\n",
       "      <td>24.9</td>\n",
       "      <td>0</td>\n",
       "      <td>005.649</td>\n",
       "      <td>000</td>\n",
       "      <td>-9.999,-9.999,-9.999,-9.999,-9.999,-9.999,-9.9...</td>\n",
       "      <td>00.000,00.000,00.000,00.000,00.000,00.000,00.0...</td>\n",
       "      <td>000,000,000,000,000,000,000,000,000,000,000,00...</td>\n",
       "      <td>0</td>\n",
       "    </tr>\n",
       "    <tr>\n",
       "      <th>1</th>\n",
       "      <td>362512</td>\n",
       "      <td>4612.0301</td>\n",
       "      <td>00847.4978</td>\n",
       "      <td>01-08-2018 12:45:01</td>\n",
       "      <td>NaN</td>\n",
       "      <td>OK</td>\n",
       "      <td>0000.000</td>\n",
       "      <td>0056.49</td>\n",
       "      <td>00</td>\n",
       "      <td>00</td>\n",
       "      <td>...</td>\n",
       "      <td>035</td>\n",
       "      <td>0.06</td>\n",
       "      <td>24.9</td>\n",
       "      <td>0</td>\n",
       "      <td>005.649</td>\n",
       "      <td>000</td>\n",
       "      <td>-9.999,-9.999,-9.999,-9.999,-9.999,-9.999,-9.9...</td>\n",
       "      <td>00.000,00.000,00.000,00.000,00.000,00.000,00.0...</td>\n",
       "      <td>000,000,000,000,000,000,000,000,000,000,000,00...</td>\n",
       "      <td>0</td>\n",
       "    </tr>\n",
       "    <tr>\n",
       "      <th>2</th>\n",
       "      <td>362513</td>\n",
       "      <td>4612.0301</td>\n",
       "      <td>00847.4985</td>\n",
       "      <td>01-08-2018 12:45:30</td>\n",
       "      <td>NaN</td>\n",
       "      <td>OK</td>\n",
       "      <td>0000.000</td>\n",
       "      <td>0056.49</td>\n",
       "      <td>00</td>\n",
       "      <td>00</td>\n",
       "      <td>...</td>\n",
       "      <td>035</td>\n",
       "      <td>0.06</td>\n",
       "      <td>24.9</td>\n",
       "      <td>0</td>\n",
       "      <td>005.649</td>\n",
       "      <td>000</td>\n",
       "      <td>-9.999,-9.999,-9.999,-9.999,-9.999,-9.999,-9.9...</td>\n",
       "      <td>00.000,00.000,00.000,00.000,00.000,00.000,00.0...</td>\n",
       "      <td>000,000,000,000,000,000,000,000,000,000,000,00...</td>\n",
       "      <td>0</td>\n",
       "    </tr>\n",
       "  </tbody>\n",
       "</table>\n",
       "<p>3 rows × 24 columns</p>\n",
       "</div>"
      ],
      "text/plain": [
       "       0          1           2                    3    4   5         6    \n",
       "0  362511  4612.0301  00847.4977  01-08-2018 12:44:30  NaN  OK  0000.000  \\\n",
       "1  362512  4612.0301  00847.4978  01-08-2018 12:45:01  NaN  OK  0000.000   \n",
       "2  362513  4612.0301  00847.4985  01-08-2018 12:45:30  NaN  OK  0000.000   \n",
       "\n",
       "        7   8   9   ...   14    15    16 17       18   19   \n",
       "0  0056.49  00  00  ...  035  0.06  24.9  0  005.649  000  \\\n",
       "1  0056.49  00  00  ...  035  0.06  24.9  0  005.649  000   \n",
       "2  0056.49  00  00  ...  035  0.06  24.9  0  005.649  000   \n",
       "\n",
       "                                                  20   \n",
       "0  -9.999,-9.999,-9.999,-9.999,-9.999,-9.999,-9.9...  \\\n",
       "1  -9.999,-9.999,-9.999,-9.999,-9.999,-9.999,-9.9...   \n",
       "2  -9.999,-9.999,-9.999,-9.999,-9.999,-9.999,-9.9...   \n",
       "\n",
       "                                                  21   \n",
       "0  00.000,00.000,00.000,00.000,00.000,00.000,00.0...  \\\n",
       "1  00.000,00.000,00.000,00.000,00.000,00.000,00.0...   \n",
       "2  00.000,00.000,00.000,00.000,00.000,00.000,00.0...   \n",
       "\n",
       "                                                  22 23  \n",
       "0  000,000,000,000,000,000,000,000,000,000,000,00...  0  \n",
       "1  000,000,000,000,000,000,000,000,000,000,000,00...  0  \n",
       "2  000,000,000,000,000,000,000,000,000,000,000,00...  0  \n",
       "\n",
       "[3 rows x 24 columns]"
      ]
     },
     "execution_count": 16,
     "metadata": {},
     "output_type": "execute_result"
    }
   ],
   "source": [
    "df_raw.head(3)"
   ]
  },
  {
   "cell_type": "markdown",
   "id": "0e382214b5f147d187d36a2058b9c724",
   "metadata": {},
   "source": [
    "We print the content of n rows picked randomly : "
   ]
  },
  {
   "cell_type": "code",
   "execution_count": 17,
   "id": "5b09d5ef5b5e4bb6ab9b829b10b6a29f",
   "metadata": {},
   "outputs": [
    {
     "name": "stdout",
     "output_type": "stream",
     "text": [
      " - Column 0 :\n",
      "      ['362996' '367008' '364763' '363666' '366535' '366533']\n",
      " - Column 1 :\n",
      "      ['4612.0298' '4612.0289' '4612.0321' '4612.0315' '4612.0310' '4612.0309']\n",
      " - Column 2 :\n",
      "      ['00847.4959' '00847.4950' '00847.4965' '00847.4955' '00847.4951'\n",
      " '00847.4950']\n",
      " - Column 3 :\n",
      "      ['01-08-2018 16:47:00' '03-08-2018 02:13:01' '02-08-2018 07:30:31'\n",
      " '01-08-2018 22:22:01' '02-08-2018 22:16:30' '02-08-2018 22:15:30']\n",
      " - Column 4 :\n",
      "      [nan nan nan nan nan nan]\n",
      " - Column 5 :\n",
      "      ['OK' 'OK' 'OK' 'OK' 'OK' 'OK']\n",
      " - Column 6 :\n",
      "      ['0000.000' '0000.000' '0000.000' '0000.000' '0000.000' '0000.000']\n",
      " - Column 7 :\n",
      "      ['0056.52' '0056.71' '0056.67' '0056.67' '0056.71' '0056.71']\n",
      " - Column 8 :\n",
      "      ['00' '00' '00' '00' '00' '00']\n",
      " - Column 9 :\n",
      "      ['00' '00' '00' '00' '00' '00']\n",
      " - Column 10 :\n",
      "      ['-9.999' '-9.999' '-9.999' '-9.999' '-9.999' '-9.999']\n",
      " - Column 11 :\n",
      "      ['9999' '9999' '9999' '9999' '9999' '9999']\n",
      " - Column 12 :\n",
      "      ['12510' '11702' '12580' '12540' '12144' '12128']\n",
      " - Column 13 :\n",
      "      ['00000' '00000' '00000' '00000' '00000' '00000']\n",
      " - Column 14 :\n",
      "      ['021' '015' '025' '018' '016' '016']\n",
      " - Column 15 :\n",
      "      ['0.06' '0.06' '0.05' '0.06' '0.06' '0.06']\n",
      " - Column 16 :\n",
      "      ['24.9' '24.9' '24.9' '24.9' '24.9' '24.9']\n",
      " - Column 17 :\n",
      "      ['0' '0' '0' '0' '0' '0']\n",
      " - Column 18 :\n",
      "      ['005.652' '005.671' '005.667' '005.667' '005.671' '005.671']\n",
      " - Column 19 :\n",
      "      ['000' '000' '000' '000' '000' '000']\n",
      " - Column 20 :\n",
      "      ['-9.999,-9.999,-9.999,-9.999,-9.999,-9.999,-9.999,-9.999,-9.999,-9.999,-9.999,-9.999,-9.999,-9.999,-9.999,-9.999,-9.999,-9.999,-9.999,-9.999,-9.999,-9.999,-9.999,-9.999,-9.999,-9.999,-9.999,-9.999,-9.999,-9.999,-9.999,-9.999,'\n",
      " '-9.999,-9.999,-9.999,-9.999,-9.999,-9.999,-9.999,-9.999,-9.999,-9.999,-9.999,-9.999,-9.999,-9.999,-9.999,-9.999,-9.999,-9.999,-9.999,-9.999,-9.999,-9.999,-9.999,-9.999,-9.999,-9.999,-9.999,-9.999,-9.999,-9.999,-9.999,-9.999,'\n",
      " '-9.999,-9.999,-9.999,-9.999,-9.999,-9.999,-9.999,-9.999,-9.999,-9.999,-9.999,-9.999,-9.999,-9.999,-9.999,-9.999,-9.999,-9.999,-9.999,-9.999,-9.999,-9.999,-9.999,-9.999,-9.999,-9.999,-9.999,-9.999,-9.999,-9.999,-9.999,-9.999,'\n",
      " '-9.999,-9.999,-9.999,-9.999,-9.999,-9.999,-9.999,-9.999,-9.999,-9.999,-9.999,-9.999,-9.999,-9.999,-9.999,-9.999,-9.999,-9.999,-9.999,-9.999,-9.999,-9.999,-9.999,-9.999,-9.999,-9.999,-9.999,-9.999,-9.999,-9.999,-9.999,-9.999,'\n",
      " '-9.999,-9.999,-9.999,-9.999,-9.999,-9.999,-9.999,-9.999,-9.999,-9.999,-9.999,-9.999,-9.999,-9.999,-9.999,-9.999,-9.999,-9.999,-9.999,-9.999,-9.999,-9.999,-9.999,-9.999,-9.999,-9.999,-9.999,-9.999,-9.999,-9.999,-9.999,-9.999,'\n",
      " '-9.999,-9.999,-9.999,-9.999,-9.999,-9.999,-9.999,-9.999,-9.999,-9.999,-9.999,-9.999,-9.999,-9.999,-9.999,-9.999,-9.999,-9.999,-9.999,-9.999,-9.999,-9.999,-9.999,-9.999,-9.999,-9.999,-9.999,-9.999,-9.999,-9.999,-9.999,-9.999,']\n",
      " - Column 21 :\n",
      "      ['00.000,00.000,00.000,00.000,00.000,00.000,00.000,00.000,00.000,00.000,00.000,00.000,00.000,00.000,00.000,00.000,00.000,00.000,00.000,00.000,00.000,00.000,00.000,00.000,00.000,00.000,00.000,00.000,00.000,00.000,00.000,00.000,'\n",
      " '00.000,00.000,00.000,00.000,00.000,00.000,00.000,00.000,00.000,00.000,00.000,00.000,00.000,00.000,00.000,00.000,00.000,00.000,00.000,00.000,00.000,00.000,00.000,00.000,00.000,00.000,00.000,00.000,00.000,00.000,00.000,00.000,'\n",
      " '00.000,00.000,00.000,00.000,00.000,00.000,00.000,00.000,00.000,00.000,00.000,00.000,00.000,00.000,00.000,00.000,00.000,00.000,00.000,00.000,00.000,00.000,00.000,00.000,00.000,00.000,00.000,00.000,00.000,00.000,00.000,00.000,'\n",
      " '00.000,00.000,00.000,00.000,00.000,00.000,00.000,00.000,00.000,00.000,00.000,00.000,00.000,00.000,00.000,00.000,00.000,00.000,00.000,00.000,00.000,00.000,00.000,00.000,00.000,00.000,00.000,00.000,00.000,00.000,00.000,00.000,'\n",
      " '00.000,00.000,00.000,00.000,00.000,00.000,00.000,00.000,00.000,00.000,00.000,00.000,00.000,00.000,00.000,00.000,00.000,00.000,00.000,00.000,00.000,00.000,00.000,00.000,00.000,00.000,00.000,00.000,00.000,00.000,00.000,00.000,'\n",
      " '00.000,00.000,00.000,00.000,00.000,00.000,00.000,00.000,00.000,00.000,00.000,00.000,00.000,00.000,00.000,00.000,00.000,00.000,00.000,00.000,00.000,00.000,00.000,00.000,00.000,00.000,00.000,00.000,00.000,00.000,00.000,00.000,']\n",
      " - Column 22 :\n",
      "      ['000,000,000,000,000,000,000,000,000,000,000,000,000,000,000,000,000,000,000,000,000,000,000,000,000,000,000,000,000,000,000,000,000,000,000,000,000,000,000,000,000,000,000,000,000,000,000,000,000,000,000,000,000,000,000,000,000,000,000,000,000,000,000,000,000,000,000,000,000,000,000,000,000,000,000,000,000,000,000,000,000,000,000,000,000,000,000,000,000,000,000,000,000,000,000,000,000,000,000,000,000,000,000,000,000,000,000,000,000,000,000,000,000,000,000,000,000,000,000,000,000,000,000,000,000,000,000,000,000,000,000,000,000,000,000,000,000,000,000,000,000,000,000,000,000,000,000,000,000,000,000,000,000,000,000,000,000,000,000,000,000,000,000,000,000,000,000,000,000,000,000,000,000,000,000,000,000,000,000,000,000,000,000,000,000,000,000,000,000,000,000,000,000,000,000,000,000,000,000,000,000,000,000,000,000,000,000,000,000,000,000,000,000,000,000,000,000,000,000,000,000,000,000,000,000,000,000,000,000,000,000,000,000,000,000,000,000,000,000,000,000,000,000,000,000,000,000,000,000,000,000,000,000,000,000,000,000,000,000,000,000,000,000,000,000,000,000,000,000,000,000,000,000,000,000,000,000,000,000,000,000,000,000,000,000,000,000,000,000,000,000,000,000,000,000,000,000,000,000,000,000,000,000,000,000,000,000,000,000,000,000,000,000,000,000,000,000,000,000,000,000,000,000,000,000,000,000,000,000,000,000,000,000,000,000,000,000,000,000,000,000,000,000,000,000,000,000,000,000,000,000,000,000,000,000,000,000,000,000,000,000,000,000,000,000,000,000,000,000,000,000,000,000,000,000,000,000,000,000,000,000,000,000,000,000,000,000,000,000,000,000,000,000,000,000,000,000,000,000,000,000,000,000,000,000,000,000,000,000,000,000,000,000,000,000,000,000,000,000,000,000,000,000,000,000,000,000,000,000,000,000,000,000,000,000,000,000,000,000,000,000,000,000,000,000,000,000,000,000,000,000,000,000,000,000,000,000,000,000,000,000,000,000,000,000,000,000,000,000,000,000,000,000,000,000,000,000,000,000,000,000,000,000,000,000,000,000,000,000,000,000,000,000,000,000,000,000,000,000,000,000,000,000,000,000,000,000,000,000,000,000,000,000,000,000,000,000,000,000,000,000,000,000,000,000,000,000,000,000,000,000,000,000,000,000,000,000,000,000,000,000,000,000,000,000,000,000,000,000,000,000,000,000,000,000,000,000,000,000,000,000,000,000,000,000,000,000,000,000,000,000,000,000,000,000,000,000,000,000,000,000,000,000,000,000,000,000,000,000,000,000,000,000,000,000,000,000,000,000,000,000,000,000,000,000,000,000,000,000,000,000,000,000,000,000,000,000,000,000,000,000,000,000,000,000,000,000,000,000,000,000,000,000,000,000,000,000,000,000,000,000,000,000,000,000,000,000,000,000,000,000,000,000,000,000,000,000,000,000,000,000,000,000,000,000,000,000,000,000,000,000,000,000,000,000,000,000,000,000,000,000,000,000,000,000,000,000,000,000,000,000,000,000,000,000,000,000,000,000,000,000,000,000,000,000,000,000,000,000,000,000,000,000,000,000,000,000,000,000,000,000,000,000,000,000,000,000,000,000,000,000,000,000,000,000,000,000,000,000,000,000,000,000,000,000,000,000,000,000,000,000,000,000,000,000,000,000,000,000,000,000,000,000,000,000,000,000,000,000,000,000,000,000,000,000,000,000,000,000,000,000,000,000,000,000,000,000,000,000,000,000,000,000,000,000,000,000,000,000,000,000,000,000,000,000,000,000,000,000,000,000,000,000,000,000,000,000,000,000,000,000,000,000,000,000,000,000,000,000,000,000,000,000,000,000,000,000,000,000,000,000,000,000,000,000,000,000,000,000,000,000,000,000,000,000,000,000,000,000,000,000,000,000,000,000,000,000,000,000,000,000,000,000,000,000,000,000,000,000,000,000,000,000,000,000,000,000,000,000,000,000,000,000,000,000,000,000,000,000,000,000,000,000,000,000,000,000,000,000,000,000,000,000,000,000,000,000,000,000,000,000,000,000,000,000,000,000,000,000,000,000,000,000,000,000,000,000,000,000,000,000,000,000,000,000,000,000,000,000,000,000,000,000,000,000,000,000,000,000,000,000,000,000,000,000,000,000,000,000,000,000,000,000,000,000,000,000,000,000,000,000,000,000,000,000,000,000,000,000,000,000,000,000,000,000,000,000,000,000,000,000,000,000,000,000,000,000,000,000,000,000,000,000,000,000,000,000,000,000,000,000,000,000,000,'\n",
      " '000,000,000,000,000,000,000,000,000,000,000,000,000,000,000,000,000,000,000,000,000,000,000,000,000,000,000,000,000,000,000,000,000,000,000,000,000,000,000,000,000,000,000,000,000,000,000,000,000,000,000,000,000,000,000,000,000,000,000,000,000,000,000,000,000,000,000,000,000,000,000,000,000,000,000,000,000,000,000,000,000,000,000,000,000,000,000,000,000,000,000,000,000,000,000,000,000,000,000,000,000,000,000,000,000,000,000,000,000,000,000,000,000,000,000,000,000,000,000,000,000,000,000,000,000,000,000,000,000,000,000,000,000,000,000,000,000,000,000,000,000,000,000,000,000,000,000,000,000,000,000,000,000,000,000,000,000,000,000,000,000,000,000,000,000,000,000,000,000,000,000,000,000,000,000,000,000,000,000,000,000,000,000,000,000,000,000,000,000,000,000,000,000,000,000,000,000,000,000,000,000,000,000,000,000,000,000,000,000,000,000,000,000,000,000,000,000,000,000,000,000,000,000,000,000,000,000,000,000,000,000,000,000,000,000,000,000,000,000,000,000,000,000,000,000,000,000,000,000,000,000,000,000,000,000,000,000,000,000,000,000,000,000,000,000,000,000,000,000,000,000,000,000,000,000,000,000,000,000,000,000,000,000,000,000,000,000,000,000,000,000,000,000,000,000,000,000,000,000,000,000,000,000,000,000,000,000,000,000,000,000,000,000,000,000,000,000,000,000,000,000,000,000,000,000,000,000,000,000,000,000,000,000,000,000,000,000,000,000,000,000,000,000,000,000,000,000,000,000,000,000,000,000,000,000,000,000,000,000,000,000,000,000,000,000,000,000,000,000,000,000,000,000,000,000,000,000,000,000,000,000,000,000,000,000,000,000,000,000,000,000,000,000,000,000,000,000,000,000,000,000,000,000,000,000,000,000,000,000,000,000,000,000,000,000,000,000,000,000,000,000,000,000,000,000,000,000,000,000,000,000,000,000,000,000,000,000,000,000,000,000,000,000,000,000,000,000,000,000,000,000,000,000,000,000,000,000,000,000,000,000,000,000,000,000,000,000,000,000,000,000,000,000,000,000,000,000,000,000,000,000,000,000,000,000,000,000,000,000,000,000,000,000,000,000,000,000,000,000,000,000,000,000,000,000,000,000,000,000,000,000,000,000,000,000,000,000,000,000,000,000,000,000,000,000,000,000,000,000,000,000,000,000,000,000,000,000,000,000,000,000,000,000,000,000,000,000,000,000,000,000,000,000,000,000,000,000,000,000,000,000,000,000,000,000,000,000,000,000,000,000,000,000,000,000,000,000,000,000,000,000,000,000,000,000,000,000,000,000,000,000,000,000,000,000,000,000,000,000,000,000,000,000,000,000,000,000,000,000,000,000,000,000,000,000,000,000,000,000,000,000,000,000,000,000,000,000,000,000,000,000,000,000,000,000,000,000,000,000,000,000,000,000,000,000,000,000,000,000,000,000,000,000,000,000,000,000,000,000,000,000,000,000,000,000,000,000,000,000,000,000,000,000,000,000,000,000,000,000,000,000,000,000,000,000,000,000,000,000,000,000,000,000,000,000,000,000,000,000,000,000,000,000,000,000,000,000,000,000,000,000,000,000,000,000,000,000,000,000,000,000,000,000,000,000,000,000,000,000,000,000,000,000,000,000,000,000,000,000,000,000,000,000,000,000,000,000,000,000,000,000,000,000,000,000,000,000,000,000,000,000,000,000,000,000,000,000,000,000,000,000,000,000,000,000,000,000,000,000,000,000,000,000,000,000,000,000,000,000,000,000,000,000,000,000,000,000,000,000,000,000,000,000,000,000,000,000,000,000,000,000,000,000,000,000,000,000,000,000,000,000,000,000,000,000,000,000,000,000,000,000,000,000,000,000,000,000,000,000,000,000,000,000,000,000,000,000,000,000,000,000,000,000,000,000,000,000,000,000,000,000,000,000,000,000,000,000,000,000,000,000,000,000,000,000,000,000,000,000,000,000,000,000,000,000,000,000,000,000,000,000,000,000,000,000,000,000,000,000,000,000,000,000,000,000,000,000,000,000,000,000,000,000,000,000,000,000,000,000,000,000,000,000,000,000,000,000,000,000,000,000,000,000,000,000,000,000,000,000,000,000,000,000,000,000,000,000,000,000,000,000,000,000,000,000,000,000,000,000,000,000,000,000,000,000,000,000,000,000,000,000,000,000,000,000,000,000,000,000,000,000,000,000,000,000,000,000,000,000,000,000,000,000,000,000,000,000,000,000,000,000,000,000,000,000,000,000,000,000,000,000,000,000,000,000,000,000,000,000,000,000,000,000,000,'\n",
      " '000,000,000,000,000,000,000,000,000,000,000,000,000,000,000,000,000,000,000,000,000,000,000,000,000,000,000,000,000,000,000,000,000,000,000,000,000,000,000,000,000,000,000,000,000,000,000,000,000,000,000,000,000,000,000,000,000,000,000,000,000,000,000,000,000,000,000,000,000,000,000,000,000,000,000,000,000,000,000,000,000,000,000,000,000,000,000,000,000,000,000,000,000,000,000,000,000,000,000,000,000,000,000,000,000,000,000,000,000,000,000,000,000,000,000,000,000,000,000,000,000,000,000,000,000,000,000,000,000,000,000,000,000,000,000,000,000,000,000,000,000,000,000,000,000,000,000,000,000,000,000,000,000,000,000,000,000,000,000,000,000,000,000,000,000,000,000,000,000,000,000,000,000,000,000,000,000,000,000,000,000,000,000,000,000,000,000,000,000,000,000,000,000,000,000,000,000,000,000,000,000,000,000,000,000,000,000,000,000,000,000,000,000,000,000,000,000,000,000,000,000,000,000,000,000,000,000,000,000,000,000,000,000,000,000,000,000,000,000,000,000,000,000,000,000,000,000,000,000,000,000,000,000,000,000,000,000,000,000,000,000,000,000,000,000,000,000,000,000,000,000,000,000,000,000,000,000,000,000,000,000,000,000,000,000,000,000,000,000,000,000,000,000,000,000,000,000,000,000,000,000,000,000,000,000,000,000,000,000,000,000,000,000,000,000,000,000,000,000,000,000,000,000,000,000,000,000,000,000,000,000,000,000,000,000,000,000,000,000,000,000,000,000,000,000,000,000,000,000,000,000,000,000,000,000,000,000,000,000,000,000,000,000,000,000,000,000,000,000,000,000,000,000,000,000,000,000,000,000,000,000,000,000,000,000,000,000,000,000,000,000,000,000,000,000,000,000,000,000,000,000,000,000,000,000,000,000,000,000,000,000,000,000,000,000,000,000,000,000,000,000,000,000,000,000,000,000,000,000,000,000,000,000,000,000,000,000,000,000,000,000,000,000,000,000,000,000,000,000,000,000,000,000,000,000,000,000,000,000,000,000,000,000,000,000,000,000,000,000,000,000,000,000,000,000,000,000,000,000,000,000,000,000,000,000,000,000,000,000,000,000,000,000,000,000,000,000,000,000,000,000,000,000,000,000,000,000,000,000,000,000,000,000,000,000,000,000,000,000,000,000,000,000,000,000,000,000,000,000,000,000,000,000,000,000,000,000,000,000,000,000,000,000,000,000,000,000,000,000,000,000,000,000,000,000,000,000,000,000,000,000,000,000,000,000,000,000,000,000,000,000,000,000,000,000,000,000,000,000,000,000,000,000,000,000,000,000,000,000,000,000,000,000,000,000,000,000,000,000,000,000,000,000,000,000,000,000,000,000,000,000,000,000,000,000,000,000,000,000,000,000,000,000,000,000,000,000,000,000,000,000,000,000,000,000,000,000,000,000,000,000,000,000,000,000,000,000,000,000,000,000,000,000,000,000,000,000,000,000,000,000,000,000,000,000,000,000,000,000,000,000,000,000,000,000,000,000,000,000,000,000,000,000,000,000,000,000,000,000,000,000,000,000,000,000,000,000,000,000,000,000,000,000,000,000,000,000,000,000,000,000,000,000,000,000,000,000,000,000,000,000,000,000,000,000,000,000,000,000,000,000,000,000,000,000,000,000,000,000,000,000,000,000,000,000,000,000,000,000,000,000,000,000,000,000,000,000,000,000,000,000,000,000,000,000,000,000,000,000,000,000,000,000,000,000,000,000,000,000,000,000,000,000,000,000,000,000,000,000,000,000,000,000,000,000,000,000,000,000,000,000,000,000,000,000,000,000,000,000,000,000,000,000,000,000,000,000,000,000,000,000,000,000,000,000,000,000,000,000,000,000,000,000,000,000,000,000,000,000,000,000,000,000,000,000,000,000,000,000,000,000,000,000,000,000,000,000,000,000,000,000,000,000,000,000,000,000,000,000,000,000,000,000,000,000,000,000,000,000,000,000,000,000,000,000,000,000,000,000,000,000,000,000,000,000,000,000,000,000,000,000,000,000,000,000,000,000,000,000,000,000,000,000,000,000,000,000,000,000,000,000,000,000,000,000,000,000,000,000,000,000,000,000,000,000,000,000,000,000,000,000,000,000,000,000,000,000,000,000,000,000,000,000,000,000,000,000,000,000,000,000,000,000,000,000,000,000,000,000,000,000,000,000,000,000,000,000,000,000,000,000,000,000,000,000,000,000,000,000,000,000,000,000,000,000,000,000,000,000,000,000,000,000,000,000,000,000,000,000,000,000,000,000,000,000,000,000,000,000,000,000,000,000,000,'\n",
      " '000,000,000,000,000,000,000,000,000,000,000,000,000,000,000,000,000,000,000,000,000,000,000,000,000,000,000,000,000,000,000,000,000,000,000,000,000,000,000,000,000,000,000,000,000,000,000,000,000,000,000,000,000,000,000,000,000,000,000,000,000,000,000,000,000,000,000,000,000,000,000,000,000,000,000,000,000,000,000,000,000,000,000,000,000,000,000,000,000,000,000,000,000,000,000,000,000,000,000,000,000,000,000,000,000,000,000,000,000,000,000,000,000,000,000,000,000,000,000,000,000,000,000,000,000,000,000,000,000,000,000,000,000,000,000,000,000,000,000,000,000,000,000,000,000,000,000,000,000,000,000,000,000,000,000,000,000,000,000,000,000,000,000,000,000,000,000,000,000,000,000,000,000,000,000,000,000,000,000,000,000,000,000,000,000,000,000,000,000,000,000,000,000,000,000,000,000,000,000,000,000,000,000,000,000,000,000,000,000,000,000,000,000,000,000,000,000,000,000,000,000,000,000,000,000,000,000,000,000,000,000,000,000,000,000,000,000,000,000,000,000,000,000,000,000,000,000,000,000,000,000,000,000,000,000,000,000,000,000,000,000,000,000,000,000,000,000,000,000,000,000,000,000,000,000,000,000,000,000,000,000,000,000,000,000,000,000,000,000,000,000,000,000,000,000,000,000,000,000,000,000,000,000,000,000,000,000,000,000,000,000,000,000,000,000,000,000,000,000,000,000,000,000,000,000,000,000,000,000,000,000,000,000,000,000,000,000,000,000,000,000,000,000,000,000,000,000,000,000,000,000,000,000,000,000,000,000,000,000,000,000,000,000,000,000,000,000,000,000,000,000,000,000,000,000,000,000,000,000,000,000,000,000,000,000,000,000,000,000,000,000,000,000,000,000,000,000,000,000,000,000,000,000,000,000,000,000,000,000,000,000,000,000,000,000,000,000,000,000,000,000,000,000,000,000,000,000,000,000,000,000,000,000,000,000,000,000,000,000,000,000,000,000,000,000,000,000,000,000,000,000,000,000,000,000,000,000,000,000,000,000,000,000,000,000,000,000,000,000,000,000,000,000,000,000,000,000,000,000,000,000,000,000,000,000,000,000,000,000,000,000,000,000,000,000,000,000,000,000,000,000,000,000,000,000,000,000,000,000,000,000,000,000,000,000,000,000,000,000,000,000,000,000,000,000,000,000,000,000,000,000,000,000,000,000,000,000,000,000,000,000,000,000,000,000,000,000,000,000,000,000,000,000,000,000,000,000,000,000,000,000,000,000,000,000,000,000,000,000,000,000,000,000,000,000,000,000,000,000,000,000,000,000,000,000,000,000,000,000,000,000,000,000,000,000,000,000,000,000,000,000,000,000,000,000,000,000,000,000,000,000,000,000,000,000,000,000,000,000,000,000,000,000,000,000,000,000,000,000,000,000,000,000,000,000,000,000,000,000,000,000,000,000,000,000,000,000,000,000,000,000,000,000,000,000,000,000,000,000,000,000,000,000,000,000,000,000,000,000,000,000,000,000,000,000,000,000,000,000,000,000,000,000,000,000,000,000,000,000,000,000,000,000,000,000,000,000,000,000,000,000,000,000,000,000,000,000,000,000,000,000,000,000,000,000,000,000,000,000,000,000,000,000,000,000,000,000,000,000,000,000,000,000,000,000,000,000,000,000,000,000,000,000,000,000,000,000,000,000,000,000,000,000,000,000,000,000,000,000,000,000,000,000,000,000,000,000,000,000,000,000,000,000,000,000,000,000,000,000,000,000,000,000,000,000,000,000,000,000,000,000,000,000,000,000,000,000,000,000,000,000,000,000,000,000,000,000,000,000,000,000,000,000,000,000,000,000,000,000,000,000,000,000,000,000,000,000,000,000,000,000,000,000,000,000,000,000,000,000,000,000,000,000,000,000,000,000,000,000,000,000,000,000,000,000,000,000,000,000,000,000,000,000,000,000,000,000,000,000,000,000,000,000,000,000,000,000,000,000,000,000,000,000,000,000,000,000,000,000,000,000,000,000,000,000,000,000,000,000,000,000,000,000,000,000,000,000,000,000,000,000,000,000,000,000,000,000,000,000,000,000,000,000,000,000,000,000,000,000,000,000,000,000,000,000,000,000,000,000,000,000,000,000,000,000,000,000,000,000,000,000,000,000,000,000,000,000,000,000,000,000,000,000,000,000,000,000,000,000,000,000,000,000,000,000,000,000,000,000,000,000,000,000,000,000,000,000,000,000,000,000,000,000,000,000,000,000,000,000,000,000,000,000,000,000,000,000,000,000,000,000,000,000,000,000,000,000,000,000,000,000,000,000,000,'\n",
      " '000,000,000,000,000,000,000,000,000,000,000,000,000,000,000,000,000,000,000,000,000,000,000,000,000,000,000,000,000,000,000,000,000,000,000,000,000,000,000,000,000,000,000,000,000,000,000,000,000,000,000,000,000,000,000,000,000,000,000,000,000,000,000,000,000,000,000,000,000,000,000,000,000,000,000,000,000,000,000,000,000,000,000,000,000,000,000,000,000,000,000,000,000,000,000,000,000,000,000,000,000,000,000,000,000,000,000,000,000,000,000,000,000,000,000,000,000,000,000,000,000,000,000,000,000,000,000,000,000,000,000,000,000,000,000,000,000,000,000,000,000,000,000,000,000,000,000,000,000,000,000,000,000,000,000,000,000,000,000,000,000,000,000,000,000,000,000,000,000,000,000,000,000,000,000,000,000,000,000,000,000,000,000,000,000,000,000,000,000,000,000,000,000,000,000,000,000,000,000,000,000,000,000,000,000,000,000,000,000,000,000,000,000,000,000,000,000,000,000,000,000,000,000,000,000,000,000,000,000,000,000,000,000,000,000,000,000,000,000,000,000,000,000,000,000,000,000,000,000,000,000,000,000,000,000,000,000,000,000,000,000,000,000,000,000,000,000,000,000,000,000,000,000,000,000,000,000,000,000,000,000,000,000,000,000,000,000,000,000,000,000,000,000,000,000,000,000,000,000,000,000,000,000,000,000,000,000,000,000,000,000,000,000,000,000,000,000,000,000,000,000,000,000,000,000,000,000,000,000,000,000,000,000,000,000,000,000,000,000,000,000,000,000,000,000,000,000,000,000,000,000,000,000,000,000,000,000,000,000,000,000,000,000,000,000,000,000,000,000,000,000,000,000,000,000,000,000,000,000,000,000,000,000,000,000,000,000,000,000,000,000,000,000,000,000,000,000,000,000,000,000,000,000,000,000,000,000,000,000,000,000,000,000,000,000,000,000,000,000,000,000,000,000,000,000,000,000,000,000,000,000,000,000,000,000,000,000,000,000,000,000,000,000,000,000,000,000,000,000,000,000,000,000,000,000,000,000,000,000,000,000,000,000,000,000,000,000,000,000,000,000,000,000,000,000,000,000,000,000,000,000,000,000,000,000,000,000,000,000,000,000,000,000,000,000,000,000,000,000,000,000,000,000,000,000,000,000,000,000,000,000,000,000,000,000,000,000,000,000,000,000,000,000,000,000,000,000,000,000,000,000,000,000,000,000,000,000,000,000,000,000,000,000,000,000,000,000,000,000,000,000,000,000,000,000,000,000,000,000,000,000,000,000,000,000,000,000,000,000,000,000,000,000,000,000,000,000,000,000,000,000,000,000,000,000,000,000,000,000,000,000,000,000,000,000,000,000,000,000,000,000,000,000,000,000,000,000,000,000,000,000,000,000,000,000,000,000,000,000,000,000,000,000,000,000,000,000,000,000,000,000,000,000,000,000,000,000,000,000,000,000,000,000,000,000,000,000,000,000,000,000,000,000,000,000,000,000,000,000,000,000,000,000,000,000,000,000,000,000,000,000,000,000,000,000,000,000,000,000,000,000,000,000,000,000,000,000,000,000,000,000,000,000,000,000,000,000,000,000,000,000,000,000,000,000,000,000,000,000,000,000,000,000,000,000,000,000,000,000,000,000,000,000,000,000,000,000,000,000,000,000,000,000,000,000,000,000,000,000,000,000,000,000,000,000,000,000,000,000,000,000,000,000,000,000,000,000,000,000,000,000,000,000,000,000,000,000,000,000,000,000,000,000,000,000,000,000,000,000,000,000,000,000,000,000,000,000,000,000,000,000,000,000,000,000,000,000,000,000,000,000,000,000,000,000,000,000,000,000,000,000,000,000,000,000,000,000,000,000,000,000,000,000,000,000,000,000,000,000,000,000,000,000,000,000,000,000,000,000,000,000,000,000,000,000,000,000,000,000,000,000,000,000,000,000,000,000,000,000,000,000,000,000,000,000,000,000,000,000,000,000,000,000,000,000,000,000,000,000,000,000,000,000,000,000,000,000,000,000,000,000,000,000,000,000,000,000,000,000,000,000,000,000,000,000,000,000,000,000,000,000,000,000,000,000,000,000,000,000,000,000,000,000,000,000,000,000,000,000,000,000,000,000,000,000,000,000,000,000,000,000,000,000,000,000,000,000,000,000,000,000,000,000,000,000,000,000,000,000,000,000,000,000,000,000,000,000,000,000,000,000,000,000,000,000,000,000,000,000,000,000,000,000,000,000,000,000,000,000,000,000,000,000,000,000,000,000,000,000,000,000,000,000,000,000,000,000,000,000,000,000,000,000,000,000,000,000,000,000,000,000,000,000,000,'\n",
      " '000,000,000,000,000,000,000,000,000,000,000,000,000,000,000,000,000,000,000,000,000,000,000,000,000,000,000,000,000,000,000,000,000,000,000,000,000,000,000,000,000,000,000,000,000,000,000,000,000,000,000,000,000,000,000,000,000,000,000,000,000,000,000,000,000,000,000,000,000,000,000,000,000,000,000,000,000,000,000,000,000,000,000,000,000,000,000,000,000,000,000,000,000,000,000,000,000,000,000,000,000,000,000,000,000,000,000,000,000,000,000,000,000,000,000,000,000,000,000,000,000,000,000,000,000,000,000,000,000,000,000,000,000,000,000,000,000,000,000,000,000,000,000,000,000,000,000,000,000,000,000,000,000,000,000,000,000,000,000,000,000,000,000,000,000,000,000,000,000,000,000,000,000,000,000,000,000,000,000,000,000,000,000,000,000,000,000,000,000,000,000,000,000,000,000,000,000,000,000,000,000,000,000,000,000,000,000,000,000,000,000,000,000,000,000,000,000,000,000,000,000,000,000,000,000,000,000,000,000,000,000,000,000,000,000,000,000,000,000,000,000,000,000,000,000,000,000,000,000,000,000,000,000,000,000,000,000,000,000,000,000,000,000,000,000,000,000,000,000,000,000,000,000,000,000,000,000,000,000,000,000,000,000,000,000,000,000,000,000,000,000,000,000,000,000,000,000,000,000,000,000,000,000,000,000,000,000,000,000,000,000,000,000,000,000,000,000,000,000,000,000,000,000,000,000,000,000,000,000,000,000,000,000,000,000,000,000,000,000,000,000,000,000,000,000,000,000,000,000,000,000,000,000,000,000,000,000,000,000,000,000,000,000,000,000,000,000,000,000,000,000,000,000,000,000,000,000,000,000,000,000,000,000,000,000,000,000,000,000,000,000,000,000,000,000,000,000,000,000,000,000,000,000,000,000,000,000,000,000,000,000,000,000,000,000,000,000,000,000,000,000,000,000,000,000,000,000,000,000,000,000,000,000,000,000,000,000,000,000,000,000,000,000,000,000,000,000,000,000,000,000,000,000,000,000,000,000,000,000,000,000,000,000,000,000,000,000,000,000,000,000,000,000,000,000,000,000,000,000,000,000,000,000,000,000,000,000,000,000,000,000,000,000,000,000,000,000,000,000,000,000,000,000,000,000,000,000,000,000,000,000,000,000,000,000,000,000,000,000,000,000,000,000,000,000,000,000,000,000,000,000,000,000,000,000,000,000,000,000,000,000,000,000,000,000,000,000,000,000,000,000,000,000,000,000,000,000,000,000,000,000,000,000,000,000,000,000,000,000,000,000,000,000,000,000,000,000,000,000,000,000,000,000,000,000,000,000,000,000,000,000,000,000,000,000,000,000,000,000,000,000,000,000,000,000,000,000,000,000,000,000,000,000,000,000,000,000,000,000,000,000,000,000,000,000,000,000,000,000,000,000,000,000,000,000,000,000,000,000,000,000,000,000,000,000,000,000,000,000,000,000,000,000,000,000,000,000,000,000,000,000,000,000,000,000,000,000,000,000,000,000,000,000,000,000,000,000,000,000,000,000,000,000,000,000,000,000,000,000,000,000,000,000,000,000,000,000,000,000,000,000,000,000,000,000,000,000,000,000,000,000,000,000,000,000,000,000,000,000,000,000,000,000,000,000,000,000,000,000,000,000,000,000,000,000,000,000,000,000,000,000,000,000,000,000,000,000,000,000,000,000,000,000,000,000,000,000,000,000,000,000,000,000,000,000,000,000,000,000,000,000,000,000,000,000,000,000,000,000,000,000,000,000,000,000,000,000,000,000,000,000,000,000,000,000,000,000,000,000,000,000,000,000,000,000,000,000,000,000,000,000,000,000,000,000,000,000,000,000,000,000,000,000,000,000,000,000,000,000,000,000,000,000,000,000,000,000,000,000,000,000,000,000,000,000,000,000,000,000,000,000,000,000,000,000,000,000,000,000,000,000,000,000,000,000,000,000,000,000,000,000,000,000,000,000,000,000,000,000,000,000,000,000,000,000,000,000,000,000,000,000,000,000,000,000,000,000,000,000,000,000,000,000,000,000,000,000,000,000,000,000,000,000,000,000,000,000,000,000,000,000,000,000,000,000,000,000,000,000,000,000,000,000,000,000,000,000,000,000,000,000,000,000,000,000,000,000,000,000,000,000,000,000,000,000,000,000,000,000,000,000,000,000,000,000,000,000,000,000,000,000,000,000,000,000,000,000,000,000,000,000,000,000,000,000,000,000,000,000,000,000,000,000,000,000,000,000,000,000,000,000,000,000,000,000,000,000,000,000,000,000,000,000,000,000,000,000,000,000,000,000,000,000,000,']\n",
      " - Column 23 :\n",
      "      ['0' '0' '0' '0' '0' '0']\n"
     ]
    }
   ],
   "source": [
    "print_df_random_n_rows(df_raw, n=6, print_column_names=False)"
   ]
  },
  {
   "cell_type": "markdown",
   "id": "a50416e276a0479cbe66534ed1713a40",
   "metadata": {},
   "source": [
    "Get the number of column :"
   ]
  },
  {
   "cell_type": "code",
   "execution_count": 18,
   "id": "46a27a456b804aa2a380d5edf15a5daf",
   "metadata": {},
   "outputs": [
    {
     "data": {
      "text/plain": [
       "24"
      ]
     },
     "execution_count": 18,
     "metadata": {},
     "output_type": "execute_result"
    }
   ],
   "source": [
    "len(df_raw.columns)"
   ]
  },
  {
   "cell_type": "markdown",
   "id": "1944c39560714e6e80c856f20744a8e5",
   "metadata": {},
   "source": [
    "Look at unique values for a single column :"
   ]
  },
  {
   "cell_type": "code",
   "execution_count": 19,
   "id": "d6ca27006b894b04b6fc8b79396e2797",
   "metadata": {},
   "outputs": [
    {
     "name": "stdout",
     "output_type": "stream",
     "text": [
      " - Column 11 :\n",
      "      ['0824', '0906', '1363', '1397', '2921', '3203', '3326', '3816', '4465', '9999']\n"
     ]
    }
   ],
   "source": [
    "print_df_columns_unique_values(df_raw, column_indices=11, print_column_names=False)"
   ]
  },
  {
   "cell_type": "markdown",
   "id": "f61877af4e7f4313ad8234302950b331",
   "metadata": {},
   "source": [
    "Look at unique values for a few columns :\n",
    "\n",
    "Note: Use `column_indices=None` to get the unique values for all columns"
   ]
  },
  {
   "cell_type": "code",
   "execution_count": 20,
   "id": "84d5ab97d17b4c38ab41a2b065bbd0c0",
   "metadata": {},
   "outputs": [
    {
     "name": "stdout",
     "output_type": "stream",
     "text": [
      " - Column 10 :\n",
      "      ['-9.999', '02.669', '04.241', '04.745', '04.826', '04.879', '05.430', '06.095', '06.220', '07.415', '08.436', '08.489', '08.506', '08.724', '08.956', '09.079', '09.894', '10.057', '10.567', '11.705', '12.097', '12.390', '12.923', '13.114', '13.407', '13.684', '14.324', '15.060', '16.530', '16.636', '16.668', '17.194', '17.382', '17.829', '17.918', '18.334', '18.655', '19.526', '20.329', '21.134', '21.426', '23.098', '23.664', '23.760', '24.472', '25.473', '25.957', '29.270', '31.271', '32.255', '33.844', '36.196']\n",
      " - Column 11 :\n",
      "      ['0824', '0906', '1363', '1397', '2921', '3203', '3326', '3816', '4465', '9999']\n"
     ]
    }
   ],
   "source": [
    "print_df_columns_unique_values(df_raw, column_indices=slice(10, 12), print_column_names=False)"
   ]
  },
  {
   "cell_type": "markdown",
   "id": "35ffc1ce1c7b4df9ace1bc936b8b1dc2",
   "metadata": {},
   "source": [
    "Get the unique values as dictionary"
   ]
  },
  {
   "cell_type": "code",
   "execution_count": 21,
   "id": "76127f4a2f6a44fba749ea7800e59d51",
   "metadata": {},
   "outputs": [
    {
     "data": {
      "text/plain": [
       "{'Column 10': ['-9.999',\n",
       "  '02.669',\n",
       "  '04.241',\n",
       "  '04.745',\n",
       "  '04.826',\n",
       "  '04.879',\n",
       "  '05.430',\n",
       "  '06.095',\n",
       "  '06.220',\n",
       "  '07.415',\n",
       "  '08.436',\n",
       "  '08.489',\n",
       "  '08.506',\n",
       "  '08.724',\n",
       "  '08.956',\n",
       "  '09.079',\n",
       "  '09.894',\n",
       "  '10.057',\n",
       "  '10.567',\n",
       "  '11.705',\n",
       "  '12.097',\n",
       "  '12.390',\n",
       "  '12.923',\n",
       "  '13.114',\n",
       "  '13.407',\n",
       "  '13.684',\n",
       "  '14.324',\n",
       "  '15.060',\n",
       "  '16.530',\n",
       "  '16.636',\n",
       "  '16.668',\n",
       "  '17.194',\n",
       "  '17.382',\n",
       "  '17.829',\n",
       "  '17.918',\n",
       "  '18.334',\n",
       "  '18.655',\n",
       "  '19.526',\n",
       "  '20.329',\n",
       "  '21.134',\n",
       "  '21.426',\n",
       "  '23.098',\n",
       "  '23.664',\n",
       "  '23.760',\n",
       "  '24.472',\n",
       "  '25.473',\n",
       "  '25.957',\n",
       "  '29.270',\n",
       "  '31.271',\n",
       "  '32.255',\n",
       "  '33.844',\n",
       "  '36.196'],\n",
       " 'Column 11': ['0824',\n",
       "  '0906',\n",
       "  '1363',\n",
       "  '1397',\n",
       "  '2921',\n",
       "  '3203',\n",
       "  '3326',\n",
       "  '3816',\n",
       "  '4465',\n",
       "  '9999']}"
      ]
     },
     "execution_count": 21,
     "metadata": {},
     "output_type": "execute_result"
    }
   ],
   "source": [
    "get_df_columns_unique_values_dict(df_raw, column_indices=slice(10, 12), column_names=False)"
   ]
  },
  {
   "cell_type": "markdown",
   "id": "903197826d2e44dfa0208e8f97c69327",
   "metadata": {},
   "source": [
    "**7. Columns name**\n",
    "\n",
    "Now we have validated the content of our data. It's time to care about its content and structure: the column names. "
   ]
  },
  {
   "cell_type": "markdown",
   "id": "015066fb96f841e5be1e03a9eaadc3b6",
   "metadata": {},
   "source": [
    "The function `infer_column_names()` tries to guess the column names based on the type of sensor and the sensor specifications described within the [raw_data_format.yml config file](https://disdrodb.readthedocs.io/en/latest/sensor_configs.html#sensor-logged-variables) file."
   ]
  },
  {
   "cell_type": "code",
   "execution_count": 23,
   "id": "81ff116bae5b45f6b6dae177083008cf",
   "metadata": {},
   "outputs": [
    {
     "data": {
      "text/plain": [
       "{0: [],\n",
       " 1: [],\n",
       " 2: [],\n",
       " 3: [],\n",
       " 4: [],\n",
       " 5: [],\n",
       " 6: ['rainfall_rate_32bit'],\n",
       " 7: ['rainfall_accumulated_32bit', 'rainfall_accumulated_16bit'],\n",
       " 8: ['weather_code_synop_4680', 'weather_code_synop_4677'],\n",
       " 9: ['weather_code_synop_4680', 'weather_code_synop_4677'],\n",
       " 10: [],\n",
       " 11: ['mor_visibility'],\n",
       " 12: ['sample_interval', 'number_particles', 'laser_amplitude'],\n",
       " 13: ['sample_interval', 'number_particles', 'laser_amplitude'],\n",
       " 14: ['error_code', 'sensor_temperature'],\n",
       " 15: ['sensor_heating_current'],\n",
       " 16: ['sensor_battery_voltage'],\n",
       " 17: ['sensor_status'],\n",
       " 18: ['rainfall_amount_absolute_32bit'],\n",
       " 19: ['error_code', 'sensor_temperature'],\n",
       " 20: ['raw_drop_concentration', 'raw_drop_average_velocity'],\n",
       " 21: ['raw_drop_concentration', 'raw_drop_average_velocity'],\n",
       " 22: ['raw_drop_number'],\n",
       " 23: ['sensor_status']}"
      ]
     },
     "execution_count": 23,
     "metadata": {},
     "output_type": "execute_result"
    }
   ],
   "source": [
    "infer_column_names(df_raw, sensor_name=sensor_name)"
   ]
  },
  {
   "cell_type": "markdown",
   "id": "9075f00cfa8d463f84130041b1e44ca7",
   "metadata": {},
   "source": [
    "This can help us to define later the `column_names` list.\n",
    "\n",
    "As reference, here is the list of valid columns name (taken from `l0a_encodings.yml`):"
   ]
  },
  {
   "cell_type": "code",
   "execution_count": 24,
   "id": "15abde8c5d2e435093904b13db685a53",
   "metadata": {},
   "outputs": [
    {
     "name": "stdout",
     "output_type": "stream",
     "text": [
      "['rainfall_rate_32bit', 'rainfall_accumulated_32bit', 'weather_code_synop_4680', 'weather_code_synop_4677', 'weather_code_metar_4678', 'weather_code_nws', 'reflectivity_32bit', 'mor_visibility', 'sample_interval', 'laser_amplitude', 'number_particles', 'sensor_temperature', 'sensor_serial_number', 'firmware_iop', 'firmware_dsp', 'sensor_heating_current', 'sensor_battery_voltage', 'sensor_status', 'start_time', 'sensor_time', 'sensor_date', 'station_name', 'station_number', 'rainfall_amount_absolute_32bit', 'error_code', 'rainfall_rate_16bit', 'rainfall_rate_12bit', 'rainfall_accumulated_16bit', 'reflectivity_16bit', 'raw_drop_concentration', 'raw_drop_average_velocity', 'raw_drop_number']\n"
     ]
    }
   ],
   "source": [
    "print_valid_l0_column_names(sensor_name)"
   ]
  },
  {
   "cell_type": "markdown",
   "id": "5e20a2a0e21149b5b06860e930401eb5",
   "metadata": {},
   "source": [
    "It's time now to define our current column names : \n",
    "\n",
    "Hint to define the names :\n",
    "* get information from the disdrometer user guide and the data logger employed. \n",
    "* use `infer_df_str_column_names()` to help you\n",
    "* analyse the content column after column with `print_df_columns_unique_values()`  "
   ]
  },
  {
   "cell_type": "code",
   "execution_count": 25,
   "id": "72c31777baf4441b988909d29205560c",
   "metadata": {},
   "outputs": [],
   "source": [
    "column_names = [\n",
    "    \"unknown1\",\n",
    "    \"unknown2\",\n",
    "    \"unknown3\",\n",
    "    \"timestep\",\n",
    "    \"unknown4\",\n",
    "    \"unknown5\",\n",
    "    \"rainfall_rate_32bit\",\n",
    "    \"rainfall_accumulated_32bit\",\n",
    "    \"weather_code_synop_4680\",\n",
    "    \"weather_code_synop_4677\",\n",
    "    \"reflectivity_32bit\",\n",
    "    \"mor_visibility\",\n",
    "    \"laser_amplitude\",\n",
    "    \"number_particles\",\n",
    "    \"sensor_temperature\",\n",
    "    \"sensor_heating_current\",\n",
    "    \"sensor_battery_voltage\",\n",
    "    \"sensor_status\",\n",
    "    \"rainfall_amount_absolute_32bit\",\n",
    "    \"error_code\",\n",
    "    \"raw_drop_concentration\",\n",
    "    \"raw_drop_average_velocity\",\n",
    "    \"raw_drop_number\",\n",
    "    \"unknown6\",\n",
    "]"
   ]
  },
  {
   "cell_type": "markdown",
   "id": "5734001bcbac423990a4356310d8df13",
   "metadata": {},
   "source": [
    "> 🚨 The `column_names` list will be transferred  to the reader function at the end of this notebook. "
   ]
  },
  {
   "cell_type": "markdown",
   "id": "27531e93873647d9a5bf1112f2051a59",
   "metadata": {},
   "source": [
    "Check the validity of your definition "
   ]
  },
  {
   "cell_type": "code",
   "execution_count": 26,
   "id": "f3041e9ffdb2416ea2009d3a6a4c5716",
   "metadata": {},
   "outputs": [
    {
     "name": "stdout",
     "output_type": "stream",
     "text": [
      "The following columns do no met the DISDRODB standards: ['unknown4', 'unknown2', 'unknown3', 'unknown5', 'unknown1', 'unknown6', 'timestep'].\n",
      "Please remove such columns within the df_sanitizer_fun\n",
      "Please be sure to create the 'time' column within the df_sanitizer_fun.\n",
      "The 'time' column must be datetime with resolution in seconds (dtype='M8[s]').\n"
     ]
    }
   ],
   "source": [
    "check_column_names(column_names, sensor_name)"
   ]
  },
  {
   "cell_type": "markdown",
   "id": "94ae71b6e24e4355a139fb9fe2e09b64",
   "metadata": {},
   "source": [
    "Ok, fair enough.\n",
    "There are columns that need to be removed, and we need to also define a column `\"time\"` with dtype `datetime` to meet the DISDRODB standards.\n",
    "\n",
    "These points will be addressed in Section 10 of this notebook ! "
   ]
  },
  {
   "cell_type": "markdown",
   "id": "9141936c6c8a4c478a75aea4ff665469",
   "metadata": {},
   "source": [
    "**8. Read the dataframe with correct columns name**\n",
    "\n",
    "We can now create a new dataframe with the columns name :"
   ]
  },
  {
   "cell_type": "code",
   "execution_count": 27,
   "id": "bd7c096f4dcf400fbdceb075ef31fca3",
   "metadata": {},
   "outputs": [],
   "source": [
    "df = read_raw_file(filepath=filepath, column_names=column_names, reader_kwargs=reader_kwargs)"
   ]
  },
  {
   "cell_type": "markdown",
   "id": "b427a666a1b549ef9b573d6f946bfc3b",
   "metadata": {},
   "source": [
    "And print the dataframe column names : "
   ]
  },
  {
   "cell_type": "code",
   "execution_count": 28,
   "id": "0310869696a145bf841235dd6c036af8",
   "metadata": {},
   "outputs": [
    {
     "name": "stdout",
     "output_type": "stream",
     "text": [
      " - Column 0 : unknown1\n",
      " - Column 1 : unknown2\n",
      " - Column 2 : unknown3\n",
      " - Column 3 : timestep\n",
      " - Column 4 : unknown4\n",
      " - Column 5 : unknown5\n",
      " - Column 6 : rainfall_rate_32bit\n",
      " - Column 7 : rainfall_accumulated_32bit\n",
      " - Column 8 : weather_code_synop_4680\n",
      " - Column 9 : weather_code_synop_4677\n",
      " - Column 10 : reflectivity_32bit\n",
      " - Column 11 : mor_visibility\n",
      " - Column 12 : laser_amplitude\n",
      " - Column 13 : number_particles\n",
      " - Column 14 : sensor_temperature\n",
      " - Column 15 : sensor_heating_current\n",
      " - Column 16 : sensor_battery_voltage\n",
      " - Column 17 : sensor_status\n",
      " - Column 18 : rainfall_amount_absolute_32bit\n",
      " - Column 19 : error_code\n",
      " - Column 20 : raw_drop_concentration\n",
      " - Column 21 : raw_drop_average_velocity\n",
      " - Column 22 : raw_drop_number\n",
      " - Column 23 : unknown6\n"
     ]
    }
   ],
   "source": [
    "print_df_column_names(df)"
   ]
  },
  {
   "cell_type": "markdown",
   "id": "91f166d9f0ce4939b04b8e9245f75c27",
   "metadata": {},
   "source": [
    "**9. Perform further tests and analysis to check the correctness of `column_names`**"
   ]
  },
  {
   "cell_type": "markdown",
   "id": "7c10029e1707434ab3fe295caea7d13f",
   "metadata": {},
   "source": [
    "You can for example check some statistics for a specific column."
   ]
  },
  {
   "cell_type": "code",
   "execution_count": 29,
   "id": "f68f0888c55a4478ace3eac39384dff4",
   "metadata": {},
   "outputs": [
    {
     "name": "stdout",
     "output_type": "stream",
     "text": [
      " - Column 0 ( rainfall_rate_32bit ):\n",
      "                    \n",
      "mean  0.005426\n",
      "min   0.000000\n",
      "25%   0.000000\n",
      "50%   0.000000\n",
      "75%   0.000000\n",
      "max   2.881000\n"
     ]
    }
   ],
   "source": [
    "column_name = \"rainfall_rate_32bit\"\n",
    "array_of_values = df.loc[:, [column_name]].astype(\"float\")\n",
    "print_df_summary_stats(array_of_values)"
   ]
  },
  {
   "cell_type": "markdown",
   "id": "f94f5a17fa734d288763e7d9a3758173",
   "metadata": {},
   "source": [
    "**10. Final columns formatting**"
   ]
  },
  {
   "cell_type": "code",
   "execution_count": 30,
   "id": "421b839107204e409e0496d3d944026c",
   "metadata": {},
   "outputs": [
    {
     "name": "stderr",
     "output_type": "stream",
     "text": [
      "The following columns do no met the DISDRODB standards: ['unknown4', 'unknown2', 'unknown3', 'unknown5', 'unknown1', 'unknown6', 'timestep']\n"
     ]
    },
    {
     "ename": "ValueError",
     "evalue": "The following columns do no met the DISDRODB standards: ['unknown4', 'unknown2', 'unknown3', 'unknown5', 'unknown1', 'unknown6', 'timestep']",
     "output_type": "error",
     "traceback": [
      "\u001b[0;31m---------------------------------------------------------------------------\u001b[0m",
      "\u001b[0;31mValueError\u001b[0m                                Traceback (most recent call last)",
      "\u001b[1;32m/home/ghiggi/Python_Packages/disdrodb/tutorials/reader_preparation.ipynb Cell 62\u001b[0m line \u001b[0;36m1\n\u001b[0;32m----> <a href='vscode-notebook-cell:/home/ghiggi/Python_Packages/disdrodb/tutorials/reader_preparation.ipynb#Y115sZmlsZQ%3D%3D?line=0'>1</a>\u001b[0m check_l0a_column_names(df, sensor_name\u001b[39m=\u001b[39;49msensor_name)\n",
      "File \u001b[0;32m~/Python_Packages/disdrodb/disdrodb/l0/check_standards.py:154\u001b[0m, in \u001b[0;36mcheck_l0a_column_names\u001b[0;34m(df, sensor_name)\u001b[0m\n\u001b[1;32m    152\u001b[0m     msg \u001b[39m=\u001b[39m \u001b[39mf\u001b[39m\u001b[39m\"\u001b[39m\u001b[39mThe following columns do no met the DISDRODB standards: \u001b[39m\u001b[39m{\u001b[39;00minvalid_columns\u001b[39m}\u001b[39;00m\u001b[39m\"\u001b[39m\n\u001b[1;32m    153\u001b[0m     logger\u001b[39m.\u001b[39merror(msg)\n\u001b[0;32m--> 154\u001b[0m     \u001b[39mraise\u001b[39;00m \u001b[39mValueError\u001b[39;00m(msg)\n\u001b[1;32m    155\u001b[0m \u001b[39m# --------------------------------------------\u001b[39;00m\n\u001b[1;32m    156\u001b[0m \u001b[39m# Check time column is present\u001b[39;00m\n\u001b[1;32m    157\u001b[0m \u001b[39mif\u001b[39;00m \u001b[39m\"\u001b[39m\u001b[39mtime\u001b[39m\u001b[39m\"\u001b[39m \u001b[39mnot\u001b[39;00m \u001b[39min\u001b[39;00m df_columns:\n",
      "\u001b[0;31mValueError\u001b[0m: The following columns do no met the DISDRODB standards: ['unknown4', 'unknown2', 'unknown3', 'unknown5', 'unknown1', 'unknown6', 'timestep']"
     ]
    }
   ],
   "source": [
    "check_l0a_column_names(df, sensor_name=sensor_name)"
   ]
  },
  {
   "cell_type": "code",
   "execution_count": 31,
   "id": "e981b37c798e44f684168605b9db02c6",
   "metadata": {},
   "outputs": [
    {
     "name": "stdout",
     "output_type": "stream",
     "text": [
      "The following columns do no met the DISDRODB standards: ['unknown4', 'unknown2', 'unknown3', 'unknown5', 'unknown1', 'unknown6', 'timestep'].\n",
      "Please remove such columns within the df_sanitizer_fun\n",
      "Please be sure to create the 'time' column within the df_sanitizer_fun.\n",
      "The 'time' column must be datetime with resolution in seconds (dtype='M8[s]').\n"
     ]
    }
   ],
   "source": [
    "check_column_names(column_names, sensor_name)"
   ]
  },
  {
   "cell_type": "markdown",
   "id": "40c1800d1c114147a536b8aa907907c7",
   "metadata": {},
   "source": [
    "Now, it's time to remove all the columns that does not match the DISDRODB standard."
   ]
  },
  {
   "cell_type": "code",
   "execution_count": 32,
   "id": "9082857fd66e4025bba99b1a80c5d976",
   "metadata": {},
   "outputs": [],
   "source": [
    "df = df.drop(columns=[\"unknown1\", \"unknown2\", \"unknown3\", \"unknown4\", \"unknown5\", \"unknown6\"])"
   ]
  },
  {
   "cell_type": "markdown",
   "id": "71b4158a9f3d49279f06ec9197b84529",
   "metadata": {},
   "source": [
    "It's also time to define the column `time` which is requested by the DISDRODB standard."
   ]
  },
  {
   "cell_type": "code",
   "execution_count": 33,
   "id": "6038e703eb6b4df2ba5a71336b77ea4e",
   "metadata": {},
   "outputs": [],
   "source": [
    "df[\"time\"] = pd.to_datetime(df[\"timestep\"], format=\"%m-%d-%Y %H:%M:%S\")\n",
    "df = df.drop(columns=[\"timestep\"])"
   ]
  },
  {
   "cell_type": "markdown",
   "id": "82ca0f16c5be4617b5535c40faa36c79",
   "metadata": {},
   "source": [
    "Now let's check that the column names, after custom processing, conform with the DISDRODB standards:"
   ]
  },
  {
   "cell_type": "code",
   "execution_count": 34,
   "id": "04aa693c20bd460494e518b8cb84ef11",
   "metadata": {},
   "outputs": [],
   "source": [
    "check_l0a_column_names(df, sensor_name=sensor_name)"
   ]
  },
  {
   "cell_type": "markdown",
   "id": "c8acbee542ae4f9e87d350f4747cb88d",
   "metadata": {},
   "source": [
    "Finally, check if the dataframe looks as desired:"
   ]
  },
  {
   "cell_type": "code",
   "execution_count": 35,
   "id": "e0a51dd6baab431990c6adcc83aa7fba",
   "metadata": {},
   "outputs": [
    {
     "name": "stdout",
     "output_type": "stream",
     "text": [
      " - Column 0 : rainfall_rate_32bit\n",
      " - Column 1 : rainfall_accumulated_32bit\n",
      " - Column 2 : weather_code_synop_4680\n",
      " - Column 3 : weather_code_synop_4677\n",
      " - Column 4 : reflectivity_32bit\n",
      " - Column 5 : mor_visibility\n",
      " - Column 6 : laser_amplitude\n",
      " - Column 7 : number_particles\n",
      " - Column 8 : sensor_temperature\n",
      " - Column 9 : sensor_heating_current\n",
      " - Column 10 : sensor_battery_voltage\n",
      " - Column 11 : sensor_status\n",
      " - Column 12 : rainfall_amount_absolute_32bit\n",
      " - Column 13 : error_code\n",
      " - Column 14 : raw_drop_concentration\n",
      " - Column 15 : raw_drop_average_velocity\n",
      " - Column 16 : raw_drop_number\n",
      " - Column 17 : time\n"
     ]
    }
   ],
   "source": [
    "print_df_column_names(df)"
   ]
  },
  {
   "cell_type": "code",
   "execution_count": 36,
   "id": "d84866adce69467fa81441dc6c47fd8a",
   "metadata": {},
   "outputs": [
    {
     "name": "stdout",
     "output_type": "stream",
     "text": [
      " - Column 0 ( rainfall_rate_32bit ):\n",
      "      ['0000.000' '0000.000' '0000.000' '0000.000' '0000.000']\n",
      " - Column 1 ( rainfall_accumulated_32bit ):\n",
      "      ['0056.52' '0056.67' '0056.71' '0056.71' '0056.71']\n",
      " - Column 2 ( weather_code_synop_4680 ):\n",
      "      ['00' '00' '00' '00' '00']\n",
      " - Column 3 ( weather_code_synop_4677 ):\n",
      "      ['00' '00' '00' '00' '00']\n",
      " - Column 4 ( reflectivity_32bit ):\n",
      "      ['-9.999' '-9.999' '-9.999' '-9.999' '-9.999']\n",
      " - Column 5 ( mor_visibility ):\n",
      "      ['9999' '9999' '9999' '9999' '9999']\n",
      " - Column 6 ( laser_amplitude ):\n",
      "      ['12529' '12595' '11388' '12456' '12248']\n",
      " - Column 7 ( number_particles ):\n",
      "      ['00000' '00000' '00000' '00000' '00000']\n",
      " - Column 8 ( sensor_temperature ):\n",
      "      ['023' '024' '015' '020' '017']\n",
      " - Column 9 ( sensor_heating_current ):\n",
      "      ['0.05' '0.06' '0.06' '0.05' '0.06']\n",
      " - Column 10 ( sensor_battery_voltage ):\n",
      "      ['24.9' '24.9' '24.9' '24.9' '24.9']\n",
      " - Column 11 ( sensor_status ):\n",
      "      ['0' '0' '0' '0' '0']\n",
      " - Column 12 ( rainfall_amount_absolute_32bit ):\n",
      "      ['005.652' '005.667' '005.671' '005.671' '005.671']\n",
      " - Column 13 ( error_code ):\n",
      "      ['000' '000' '000' '000' '000']\n",
      " - Column 14 ( raw_drop_concentration ):\n",
      "      ['-9.999,-9.999,-9.999,-9.999,-9.999,-9.999,-9.999,-9.999,-9.999,-9.999,-9.999,-9.999,-9.999,-9.999,-9.999,-9.999,-9.999,-9.999,-9.999,-9.999,-9.999,-9.999,-9.999,-9.999,-9.999,-9.999,-9.999,-9.999,-9.999,-9.999,-9.999,-9.999,'\n",
      " '-9.999,-9.999,-9.999,-9.999,-9.999,-9.999,-9.999,-9.999,-9.999,-9.999,-9.999,-9.999,-9.999,-9.999,-9.999,-9.999,-9.999,-9.999,-9.999,-9.999,-9.999,-9.999,-9.999,-9.999,-9.999,-9.999,-9.999,-9.999,-9.999,-9.999,-9.999,-9.999,'\n",
      " '-9.999,-9.999,-9.999,-9.999,-9.999,-9.999,-9.999,-9.999,-9.999,-9.999,-9.999,-9.999,-9.999,-9.999,-9.999,-9.999,-9.999,-9.999,-9.999,-9.999,-9.999,-9.999,-9.999,-9.999,-9.999,-9.999,-9.999,-9.999,-9.999,-9.999,-9.999,-9.999,'\n",
      " '-9.999,-9.999,-9.999,-9.999,-9.999,-9.999,-9.999,-9.999,-9.999,-9.999,-9.999,-9.999,-9.999,-9.999,-9.999,-9.999,-9.999,-9.999,-9.999,-9.999,-9.999,-9.999,-9.999,-9.999,-9.999,-9.999,-9.999,-9.999,-9.999,-9.999,-9.999,-9.999,'\n",
      " '-9.999,-9.999,-9.999,-9.999,-9.999,-9.999,-9.999,-9.999,-9.999,-9.999,-9.999,-9.999,-9.999,-9.999,-9.999,-9.999,-9.999,-9.999,-9.999,-9.999,-9.999,-9.999,-9.999,-9.999,-9.999,-9.999,-9.999,-9.999,-9.999,-9.999,-9.999,-9.999,']\n",
      " - Column 15 ( raw_drop_average_velocity ):\n",
      "      ['00.000,00.000,00.000,00.000,00.000,00.000,00.000,00.000,00.000,00.000,00.000,00.000,00.000,00.000,00.000,00.000,00.000,00.000,00.000,00.000,00.000,00.000,00.000,00.000,00.000,00.000,00.000,00.000,00.000,00.000,00.000,00.000,'\n",
      " '00.000,00.000,00.000,00.000,00.000,00.000,00.000,00.000,00.000,00.000,00.000,00.000,00.000,00.000,00.000,00.000,00.000,00.000,00.000,00.000,00.000,00.000,00.000,00.000,00.000,00.000,00.000,00.000,00.000,00.000,00.000,00.000,'\n",
      " '00.000,00.000,00.000,00.000,00.000,00.000,00.000,00.000,00.000,00.000,00.000,00.000,00.000,00.000,00.000,00.000,00.000,00.000,00.000,00.000,00.000,00.000,00.000,00.000,00.000,00.000,00.000,00.000,00.000,00.000,00.000,00.000,'\n",
      " '00.000,00.000,00.000,00.000,00.000,00.000,00.000,00.000,00.000,00.000,00.000,00.000,00.000,00.000,00.000,00.000,00.000,00.000,00.000,00.000,00.000,00.000,00.000,00.000,00.000,00.000,00.000,00.000,00.000,00.000,00.000,00.000,'\n",
      " '00.000,00.000,00.000,00.000,00.000,00.000,00.000,00.000,00.000,00.000,00.000,00.000,00.000,00.000,00.000,00.000,00.000,00.000,00.000,00.000,00.000,00.000,00.000,00.000,00.000,00.000,00.000,00.000,00.000,00.000,00.000,00.000,']\n",
      " - Column 16 ( raw_drop_number ):\n",
      "      ['000,000,000,000,000,000,000,000,000,000,000,000,000,000,000,000,000,000,000,000,000,000,000,000,000,000,000,000,000,000,000,000,000,000,000,000,000,000,000,000,000,000,000,000,000,000,000,000,000,000,000,000,000,000,000,000,000,000,000,000,000,000,000,000,000,000,000,000,000,000,000,000,000,000,000,000,000,000,000,000,000,000,000,000,000,000,000,000,000,000,000,000,000,000,000,000,000,000,000,000,000,000,000,000,000,000,000,000,000,000,000,000,000,000,000,000,000,000,000,000,000,000,000,000,000,000,000,000,000,000,000,000,000,000,000,000,000,000,000,000,000,000,000,000,000,000,000,000,000,000,000,000,000,000,000,000,000,000,000,000,000,000,000,000,000,000,000,000,000,000,000,000,000,000,000,000,000,000,000,000,000,000,000,000,000,000,000,000,000,000,000,000,000,000,000,000,000,000,000,000,000,000,000,000,000,000,000,000,000,000,000,000,000,000,000,000,000,000,000,000,000,000,000,000,000,000,000,000,000,000,000,000,000,000,000,000,000,000,000,000,000,000,000,000,000,000,000,000,000,000,000,000,000,000,000,000,000,000,000,000,000,000,000,000,000,000,000,000,000,000,000,000,000,000,000,000,000,000,000,000,000,000,000,000,000,000,000,000,000,000,000,000,000,000,000,000,000,000,000,000,000,000,000,000,000,000,000,000,000,000,000,000,000,000,000,000,000,000,000,000,000,000,000,000,000,000,000,000,000,000,000,000,000,000,000,000,000,000,000,000,000,000,000,000,000,000,000,000,000,000,000,000,000,000,000,000,000,000,000,000,000,000,000,000,000,000,000,000,000,000,000,000,000,000,000,000,000,000,000,000,000,000,000,000,000,000,000,000,000,000,000,000,000,000,000,000,000,000,000,000,000,000,000,000,000,000,000,000,000,000,000,000,000,000,000,000,000,000,000,000,000,000,000,000,000,000,000,000,000,000,000,000,000,000,000,000,000,000,000,000,000,000,000,000,000,000,000,000,000,000,000,000,000,000,000,000,000,000,000,000,000,000,000,000,000,000,000,000,000,000,000,000,000,000,000,000,000,000,000,000,000,000,000,000,000,000,000,000,000,000,000,000,000,000,000,000,000,000,000,000,000,000,000,000,000,000,000,000,000,000,000,000,000,000,000,000,000,000,000,000,000,000,000,000,000,000,000,000,000,000,000,000,000,000,000,000,000,000,000,000,000,000,000,000,000,000,000,000,000,000,000,000,000,000,000,000,000,000,000,000,000,000,000,000,000,000,000,000,000,000,000,000,000,000,000,000,000,000,000,000,000,000,000,000,000,000,000,000,000,000,000,000,000,000,000,000,000,000,000,000,000,000,000,000,000,000,000,000,000,000,000,000,000,000,000,000,000,000,000,000,000,000,000,000,000,000,000,000,000,000,000,000,000,000,000,000,000,000,000,000,000,000,000,000,000,000,000,000,000,000,000,000,000,000,000,000,000,000,000,000,000,000,000,000,000,000,000,000,000,000,000,000,000,000,000,000,000,000,000,000,000,000,000,000,000,000,000,000,000,000,000,000,000,000,000,000,000,000,000,000,000,000,000,000,000,000,000,000,000,000,000,000,000,000,000,000,000,000,000,000,000,000,000,000,000,000,000,000,000,000,000,000,000,000,000,000,000,000,000,000,000,000,000,000,000,000,000,000,000,000,000,000,000,000,000,000,000,000,000,000,000,000,000,000,000,000,000,000,000,000,000,000,000,000,000,000,000,000,000,000,000,000,000,000,000,000,000,000,000,000,000,000,000,000,000,000,000,000,000,000,000,000,000,000,000,000,000,000,000,000,000,000,000,000,000,000,000,000,000,000,000,000,000,000,000,000,000,000,000,000,000,000,000,000,000,000,000,000,000,000,000,000,000,000,000,000,000,000,000,000,000,000,000,000,000,000,000,000,000,000,000,000,000,000,000,000,000,000,000,000,000,000,000,000,000,000,000,000,000,000,000,000,000,000,000,000,000,000,000,000,000,000,000,000,000,000,000,000,000,000,000,000,000,000,000,000,000,000,000,000,000,000,000,000,000,000,000,000,000,000,000,000,000,000,000,000,000,000,000,000,000,000,000,000,000,000,000,000,000,000,000,000,000,000,000,000,000,000,000,000,000,000,000,000,000,000,000,000,000,000,000,000,000,000,000,000,000,000,000,000,000,000,000,000,000,000,000,000,000,000,000,000,000,000,000,000,000,000,000,000,000,000,000,000,000,000,000,000,000,000,000,000,000,000,000,000,000,000,000,000,000,000,000,000,000,000,000,000,000,000,000,000,000,000,'\n",
      " '000,000,000,000,000,000,000,000,000,000,000,000,000,000,000,000,000,000,000,000,000,000,000,000,000,000,000,000,000,000,000,000,000,000,000,000,000,000,000,000,000,000,000,000,000,000,000,000,000,000,000,000,000,000,000,000,000,000,000,000,000,000,000,000,000,000,000,000,000,000,000,000,000,000,000,000,000,000,000,000,000,000,000,000,000,000,000,000,000,000,000,000,000,000,000,000,000,000,000,000,000,000,000,000,000,000,000,000,000,000,000,000,000,000,000,000,000,000,000,000,000,000,000,000,000,000,000,000,000,000,000,000,000,000,000,000,000,000,000,000,000,000,000,000,000,000,000,000,000,000,000,000,000,000,000,000,000,000,000,000,000,000,000,000,000,000,000,000,000,000,000,000,000,000,000,000,000,000,000,000,000,000,000,000,000,000,000,000,000,000,000,000,000,000,000,000,000,000,000,000,000,000,000,000,000,000,000,000,000,000,000,000,000,000,000,000,000,000,000,000,000,000,000,000,000,000,000,000,000,000,000,000,000,000,000,000,000,000,000,000,000,000,000,000,000,000,000,000,000,000,000,000,000,000,000,000,000,000,000,000,000,000,000,000,000,000,000,000,000,000,000,000,000,000,000,000,000,000,000,000,000,000,000,000,000,000,000,000,000,000,000,000,000,000,000,000,000,000,000,000,000,000,000,000,000,000,000,000,000,000,000,000,000,000,000,000,000,000,000,000,000,000,000,000,000,000,000,000,000,000,000,000,000,000,000,000,000,000,000,000,000,000,000,000,000,000,000,000,000,000,000,000,000,000,000,000,000,000,000,000,000,000,000,000,000,000,000,000,000,000,000,000,000,000,000,000,000,000,000,000,000,000,000,000,000,000,000,000,000,000,000,000,000,000,000,000,000,000,000,000,000,000,000,000,000,000,000,000,000,000,000,000,000,000,000,000,000,000,000,000,000,000,000,000,000,000,000,000,000,000,000,000,000,000,000,000,000,000,000,000,000,000,000,000,000,000,000,000,000,000,000,000,000,000,000,000,000,000,000,000,000,000,000,000,000,000,000,000,000,000,000,000,000,000,000,000,000,000,000,000,000,000,000,000,000,000,000,000,000,000,000,000,000,000,000,000,000,000,000,000,000,000,000,000,000,000,000,000,000,000,000,000,000,000,000,000,000,000,000,000,000,000,000,000,000,000,000,000,000,000,000,000,000,000,000,000,000,000,000,000,000,000,000,000,000,000,000,000,000,000,000,000,000,000,000,000,000,000,000,000,000,000,000,000,000,000,000,000,000,000,000,000,000,000,000,000,000,000,000,000,000,000,000,000,000,000,000,000,000,000,000,000,000,000,000,000,000,000,000,000,000,000,000,000,000,000,000,000,000,000,000,000,000,000,000,000,000,000,000,000,000,000,000,000,000,000,000,000,000,000,000,000,000,000,000,000,000,000,000,000,000,000,000,000,000,000,000,000,000,000,000,000,000,000,000,000,000,000,000,000,000,000,000,000,000,000,000,000,000,000,000,000,000,000,000,000,000,000,000,000,000,000,000,000,000,000,000,000,000,000,000,000,000,000,000,000,000,000,000,000,000,000,000,000,000,000,000,000,000,000,000,000,000,000,000,000,000,000,000,000,000,000,000,000,000,000,000,000,000,000,000,000,000,000,000,000,000,000,000,000,000,000,000,000,000,000,000,000,000,000,000,000,000,000,000,000,000,000,000,000,000,000,000,000,000,000,000,000,000,000,000,000,000,000,000,000,000,000,000,000,000,000,000,000,000,000,000,000,000,000,000,000,000,000,000,000,000,000,000,000,000,000,000,000,000,000,000,000,000,000,000,000,000,000,000,000,000,000,000,000,000,000,000,000,000,000,000,000,000,000,000,000,000,000,000,000,000,000,000,000,000,000,000,000,000,000,000,000,000,000,000,000,000,000,000,000,000,000,000,000,000,000,000,000,000,000,000,000,000,000,000,000,000,000,000,000,000,000,000,000,000,000,000,000,000,000,000,000,000,000,000,000,000,000,000,000,000,000,000,000,000,000,000,000,000,000,000,000,000,000,000,000,000,000,000,000,000,000,000,000,000,000,000,000,000,000,000,000,000,000,000,000,000,000,000,000,000,000,000,000,000,000,000,000,000,000,000,000,000,000,000,000,000,000,000,000,000,000,000,000,000,000,000,000,000,000,000,000,000,000,000,000,000,000,000,000,000,000,000,000,000,000,000,000,000,000,000,000,000,000,000,000,000,000,000,000,000,000,000,000,000,000,000,000,000,000,000,000,000,000,000,000,000,000,000,000,000,000,000,000,000,000,000,000,'\n",
      " '000,000,000,000,000,000,000,000,000,000,000,000,000,000,000,000,000,000,000,000,000,000,000,000,000,000,000,000,000,000,000,000,000,000,000,000,000,000,000,000,000,000,000,000,000,000,000,000,000,000,000,000,000,000,000,000,000,000,000,000,000,000,000,000,000,000,000,000,000,000,000,000,000,000,000,000,000,000,000,000,000,000,000,000,000,000,000,000,000,000,000,000,000,000,000,000,000,000,000,000,000,000,000,000,000,000,000,000,000,000,000,000,000,000,000,000,000,000,000,000,000,000,000,000,000,000,000,000,000,000,000,000,000,000,000,000,000,000,000,000,000,000,000,000,000,000,000,000,000,000,000,000,000,000,000,000,000,000,000,000,000,000,000,000,000,000,000,000,000,000,000,000,000,000,000,000,000,000,000,000,000,000,000,000,000,000,000,000,000,000,000,000,000,000,000,000,000,000,000,000,000,000,000,000,000,000,000,000,000,000,000,000,000,000,000,000,000,000,000,000,000,000,000,000,000,000,000,000,000,000,000,000,000,000,000,000,000,000,000,000,000,000,000,000,000,000,000,000,000,000,000,000,000,000,000,000,000,000,000,000,000,000,000,000,000,000,000,000,000,000,000,000,000,000,000,000,000,000,000,000,000,000,000,000,000,000,000,000,000,000,000,000,000,000,000,000,000,000,000,000,000,000,000,000,000,000,000,000,000,000,000,000,000,000,000,000,000,000,000,000,000,000,000,000,000,000,000,000,000,000,000,000,000,000,000,000,000,000,000,000,000,000,000,000,000,000,000,000,000,000,000,000,000,000,000,000,000,000,000,000,000,000,000,000,000,000,000,000,000,000,000,000,000,000,000,000,000,000,000,000,000,000,000,000,000,000,000,000,000,000,000,000,000,000,000,000,000,000,000,000,000,000,000,000,000,000,000,000,000,000,000,000,000,000,000,000,000,000,000,000,000,000,000,000,000,000,000,000,000,000,000,000,000,000,000,000,000,000,000,000,000,000,000,000,000,000,000,000,000,000,000,000,000,000,000,000,000,000,000,000,000,000,000,000,000,000,000,000,000,000,000,000,000,000,000,000,000,000,000,000,000,000,000,000,000,000,000,000,000,000,000,000,000,000,000,000,000,000,000,000,000,000,000,000,000,000,000,000,000,000,000,000,000,000,000,000,000,000,000,000,000,000,000,000,000,000,000,000,000,000,000,000,000,000,000,000,000,000,000,000,000,000,000,000,000,000,000,000,000,000,000,000,000,000,000,000,000,000,000,000,000,000,000,000,000,000,000,000,000,000,000,000,000,000,000,000,000,000,000,000,000,000,000,000,000,000,000,000,000,000,000,000,000,000,000,000,000,000,000,000,000,000,000,000,000,000,000,000,000,000,000,000,000,000,000,000,000,000,000,000,000,000,000,000,000,000,000,000,000,000,000,000,000,000,000,000,000,000,000,000,000,000,000,000,000,000,000,000,000,000,000,000,000,000,000,000,000,000,000,000,000,000,000,000,000,000,000,000,000,000,000,000,000,000,000,000,000,000,000,000,000,000,000,000,000,000,000,000,000,000,000,000,000,000,000,000,000,000,000,000,000,000,000,000,000,000,000,000,000,000,000,000,000,000,000,000,000,000,000,000,000,000,000,000,000,000,000,000,000,000,000,000,000,000,000,000,000,000,000,000,000,000,000,000,000,000,000,000,000,000,000,000,000,000,000,000,000,000,000,000,000,000,000,000,000,000,000,000,000,000,000,000,000,000,000,000,000,000,000,000,000,000,000,000,000,000,000,000,000,000,000,000,000,000,000,000,000,000,000,000,000,000,000,000,000,000,000,000,000,000,000,000,000,000,000,000,000,000,000,000,000,000,000,000,000,000,000,000,000,000,000,000,000,000,000,000,000,000,000,000,000,000,000,000,000,000,000,000,000,000,000,000,000,000,000,000,000,000,000,000,000,000,000,000,000,000,000,000,000,000,000,000,000,000,000,000,000,000,000,000,000,000,000,000,000,000,000,000,000,000,000,000,000,000,000,000,000,000,000,000,000,000,000,000,000,000,000,000,000,000,000,000,000,000,000,000,000,000,000,000,000,000,000,000,000,000,000,000,000,000,000,000,000,000,000,000,000,000,000,000,000,000,000,000,000,000,000,000,000,000,000,000,000,000,000,000,000,000,000,000,000,000,000,000,000,000,000,000,000,000,000,000,000,000,000,000,000,000,000,000,000,000,000,000,000,000,000,000,000,000,000,000,000,000,000,000,000,000,000,000,000,000,000,000,000,000,000,000,000,000,000,000,000,000,000,000,000,000,000,000,000,000,000,000,'\n",
      " '000,000,000,000,000,000,000,000,000,000,000,000,000,000,000,000,000,000,000,000,000,000,000,000,000,000,000,000,000,000,000,000,000,000,000,000,000,000,000,000,000,000,000,000,000,000,000,000,000,000,000,000,000,000,000,000,000,000,000,000,000,000,000,000,000,000,000,000,000,000,000,000,000,000,000,000,000,000,000,000,000,000,000,000,000,000,000,000,000,000,000,000,000,000,000,000,000,000,000,000,000,000,000,000,000,000,000,000,000,000,000,000,000,000,000,000,000,000,000,000,000,000,000,000,000,000,000,000,000,000,000,000,000,000,000,000,000,000,000,000,000,000,000,000,000,000,000,000,000,000,000,000,000,000,000,000,000,000,000,000,000,000,000,000,000,000,000,000,000,000,000,000,000,000,000,000,000,000,000,000,000,000,000,000,000,000,000,000,000,000,000,000,000,000,000,000,000,000,000,000,000,000,000,000,000,000,000,000,000,000,000,000,000,000,000,000,000,000,000,000,000,000,000,000,000,000,000,000,000,000,000,000,000,000,000,000,000,000,000,000,000,000,000,000,000,000,000,000,000,000,000,000,000,000,000,000,000,000,000,000,000,000,000,000,000,000,000,000,000,000,000,000,000,000,000,000,000,000,000,000,000,000,000,000,000,000,000,000,000,000,000,000,000,000,000,000,000,000,000,000,000,000,000,000,000,000,000,000,000,000,000,000,000,000,000,000,000,000,000,000,000,000,000,000,000,000,000,000,000,000,000,000,000,000,000,000,000,000,000,000,000,000,000,000,000,000,000,000,000,000,000,000,000,000,000,000,000,000,000,000,000,000,000,000,000,000,000,000,000,000,000,000,000,000,000,000,000,000,000,000,000,000,000,000,000,000,000,000,000,000,000,000,000,000,000,000,000,000,000,000,000,000,000,000,000,000,000,000,000,000,000,000,000,000,000,000,000,000,000,000,000,000,000,000,000,000,000,000,000,000,000,000,000,000,000,000,000,000,000,000,000,000,000,000,000,000,000,000,000,000,000,000,000,000,000,000,000,000,000,000,000,000,000,000,000,000,000,000,000,000,000,000,000,000,000,000,000,000,000,000,000,000,000,000,000,000,000,000,000,000,000,000,000,000,000,000,000,000,000,000,000,000,000,000,000,000,000,000,000,000,000,000,000,000,000,000,000,000,000,000,000,000,000,000,000,000,000,000,000,000,000,000,000,000,000,000,000,000,000,000,000,000,000,000,000,000,000,000,000,000,000,000,000,000,000,000,000,000,000,000,000,000,000,000,000,000,000,000,000,000,000,000,000,000,000,000,000,000,000,000,000,000,000,000,000,000,000,000,000,000,000,000,000,000,000,000,000,000,000,000,000,000,000,000,000,000,000,000,000,000,000,000,000,000,000,000,000,000,000,000,000,000,000,000,000,000,000,000,000,000,000,000,000,000,000,000,000,000,000,000,000,000,000,000,000,000,000,000,000,000,000,000,000,000,000,000,000,000,000,000,000,000,000,000,000,000,000,000,000,000,000,000,000,000,000,000,000,000,000,000,000,000,000,000,000,000,000,000,000,000,000,000,000,000,000,000,000,000,000,000,000,000,000,000,000,000,000,000,000,000,000,000,000,000,000,000,000,000,000,000,000,000,000,000,000,000,000,000,000,000,000,000,000,000,000,000,000,000,000,000,000,000,000,000,000,000,000,000,000,000,000,000,000,000,000,000,000,000,000,000,000,000,000,000,000,000,000,000,000,000,000,000,000,000,000,000,000,000,000,000,000,000,000,000,000,000,000,000,000,000,000,000,000,000,000,000,000,000,000,000,000,000,000,000,000,000,000,000,000,000,000,000,000,000,000,000,000,000,000,000,000,000,000,000,000,000,000,000,000,000,000,000,000,000,000,000,000,000,000,000,000,000,000,000,000,000,000,000,000,000,000,000,000,000,000,000,000,000,000,000,000,000,000,000,000,000,000,000,000,000,000,000,000,000,000,000,000,000,000,000,000,000,000,000,000,000,000,000,000,000,000,000,000,000,000,000,000,000,000,000,000,000,000,000,000,000,000,000,000,000,000,000,000,000,000,000,000,000,000,000,000,000,000,000,000,000,000,000,000,000,000,000,000,000,000,000,000,000,000,000,000,000,000,000,000,000,000,000,000,000,000,000,000,000,000,000,000,000,000,000,000,000,000,000,000,000,000,000,000,000,000,000,000,000,000,000,000,000,000,000,000,000,000,000,000,000,000,000,000,000,000,000,000,000,000,000,000,000,000,000,000,000,000,000,000,000,000,000,000,000,000,000,000,000,000,000,000,000,000,000,000,000,000,000,'\n",
      " '000,000,000,000,000,000,000,000,000,000,000,000,000,000,000,000,000,000,000,000,000,000,000,000,000,000,000,000,000,000,000,000,000,000,000,000,000,000,000,000,000,000,000,000,000,000,000,000,000,000,000,000,000,000,000,000,000,000,000,000,000,000,000,000,000,000,000,000,000,000,000,000,000,000,000,000,000,000,000,000,000,000,000,000,000,000,000,000,000,000,000,000,000,000,000,000,000,000,000,000,000,000,000,000,000,000,000,000,000,000,000,000,000,000,000,000,000,000,000,000,000,000,000,000,000,000,000,000,000,000,000,000,000,000,000,000,000,000,000,000,000,000,000,000,000,000,000,000,000,000,000,000,000,000,000,000,000,000,000,000,000,000,000,000,000,000,000,000,000,000,000,000,000,000,000,000,000,000,000,000,000,000,000,000,000,000,000,000,000,000,000,000,000,000,000,000,000,000,000,000,000,000,000,000,000,000,000,000,000,000,000,000,000,000,000,000,000,000,000,000,000,000,000,000,000,000,000,000,000,000,000,000,000,000,000,000,000,000,000,000,000,000,000,000,000,000,000,000,000,000,000,000,000,000,000,000,000,000,000,000,000,000,000,000,000,000,000,000,000,000,000,000,000,000,000,000,000,000,000,000,000,000,000,000,000,000,000,000,000,000,000,000,000,000,000,000,000,000,000,000,000,000,000,000,000,000,000,000,000,000,000,000,000,000,000,000,000,000,000,000,000,000,000,000,000,000,000,000,000,000,000,000,000,000,000,000,000,000,000,000,000,000,000,000,000,000,000,000,000,000,000,000,000,000,000,000,000,000,000,000,000,000,000,000,000,000,000,000,000,000,000,000,000,000,000,000,000,000,000,000,000,000,000,000,000,000,000,000,000,000,000,000,000,000,000,000,000,000,000,000,000,000,000,000,000,000,000,000,000,000,000,000,000,000,000,000,000,000,000,000,000,000,000,000,000,000,000,000,000,000,000,000,000,000,000,000,000,000,000,000,000,000,000,000,000,000,000,000,000,000,000,000,000,000,000,000,000,000,000,000,000,000,000,000,000,000,000,000,000,000,000,000,000,000,000,000,000,000,000,000,000,000,000,000,000,000,000,000,000,000,000,000,000,000,000,000,000,000,000,000,000,000,000,000,000,000,000,000,000,000,000,000,000,000,000,000,000,000,000,000,000,000,000,000,000,000,000,000,000,000,000,000,000,000,000,000,000,000,000,000,000,000,000,000,000,000,000,000,000,000,000,000,000,000,000,000,000,000,000,000,000,000,000,000,000,000,000,000,000,000,000,000,000,000,000,000,000,000,000,000,000,000,000,000,000,000,000,000,000,000,000,000,000,000,000,000,000,000,000,000,000,000,000,000,000,000,000,000,000,000,000,000,000,000,000,000,000,000,000,000,000,000,000,000,000,000,000,000,000,000,000,000,000,000,000,000,000,000,000,000,000,000,000,000,000,000,000,000,000,000,000,000,000,000,000,000,000,000,000,000,000,000,000,000,000,000,000,000,000,000,000,000,000,000,000,000,000,000,000,000,000,000,000,000,000,000,000,000,000,000,000,000,000,000,000,000,000,000,000,000,000,000,000,000,000,000,000,000,000,000,000,000,000,000,000,000,000,000,000,000,000,000,000,000,000,000,000,000,000,000,000,000,000,000,000,000,000,000,000,000,000,000,000,000,000,000,000,000,000,000,000,000,000,000,000,000,000,000,000,000,000,000,000,000,000,000,000,000,000,000,000,000,000,000,000,000,000,000,000,000,000,000,000,000,000,000,000,000,000,000,000,000,000,000,000,000,000,000,000,000,000,000,000,000,000,000,000,000,000,000,000,000,000,000,000,000,000,000,000,000,000,000,000,000,000,000,000,000,000,000,000,000,000,000,000,000,000,000,000,000,000,000,000,000,000,000,000,000,000,000,000,000,000,000,000,000,000,000,000,000,000,000,000,000,000,000,000,000,000,000,000,000,000,000,000,000,000,000,000,000,000,000,000,000,000,000,000,000,000,000,000,000,000,000,000,000,000,000,000,000,000,000,000,000,000,000,000,000,000,000,000,000,000,000,000,000,000,000,000,000,000,000,000,000,000,000,000,000,000,000,000,000,000,000,000,000,000,000,000,000,000,000,000,000,000,000,000,000,000,000,000,000,000,000,000,000,000,000,000,000,000,000,000,000,000,000,000,000,000,000,000,000,000,000,000,000,000,000,000,000,000,000,000,000,000,000,000,000,000,000,000,000,000,000,000,000,000,000,000,000,000,000,000,000,000,000,000,000,000,000,000,000,000,000,000,000,000,000,000,000,000,000,000,000,']\n",
      " - Column 17 ( time ):\n",
      "      ['2018-01-08T15:26:31.000000000' '2018-02-08T06:21:30.000000000'\n",
      " '2018-03-08T02:27:30.000000000' '2018-02-08T17:41:01.000000000'\n",
      " '2018-02-08T21:08:01.000000000']\n"
     ]
    }
   ],
   "source": [
    "print_df_random_n_rows(df, n=5)"
   ]
  },
  {
   "cell_type": "code",
   "execution_count": 37,
   "id": "deb6c23654f54f5b91a38c31054c5587",
   "metadata": {},
   "outputs": [
    {
     "name": "stdout",
     "output_type": "stream",
     "text": [
      " - Column 2 ( weather_code_synop_4680 ):\n",
      "      ['00', '57', '61', '62', '71', '72', '88']\n"
     ]
    }
   ],
   "source": [
    "print_df_columns_unique_values(df, column_indices=2, print_column_names=True)"
   ]
  },
  {
   "cell_type": "markdown",
   "id": "9768d501ade64311a8ed6e9eb433fa9b",
   "metadata": {},
   "source": [
    "**11. Define the dataframe sanitizer function**\n",
    "\n",
    "The `df_sanitizer_fun` encapsulate the code specific to each reader/dataset that is required to obtain a dataframe compliants with the DISDRODB standards.\n",
    "\n",
    "With the data used in this notebook, we need to drop some columns and define the `time` column ! \n",
    "\n",
    "From the code defined in Section 10, we define the following function: "
   ]
  },
  {
   "cell_type": "code",
   "execution_count": 38,
   "id": "061962c182f9482c8b1341b2a6f73cd5",
   "metadata": {},
   "outputs": [],
   "source": [
    "def df_sanitizer_fun(df):\n",
    "    # Import pandas\n",
    "    import pandas as pd\n",
    "\n",
    "    # - Drop unvalid columns\n",
    "    columns_to_drop = [\n",
    "        \"unknown1\",\n",
    "        \"unknown2\",\n",
    "        \"unknown3\",\n",
    "        \"unknown4\",\n",
    "        \"unknown5\",\n",
    "        \"unknown6\",\n",
    "    ]\n",
    "\n",
    "    df = df.drop(columns=columns_to_drop)\n",
    "\n",
    "    # - Convert timestep column to datetime format\n",
    "    df[\"time\"] = pd.to_datetime(df[\"timestep\"], format=\"%m-%d-%Y %H:%M:%S\")\n",
    "    df = df.drop(columns=[\"timestep\"])\n",
    "\n",
    "    # - Return the dataframe\n",
    "    return df"
   ]
  },
  {
   "cell_type": "markdown",
   "id": "8edfd84aa00d4424a71141df99c55e72",
   "metadata": {},
   "source": [
    "> 🚨 The `df_sanitizer_fun()` function will be transfered to the reader function at the end of this notebook. "
   ]
  },
  {
   "cell_type": "markdown",
   "id": "8c55fba33aa346cf939c9cd632996673",
   "metadata": {},
   "source": [
    "**12. Now let's try calling the reader function as it will be called in the DISDRODB L0 reader**\n",
    "\n",
    "* You may try with increasing number of files (update `filepaths`)\n"
   ]
  },
  {
   "cell_type": "markdown",
   "id": "ab13b4b6e2874167b7f2debb11dcd1d9",
   "metadata": {},
   "source": [
    "Here we combine all raw files in a single dataframe. \n",
    "\n",
    "The function `read_raw_files` takes as argument :\n",
    "* `filepaths` : the list of files present in the specified station directory\n",
    "* `column_names` : the list of column (defined previously)\n",
    "* `reader_kwargs` : dictionary to data loading  into the dataframe (defined previously)\n",
    "* `sensor_name` : taken from the `sensor_name` key in the metadata YAML file of the station\n",
    "* `df_sanitizer_fun`: the function to sanitize the data frame (defined previously)\n",
    "\n",
    "All these arguments are defined either in the data directory structure, or earlier in the code."
   ]
  },
  {
   "cell_type": "code",
   "execution_count": 39,
   "id": "47d658866ccb404681cf21a4419000da",
   "metadata": {},
   "outputs": [
    {
     "name": "stdout",
     "output_type": "stream",
     "text": [
      " - 1 / 1 processed successfully. File name: /home/ghiggi/Python_Packages/disdrodb/data/DISDRODB/Raw/DATA_SOURCE/CAMPAIGN_NAME/data/station_name_1/file60_20180817.dat.gz\n",
      " -  - 0 of 1 have been skipped.\n"
     ]
    },
    {
     "data": {
      "text/html": [
       "<div>\n",
       "<style scoped>\n",
       "    .dataframe tbody tr th:only-of-type {\n",
       "        vertical-align: middle;\n",
       "    }\n",
       "\n",
       "    .dataframe tbody tr th {\n",
       "        vertical-align: top;\n",
       "    }\n",
       "\n",
       "    .dataframe thead th {\n",
       "        text-align: right;\n",
       "    }\n",
       "</style>\n",
       "<table border=\"1\" class=\"dataframe\">\n",
       "  <thead>\n",
       "    <tr style=\"text-align: right;\">\n",
       "      <th></th>\n",
       "      <th>rainfall_rate_32bit</th>\n",
       "      <th>rainfall_accumulated_32bit</th>\n",
       "      <th>weather_code_synop_4680</th>\n",
       "      <th>weather_code_synop_4677</th>\n",
       "      <th>reflectivity_32bit</th>\n",
       "      <th>mor_visibility</th>\n",
       "      <th>laser_amplitude</th>\n",
       "      <th>number_particles</th>\n",
       "      <th>sensor_temperature</th>\n",
       "      <th>sensor_heating_current</th>\n",
       "      <th>sensor_battery_voltage</th>\n",
       "      <th>sensor_status</th>\n",
       "      <th>rainfall_amount_absolute_32bit</th>\n",
       "      <th>error_code</th>\n",
       "      <th>raw_drop_concentration</th>\n",
       "      <th>raw_drop_average_velocity</th>\n",
       "      <th>raw_drop_number</th>\n",
       "      <th>time</th>\n",
       "    </tr>\n",
       "  </thead>\n",
       "  <tbody>\n",
       "    <tr>\n",
       "      <th>0</th>\n",
       "      <td>0.0</td>\n",
       "      <td>56.490002</td>\n",
       "      <td>0.0</td>\n",
       "      <td>0.0</td>\n",
       "      <td>-9.999</td>\n",
       "      <td>9999.0</td>\n",
       "      <td>12611.0</td>\n",
       "      <td>0.0</td>\n",
       "      <td>35.0</td>\n",
       "      <td>0.06</td>\n",
       "      <td>24.9</td>\n",
       "      <td>0.0</td>\n",
       "      <td>5.649</td>\n",
       "      <td>0.0</td>\n",
       "      <td>-9.999,-9.999,-9.999,-9.999,-9.999,-9.999,-9.9...</td>\n",
       "      <td>00.000,00.000,00.000,00.000,00.000,00.000,00.0...</td>\n",
       "      <td>000,000,000,000,000,000,000,000,000,000,000,00...</td>\n",
       "      <td>2018-01-08 12:44:30</td>\n",
       "    </tr>\n",
       "    <tr>\n",
       "      <th>1</th>\n",
       "      <td>0.0</td>\n",
       "      <td>56.490002</td>\n",
       "      <td>0.0</td>\n",
       "      <td>0.0</td>\n",
       "      <td>-9.999</td>\n",
       "      <td>9999.0</td>\n",
       "      <td>12617.0</td>\n",
       "      <td>0.0</td>\n",
       "      <td>35.0</td>\n",
       "      <td>0.06</td>\n",
       "      <td>24.9</td>\n",
       "      <td>0.0</td>\n",
       "      <td>5.649</td>\n",
       "      <td>0.0</td>\n",
       "      <td>-9.999,-9.999,-9.999,-9.999,-9.999,-9.999,-9.9...</td>\n",
       "      <td>00.000,00.000,00.000,00.000,00.000,00.000,00.0...</td>\n",
       "      <td>000,000,000,000,000,000,000,000,000,000,000,00...</td>\n",
       "      <td>2018-01-08 12:45:01</td>\n",
       "    </tr>\n",
       "    <tr>\n",
       "      <th>2</th>\n",
       "      <td>0.0</td>\n",
       "      <td>56.490002</td>\n",
       "      <td>0.0</td>\n",
       "      <td>0.0</td>\n",
       "      <td>-9.999</td>\n",
       "      <td>9999.0</td>\n",
       "      <td>12600.0</td>\n",
       "      <td>0.0</td>\n",
       "      <td>35.0</td>\n",
       "      <td>0.06</td>\n",
       "      <td>24.9</td>\n",
       "      <td>0.0</td>\n",
       "      <td>5.649</td>\n",
       "      <td>0.0</td>\n",
       "      <td>-9.999,-9.999,-9.999,-9.999,-9.999,-9.999,-9.9...</td>\n",
       "      <td>00.000,00.000,00.000,00.000,00.000,00.000,00.0...</td>\n",
       "      <td>000,000,000,000,000,000,000,000,000,000,000,00...</td>\n",
       "      <td>2018-01-08 12:45:30</td>\n",
       "    </tr>\n",
       "    <tr>\n",
       "      <th>3</th>\n",
       "      <td>0.0</td>\n",
       "      <td>56.490002</td>\n",
       "      <td>0.0</td>\n",
       "      <td>0.0</td>\n",
       "      <td>-9.999</td>\n",
       "      <td>9999.0</td>\n",
       "      <td>12603.0</td>\n",
       "      <td>0.0</td>\n",
       "      <td>35.0</td>\n",
       "      <td>0.05</td>\n",
       "      <td>24.9</td>\n",
       "      <td>0.0</td>\n",
       "      <td>5.649</td>\n",
       "      <td>0.0</td>\n",
       "      <td>-9.999,-9.999,-9.999,-9.999,-9.999,-9.999,-9.9...</td>\n",
       "      <td>00.000,00.000,00.000,00.000,00.000,00.000,00.0...</td>\n",
       "      <td>000,000,000,000,000,000,000,000,000,000,000,00...</td>\n",
       "      <td>2018-01-08 12:46:01</td>\n",
       "    </tr>\n",
       "    <tr>\n",
       "      <th>4</th>\n",
       "      <td>0.0</td>\n",
       "      <td>56.490002</td>\n",
       "      <td>0.0</td>\n",
       "      <td>0.0</td>\n",
       "      <td>-9.999</td>\n",
       "      <td>9999.0</td>\n",
       "      <td>12606.0</td>\n",
       "      <td>0.0</td>\n",
       "      <td>34.0</td>\n",
       "      <td>0.06</td>\n",
       "      <td>24.9</td>\n",
       "      <td>0.0</td>\n",
       "      <td>5.649</td>\n",
       "      <td>0.0</td>\n",
       "      <td>-9.999,-9.999,-9.999,-9.999,-9.999,-9.999,-9.9...</td>\n",
       "      <td>00.000,00.000,00.000,00.000,00.000,00.000,00.0...</td>\n",
       "      <td>000,000,000,000,000,000,000,000,000,000,000,00...</td>\n",
       "      <td>2018-01-08 12:46:31</td>\n",
       "    </tr>\n",
       "    <tr>\n",
       "      <th>...</th>\n",
       "      <td>...</td>\n",
       "      <td>...</td>\n",
       "      <td>...</td>\n",
       "      <td>...</td>\n",
       "      <td>...</td>\n",
       "      <td>...</td>\n",
       "      <td>...</td>\n",
       "      <td>...</td>\n",
       "      <td>...</td>\n",
       "      <td>...</td>\n",
       "      <td>...</td>\n",
       "      <td>...</td>\n",
       "      <td>...</td>\n",
       "      <td>...</td>\n",
       "      <td>...</td>\n",
       "      <td>...</td>\n",
       "      <td>...</td>\n",
       "      <td>...</td>\n",
       "    </tr>\n",
       "    <tr>\n",
       "      <th>4736</th>\n",
       "      <td>0.0</td>\n",
       "      <td>56.709999</td>\n",
       "      <td>0.0</td>\n",
       "      <td>0.0</td>\n",
       "      <td>-9.999</td>\n",
       "      <td>9999.0</td>\n",
       "      <td>11059.0</td>\n",
       "      <td>0.0</td>\n",
       "      <td>15.0</td>\n",
       "      <td>0.06</td>\n",
       "      <td>24.9</td>\n",
       "      <td>0.0</td>\n",
       "      <td>5.671</td>\n",
       "      <td>0.0</td>\n",
       "      <td>-9.999,-9.999,-9.999,-9.999,-9.999,-9.999,-9.9...</td>\n",
       "      <td>00.000,00.000,00.000,00.000,00.000,00.000,00.0...</td>\n",
       "      <td>000,000,000,000,000,000,000,000,000,000,000,00...</td>\n",
       "      <td>2018-03-08 04:13:25</td>\n",
       "    </tr>\n",
       "    <tr>\n",
       "      <th>4737</th>\n",
       "      <td>0.0</td>\n",
       "      <td>56.709999</td>\n",
       "      <td>0.0</td>\n",
       "      <td>0.0</td>\n",
       "      <td>-9.999</td>\n",
       "      <td>9999.0</td>\n",
       "      <td>11175.0</td>\n",
       "      <td>0.0</td>\n",
       "      <td>15.0</td>\n",
       "      <td>0.06</td>\n",
       "      <td>24.9</td>\n",
       "      <td>0.0</td>\n",
       "      <td>5.671</td>\n",
       "      <td>0.0</td>\n",
       "      <td>-9.999,-9.999,-9.999,-9.999,-9.999,-9.999,-9.9...</td>\n",
       "      <td>00.000,00.000,00.000,00.000,00.000,00.000,00.0...</td>\n",
       "      <td>000,000,000,000,000,000,000,000,000,000,000,00...</td>\n",
       "      <td>2018-03-08 04:13:56</td>\n",
       "    </tr>\n",
       "    <tr>\n",
       "      <th>4738</th>\n",
       "      <td>0.0</td>\n",
       "      <td>56.709999</td>\n",
       "      <td>0.0</td>\n",
       "      <td>0.0</td>\n",
       "      <td>-9.999</td>\n",
       "      <td>9999.0</td>\n",
       "      <td>11275.0</td>\n",
       "      <td>0.0</td>\n",
       "      <td>15.0</td>\n",
       "      <td>0.06</td>\n",
       "      <td>24.9</td>\n",
       "      <td>0.0</td>\n",
       "      <td>5.671</td>\n",
       "      <td>0.0</td>\n",
       "      <td>-9.999,-9.999,-9.999,-9.999,-9.999,-9.999,-9.9...</td>\n",
       "      <td>00.000,00.000,00.000,00.000,00.000,00.000,00.0...</td>\n",
       "      <td>000,000,000,000,000,000,000,000,000,000,000,00...</td>\n",
       "      <td>2018-03-08 04:14:26</td>\n",
       "    </tr>\n",
       "    <tr>\n",
       "      <th>4739</th>\n",
       "      <td>0.0</td>\n",
       "      <td>56.709999</td>\n",
       "      <td>0.0</td>\n",
       "      <td>0.0</td>\n",
       "      <td>-9.999</td>\n",
       "      <td>9999.0</td>\n",
       "      <td>11361.0</td>\n",
       "      <td>0.0</td>\n",
       "      <td>15.0</td>\n",
       "      <td>0.06</td>\n",
       "      <td>24.9</td>\n",
       "      <td>0.0</td>\n",
       "      <td>5.671</td>\n",
       "      <td>0.0</td>\n",
       "      <td>-9.999,-9.999,-9.999,-9.999,-9.999,-9.999,-9.9...</td>\n",
       "      <td>00.000,00.000,00.000,00.000,00.000,00.000,00.0...</td>\n",
       "      <td>000,000,000,000,000,000,000,000,000,000,000,00...</td>\n",
       "      <td>2018-03-08 04:14:55</td>\n",
       "    </tr>\n",
       "    <tr>\n",
       "      <th>4740</th>\n",
       "      <td>0.0</td>\n",
       "      <td>56.709999</td>\n",
       "      <td>0.0</td>\n",
       "      <td>0.0</td>\n",
       "      <td>-9.999</td>\n",
       "      <td>9999.0</td>\n",
       "      <td>11492.0</td>\n",
       "      <td>0.0</td>\n",
       "      <td>15.0</td>\n",
       "      <td>0.07</td>\n",
       "      <td>24.9</td>\n",
       "      <td>0.0</td>\n",
       "      <td>5.671</td>\n",
       "      <td>0.0</td>\n",
       "      <td>-9.999,-9.999,-9.999,-9.999,-9.999,-9.999,-9.9...</td>\n",
       "      <td>00.000,00.000,00.000,00.000,00.000,00.000,00.0...</td>\n",
       "      <td>000,000,000,000,000,000,000,000,000,000,000,00...</td>\n",
       "      <td>2018-03-08 04:15:25</td>\n",
       "    </tr>\n",
       "  </tbody>\n",
       "</table>\n",
       "<p>4741 rows × 18 columns</p>\n",
       "</div>"
      ],
      "text/plain": [
       "      rainfall_rate_32bit  rainfall_accumulated_32bit   \n",
       "0                     0.0                   56.490002  \\\n",
       "1                     0.0                   56.490002   \n",
       "2                     0.0                   56.490002   \n",
       "3                     0.0                   56.490002   \n",
       "4                     0.0                   56.490002   \n",
       "...                   ...                         ...   \n",
       "4736                  0.0                   56.709999   \n",
       "4737                  0.0                   56.709999   \n",
       "4738                  0.0                   56.709999   \n",
       "4739                  0.0                   56.709999   \n",
       "4740                  0.0                   56.709999   \n",
       "\n",
       "      weather_code_synop_4680  weather_code_synop_4677  reflectivity_32bit   \n",
       "0                         0.0                      0.0              -9.999  \\\n",
       "1                         0.0                      0.0              -9.999   \n",
       "2                         0.0                      0.0              -9.999   \n",
       "3                         0.0                      0.0              -9.999   \n",
       "4                         0.0                      0.0              -9.999   \n",
       "...                       ...                      ...                 ...   \n",
       "4736                      0.0                      0.0              -9.999   \n",
       "4737                      0.0                      0.0              -9.999   \n",
       "4738                      0.0                      0.0              -9.999   \n",
       "4739                      0.0                      0.0              -9.999   \n",
       "4740                      0.0                      0.0              -9.999   \n",
       "\n",
       "      mor_visibility  laser_amplitude  number_particles  sensor_temperature   \n",
       "0             9999.0          12611.0               0.0                35.0  \\\n",
       "1             9999.0          12617.0               0.0                35.0   \n",
       "2             9999.0          12600.0               0.0                35.0   \n",
       "3             9999.0          12603.0               0.0                35.0   \n",
       "4             9999.0          12606.0               0.0                34.0   \n",
       "...              ...              ...               ...                 ...   \n",
       "4736          9999.0          11059.0               0.0                15.0   \n",
       "4737          9999.0          11175.0               0.0                15.0   \n",
       "4738          9999.0          11275.0               0.0                15.0   \n",
       "4739          9999.0          11361.0               0.0                15.0   \n",
       "4740          9999.0          11492.0               0.0                15.0   \n",
       "\n",
       "      sensor_heating_current  sensor_battery_voltage  sensor_status   \n",
       "0                       0.06                    24.9            0.0  \\\n",
       "1                       0.06                    24.9            0.0   \n",
       "2                       0.06                    24.9            0.0   \n",
       "3                       0.05                    24.9            0.0   \n",
       "4                       0.06                    24.9            0.0   \n",
       "...                      ...                     ...            ...   \n",
       "4736                    0.06                    24.9            0.0   \n",
       "4737                    0.06                    24.9            0.0   \n",
       "4738                    0.06                    24.9            0.0   \n",
       "4739                    0.06                    24.9            0.0   \n",
       "4740                    0.07                    24.9            0.0   \n",
       "\n",
       "      rainfall_amount_absolute_32bit  error_code   \n",
       "0                              5.649         0.0  \\\n",
       "1                              5.649         0.0   \n",
       "2                              5.649         0.0   \n",
       "3                              5.649         0.0   \n",
       "4                              5.649         0.0   \n",
       "...                              ...         ...   \n",
       "4736                           5.671         0.0   \n",
       "4737                           5.671         0.0   \n",
       "4738                           5.671         0.0   \n",
       "4739                           5.671         0.0   \n",
       "4740                           5.671         0.0   \n",
       "\n",
       "                                 raw_drop_concentration   \n",
       "0     -9.999,-9.999,-9.999,-9.999,-9.999,-9.999,-9.9...  \\\n",
       "1     -9.999,-9.999,-9.999,-9.999,-9.999,-9.999,-9.9...   \n",
       "2     -9.999,-9.999,-9.999,-9.999,-9.999,-9.999,-9.9...   \n",
       "3     -9.999,-9.999,-9.999,-9.999,-9.999,-9.999,-9.9...   \n",
       "4     -9.999,-9.999,-9.999,-9.999,-9.999,-9.999,-9.9...   \n",
       "...                                                 ...   \n",
       "4736  -9.999,-9.999,-9.999,-9.999,-9.999,-9.999,-9.9...   \n",
       "4737  -9.999,-9.999,-9.999,-9.999,-9.999,-9.999,-9.9...   \n",
       "4738  -9.999,-9.999,-9.999,-9.999,-9.999,-9.999,-9.9...   \n",
       "4739  -9.999,-9.999,-9.999,-9.999,-9.999,-9.999,-9.9...   \n",
       "4740  -9.999,-9.999,-9.999,-9.999,-9.999,-9.999,-9.9...   \n",
       "\n",
       "                              raw_drop_average_velocity   \n",
       "0     00.000,00.000,00.000,00.000,00.000,00.000,00.0...  \\\n",
       "1     00.000,00.000,00.000,00.000,00.000,00.000,00.0...   \n",
       "2     00.000,00.000,00.000,00.000,00.000,00.000,00.0...   \n",
       "3     00.000,00.000,00.000,00.000,00.000,00.000,00.0...   \n",
       "4     00.000,00.000,00.000,00.000,00.000,00.000,00.0...   \n",
       "...                                                 ...   \n",
       "4736  00.000,00.000,00.000,00.000,00.000,00.000,00.0...   \n",
       "4737  00.000,00.000,00.000,00.000,00.000,00.000,00.0...   \n",
       "4738  00.000,00.000,00.000,00.000,00.000,00.000,00.0...   \n",
       "4739  00.000,00.000,00.000,00.000,00.000,00.000,00.0...   \n",
       "4740  00.000,00.000,00.000,00.000,00.000,00.000,00.0...   \n",
       "\n",
       "                                        raw_drop_number                time  \n",
       "0     000,000,000,000,000,000,000,000,000,000,000,00... 2018-01-08 12:44:30  \n",
       "1     000,000,000,000,000,000,000,000,000,000,000,00... 2018-01-08 12:45:01  \n",
       "2     000,000,000,000,000,000,000,000,000,000,000,00... 2018-01-08 12:45:30  \n",
       "3     000,000,000,000,000,000,000,000,000,000,000,00... 2018-01-08 12:46:01  \n",
       "4     000,000,000,000,000,000,000,000,000,000,000,00... 2018-01-08 12:46:31  \n",
       "...                                                 ...                 ...  \n",
       "4736  000,000,000,000,000,000,000,000,000,000,000,00... 2018-03-08 04:13:25  \n",
       "4737  000,000,000,000,000,000,000,000,000,000,000,00... 2018-03-08 04:13:56  \n",
       "4738  000,000,000,000,000,000,000,000,000,000,000,00... 2018-03-08 04:14:26  \n",
       "4739  000,000,000,000,000,000,000,000,000,000,000,00... 2018-03-08 04:14:55  \n",
       "4740  000,000,000,000,000,000,000,000,000,000,000,00... 2018-03-08 04:15:25  \n",
       "\n",
       "[4741 rows x 18 columns]"
      ]
     },
     "metadata": {},
     "output_type": "display_data"
    }
   ],
   "source": [
    "subset_filepaths = filepaths[:1]\n",
    "\n",
    "df = read_raw_files(\n",
    "    filepaths=subset_filepaths,\n",
    "    column_names=column_names,\n",
    "    reader_kwargs=reader_kwargs,\n",
    "    sensor_name=sensor_name,\n",
    "    verbose=verbose,\n",
    "    df_sanitizer_fun=df_sanitizer_fun,\n",
    ")\n",
    "display(df)"
   ]
  },
  {
   "cell_type": "markdown",
   "id": "5d973992396c4b758db40b17e80dc1fc",
   "metadata": {},
   "source": [
    "Here we derive the corresponding `xr.Dataset` object "
   ]
  },
  {
   "cell_type": "code",
   "execution_count": 40,
   "id": "1c9cbe9d9a794dbd8aaa1fa72bce99a9",
   "metadata": {},
   "outputs": [
    {
     "name": "stdout",
     "output_type": "stream",
     "text": [
      "<xarray.Dataset>\n",
      "Dimensions:                         (time: 4741, diameter_bin_center: 32,\n",
      "                                     velocity_bin_center: 32, crs: 1)\n",
      "Coordinates: (12/13)\n",
      "  * diameter_bin_center             (diameter_bin_center) float64 0.062 ... 24.5\n",
      "    diameter_bin_lower              (diameter_bin_center) float64 0.0 ... 23.0\n",
      "    diameter_bin_upper              (diameter_bin_center) float64 0.1245 ... ...\n",
      "    diameter_bin_width              (diameter_bin_center) float64 0.125 ... 3.0\n",
      "  * velocity_bin_center             (velocity_bin_center) float64 0.05 ... 20.8\n",
      "    velocity_bin_lower              (velocity_bin_center) float64 0.0 ... 19.2\n",
      "    ...                              ...\n",
      "    velocity_bin_width              (velocity_bin_center) float64 0.1 ... 3.2\n",
      "  * time                            (time) datetime64[ns] 2018-01-08T12:44:30...\n",
      "    latitude                        float64 46.2\n",
      "    longitude                       float64 8.792\n",
      "    altitude                        int64 1671\n",
      "  * crs                             (crs) <U5 'WGS84'\n",
      "Data variables: (12/17)\n",
      "    raw_drop_concentration          (time, diameter_bin_center) float64 0.0 ....\n",
      "    raw_drop_average_velocity       (time, velocity_bin_center) float64 0.0 ....\n",
      "    raw_drop_number                 (time, diameter_bin_center, velocity_bin_center) float64 ...\n",
      "    rainfall_rate_32bit             (time) float32 0.0 0.0 0.0 ... 0.0 0.0 0.0\n",
      "    rainfall_accumulated_32bit      (time) float32 56.49 56.49 ... 56.71 56.71\n",
      "    weather_code_synop_4680         (time) float32 0.0 0.0 0.0 ... 0.0 0.0 0.0\n",
      "    ...                              ...\n",
      "    sensor_temperature              (time) float32 35.0 35.0 35.0 ... 15.0 15.0\n",
      "    sensor_heating_current          (time) float32 0.06 0.06 0.06 ... 0.06 0.07\n",
      "    sensor_battery_voltage          (time) float32 24.9 24.9 24.9 ... 24.9 24.9\n",
      "    sensor_status                   (time) float32 0.0 0.0 0.0 ... 0.0 0.0 0.0\n",
      "    rainfall_amount_absolute_32bit  (time) float32 5.649 5.649 ... 5.671 5.671\n",
      "    error_code                      (time) float32 0.0 0.0 0.0 ... 0.0 0.0 0.0\n",
      "Attributes: (12/61)\n",
      "    data_source:                     DATA_SOURCE\n",
      "    campaign_name:                   CAMPAIGN_NAME\n",
      "    station_name:                    station_name_1\n",
      "    sensor_name:                     OTT_Parsivel\n",
      "    reader:                          EPFL/LOCARNO_2018\n",
      "    raw_data_format:                 raw\n",
      "    ...                              ...\n",
      "    time_coverage_start:             2018-01-08T12:44:30.000000000\n",
      "    time_coverage_end:               2018-03-08T04:15:25.000000000\n",
      "    disdrodb_processing_date:        2023-12-01 13:36:52\n",
      "    disdrodb_product_version:        V0\n",
      "    disdrodb_software_version:       V0.0.18.dev57+g8911365.d20231103\n",
      "    disdrodb_product:                L0B\n"
     ]
    },
    {
     "name": "stderr",
     "output_type": "stream",
     "text": [
      "/home/ghiggi/Python_Packages/disdrodb/disdrodb/l0/l0b_processing.py:475: UserWarning: Converting non-nanosecond precision datetime values to nanosecond precision. This behavior can eventually be relaxed in xarray, as it is an artifact from pandas which is now beginning to support non-nanosecond precision values. This warning is caused by passing non-nanosecond np.datetime64 or np.timedelta64 values to the DataArray or Variable constructor; it can be silenced by converting the values to nanosecond precision ahead of time.\n",
      "  ds = xr.Dataset(\n"
     ]
    }
   ],
   "source": [
    "ds = create_l0b_from_l0a(df, attrs, verbose=False)\n",
    "print(ds)"
   ]
  },
  {
   "cell_type": "markdown",
   "id": "b434e0d67d894725aa1f6d707a143313",
   "metadata": {},
   "source": [
    "which can be saved as DISDRODB L0B netCDF by running the following code:"
   ]
  },
  {
   "cell_type": "code",
   "execution_count": 41,
   "id": "594a68b434714bab9e1df903f88edcdd",
   "metadata": {},
   "outputs": [],
   "source": [
    "# ds = set_encodings(ds, sensor_name)\n",
    "# ds.to_netcdf(\"/path/where/to/save/the/file.nc\")"
   ]
  },
  {
   "cell_type": "markdown",
   "id": "4d59fedcae41437686ad1a71a1884d48",
   "metadata": {},
   "source": [
    "## Step 2 : Create the reader"
   ]
  },
  {
   "cell_type": "markdown",
   "id": "74a36f4709894f8e822f9c383b5c8674",
   "metadata": {},
   "source": [
    "Now we have all the parameters required to define a DISDRODB reader.\n",
    "All the DISDRODB reader parameters that we defined in this notebook must be transcribed into the reader function you are developing:\n",
    " "
   ]
  },
  {
   "cell_type": "markdown",
   "id": "13e578e05204494e9a74b868b4a9c0da",
   "metadata": {},
   "source": [
    "\n",
    "1. **Update the** `glob_pattern` **string**\n",
    "\n",
    "   Before :\n",
    "\n",
    "    ``` python\n",
    "        glob_patterns = \"*\" \n",
    "    ```\n",
    "\n",
    "    After :\n",
    "\n",
    "    ``` python\n",
    "        glob_pattern = \"*.dat*\"\n",
    "    ```\n"
   ]
  },
  {
   "cell_type": "markdown",
   "id": "472c087bdaf047c4bd2daf3102168774",
   "metadata": {},
   "source": [
    "2. **Update the** `columns_names` **list**\n",
    "\n",
    "   Before :\n",
    "\n",
    "    ``` python\n",
    "        column_names = []\n",
    "    ```\n",
    "    \n",
    "    After : \n",
    "\n",
    "    ``` python\n",
    "        column_names = [\n",
    "            \"unknown1\",\n",
    "            \"unknown2\",\n",
    "            \"unknown3\",\n",
    "            \"timestep\",\n",
    "            \"unknown4\",\n",
    "            \"unknown5\",\n",
    "            \"rainfall_rate_32bit\",\n",
    "            \"rainfall_accumulated_32bit\",\n",
    "            \"weather_code_synop_4680\",\n",
    "            \"weather_code_synop_4677\",\n",
    "            \"reflectivity_32bit\",\n",
    "            \"mor_visibility\",\n",
    "            \"laser_amplitude\",\n",
    "            \"number_particles\",\n",
    "            \"sensor_temperature\",\n",
    "            \"sensor_heating_current\",\n",
    "            \"sensor_battery_voltage\",\n",
    "            \"sensor_status\",\n",
    "            \"rainfall_amount_absolute_32bit\",\n",
    "            \"error_code\",\n",
    "            \"raw_drop_concentration\",\n",
    "            \"raw_drop_average_velocity\",\n",
    "            \"raw_drop_number\",\n",
    "            \"unknown6\",\n",
    "        ]\n",
    "    ```"
   ]
  },
  {
   "cell_type": "markdown",
   "id": "c11e5ea01d13400882806a9c4ab303ae",
   "metadata": {},
   "source": [
    "3. **Update the** `reader_kwargs` **"
   ]
  },
  {
   "cell_type": "markdown",
   "id": "a0755c77c2af48ad9c17a637f99c96f7",
   "metadata": {},
   "source": [
    "dictionary**\n",
    "\n",
    "    Before :\n",
    "\n",
    "    ``` python\n",
    "        reader_kwargs = {}\n",
    "\n",
    "    ```\n",
    "    \n",
    "    After : \n",
    "\n",
    "    ``` python\n",
    "        reader_kwargs = {}\n",
    "\n",
    "        # - Define delimiter\n",
    "        reader_kwargs[\"delimiter\"] = \",\"\n",
    "\n",
    "        # - Avoid first column to become df index !!!\n",
    "        reader_kwargs[\"index_col\"] = False\n",
    "\n",
    "        # Since column names are expected to be passed explicitly, header is set to None\n",
    "        reader_kwargs['header'] = None\n",
    "\n",
    "        # - Number of rows to be skipped at the beginning of the file \n",
    "        reader_kwargs['skiprows']= None\n",
    "\n",
    "        # - Define behaviour when encountering bad lines\n",
    "        reader_kwargs[\"on_bad_lines\"] = \"skip\"\n",
    "\n",
    "        # - Define reader engine\n",
    "        #   - C engine is faster\n",
    "        #   - Python engine is more feature-complete\n",
    "        reader_kwargs[\"engine\"] = \"python\"\n",
    "\n",
    "        # - Define on-the-fly decompression of on-disk data\n",
    "        #   - Available: gzip, bz2, zip\n",
    "        reader_kwargs[\"compression\"] = \"infer\"\n",
    "\n",
    "        # - Strings to recognize as NA/NaN and replace with standard NA flags\n",
    "        #   - Already included: '#N/A’, '#N/A N/A’, '#NA’, '-1.#IND’, '-1.#QNAN’,\n",
    "        #                       '-NaN’, '-nan’, '1.#IND’, '1.#QNAN’, '<NA>’, 'N/A’,\n",
    "        #                       'NA’, 'NULL’, 'NaN’, 'n/a’, 'nan’, 'null’\n",
    "        reader_kwargs[\"na_values\"] = [\"na\", \"\", \"error\"]\n",
    "\n",
    "    ```\n"
   ]
  },
  {
   "cell_type": "markdown",
   "id": "c01db64ab1c14c5599cb15ec16f03e31",
   "metadata": {},
   "source": [
    "4. **Update the** `df_sanitizer_fun()` **function**\n",
    "\n",
    "   Before:\n",
    "\n",
    "    ``` python\n",
    "\n",
    "        def df_sanitizer_fun(df):\n",
    "            # - Import dask or pandas\n",
    "            import pandas as pd\n",
    "                    \n",
    "            # - Add here below the reader required custom code\n",
    "            pass\n",
    "        \n",
    "            # - Return the dataframe \n",
    "            return df\n",
    "        \n",
    "    ```\n",
    "    \n",
    "    After : \n",
    "\n",
    "    ``` python\n",
    "        def df_sanitizer_fun(df):\n",
    "            # Import pandas\n",
    "            import pandas as pd\n",
    "\n",
    "            # - Drop unvalid columns\n",
    "            columns_to_drop = [\"unknown1\", \"unknown2\", \"unknown3\",\"unknown4\",'unknown5','unknown6']\n",
    "            df = df.drop(columns=columns_to_drop)\n",
    "\n",
    "            # - Convert timestep column to datetime format\n",
    "            df[\"time\"] = pd.to_datetime(df[\"timestep\"], format=\"%m-%d-%Y %H:%M:%S\")\n",
    "            df = df.drop(columns=[\"timestep\"])\n",
    "            \n",
    "            # - Return the dataframe \n",
    "            return df\n",
    "        \n",
    "    ```"
   ]
  },
  {
   "cell_type": "markdown",
   "id": "f9ba92a60e8d4a7c9e00b1317491f415",
   "metadata": {},
   "source": [
    "You arrived at the end of the tutorial. Well done 👋👋👋 \n",
    "\n",
    "At this point, you should now be able to create a new reader for your own data.\n",
    "When you think your reader is ready, you can test it following the [Test the DISDRODB L0 processsing](https://disdrodb.readthedocs.io/en/latest/contribute_data.html#step-8-test-the-disdrodb-l0-processing) documentation of the [How to Contribute New Data to DISDRODB](https://disdrodb.readthedocs.io/en/latest/contribute_data.html) guidelines.\n",
    "\n",
    "Do not hesitate to open a [GitHub Issue](https://github.com/ltelab/disdrodb/issues) if you need any clarification. \n",
    "\n",
    "The DISDRODB team hope you enjoyed this tutorial "
   ]
  },
  {
   "cell_type": "markdown",
   "id": "8b9c4a8a72cf4b1f8d918f50ea71471d",
   "metadata": {},
   "source": []
  }
 ],
 "metadata": {
  "kernelspec": {
   "display_name": "Python 3",
   "language": "python",
   "name": "python3"
  },
  "language_info": {
   "codemirror_mode": {
    "name": "ipython",
    "version": 3
   },
   "file_extension": ".py",
   "mimetype": "text/x-python",
   "name": "python",
   "nbconvert_exporter": "python",
   "pygments_lexer": "ipython3",
   "version": "3.11.3"
  }
 },
 "nbformat": 4,
 "nbformat_minor": 5
}
